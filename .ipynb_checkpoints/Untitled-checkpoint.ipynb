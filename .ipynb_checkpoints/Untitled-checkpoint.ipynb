{
 "cells": [
  {
   "cell_type": "code",
   "execution_count": 1,
   "id": "71b87f08-5ec8-455e-acc4-cae06b2141e0",
   "metadata": {},
   "outputs": [
    {
     "name": "stdout",
     "output_type": "stream",
     "text": [
      "zsh:1: command not found: python\n"
     ]
    }
   ],
   "source": [
    "!python main.py"
   ]
  },
  {
   "cell_type": "code",
   "execution_count": 2,
   "id": "612feec8-714c-4a7a-a190-bd5c12555780",
   "metadata": {},
   "outputs": [
    {
     "name": "stdout",
     "output_type": "stream",
     "text": [
      "Traceback (most recent call last):\n",
      "  File \u001b[35m\"/Library/Frameworks/Python.framework/Versions/3.13/lib/python3.13/site-packages/urllib3/connection.py\"\u001b[0m, line \u001b[35m198\u001b[0m, in \u001b[35m_new_conn\u001b[0m\n",
      "    sock = connection.create_connection(\n",
      "        (self._dns_host, self.port),\n",
      "    ...<2 lines>...\n",
      "        socket_options=self.socket_options,\n",
      "    )\n",
      "  File \u001b[35m\"/Library/Frameworks/Python.framework/Versions/3.13/lib/python3.13/site-packages/urllib3/util/connection.py\"\u001b[0m, line \u001b[35m60\u001b[0m, in \u001b[35mcreate_connection\u001b[0m\n",
      "    for res in \u001b[31msocket.getaddrinfo\u001b[0m\u001b[1;31m(host, port, family, socket.SOCK_STREAM)\u001b[0m:\n",
      "               \u001b[31m~~~~~~~~~~~~~~~~~~\u001b[0m\u001b[1;31m^^^^^^^^^^^^^^^^^^^^^^^^^^^^^^^^^^^^^^^^\u001b[0m\n",
      "  File \u001b[35m\"/Library/Frameworks/Python.framework/Versions/3.13/lib/python3.13/socket.py\"\u001b[0m, line \u001b[35m977\u001b[0m, in \u001b[35mgetaddrinfo\u001b[0m\n",
      "    for res in \u001b[31m_socket.getaddrinfo\u001b[0m\u001b[1;31m(host, port, family, type, proto, flags)\u001b[0m:\n",
      "               \u001b[31m~~~~~~~~~~~~~~~~~~~\u001b[0m\u001b[1;31m^^^^^^^^^^^^^^^^^^^^^^^^^^^^^^^^^^^^^^^^\u001b[0m\n",
      "\u001b[1;35msocket.gaierror\u001b[0m: \u001b[35m[Errno 8] nodename nor servname provided, or not known\u001b[0m\n",
      "\n",
      "The above exception was the direct cause of the following exception:\n",
      "\n",
      "Traceback (most recent call last):\n",
      "  File \u001b[35m\"/Library/Frameworks/Python.framework/Versions/3.13/lib/python3.13/site-packages/urllib3/connectionpool.py\"\u001b[0m, line \u001b[35m787\u001b[0m, in \u001b[35murlopen\u001b[0m\n",
      "    response = self._make_request(\n",
      "        conn,\n",
      "    ...<10 lines>...\n",
      "        **response_kw,\n",
      "    )\n",
      "  File \u001b[35m\"/Library/Frameworks/Python.framework/Versions/3.13/lib/python3.13/site-packages/urllib3/connectionpool.py\"\u001b[0m, line \u001b[35m488\u001b[0m, in \u001b[35m_make_request\u001b[0m\n",
      "    raise new_e\n",
      "  File \u001b[35m\"/Library/Frameworks/Python.framework/Versions/3.13/lib/python3.13/site-packages/urllib3/connectionpool.py\"\u001b[0m, line \u001b[35m464\u001b[0m, in \u001b[35m_make_request\u001b[0m\n",
      "    \u001b[31mself._validate_conn\u001b[0m\u001b[1;31m(conn)\u001b[0m\n",
      "    \u001b[31m~~~~~~~~~~~~~~~~~~~\u001b[0m\u001b[1;31m^^^^^^\u001b[0m\n",
      "  File \u001b[35m\"/Library/Frameworks/Python.framework/Versions/3.13/lib/python3.13/site-packages/urllib3/connectionpool.py\"\u001b[0m, line \u001b[35m1093\u001b[0m, in \u001b[35m_validate_conn\u001b[0m\n",
      "    \u001b[31mconn.connect\u001b[0m\u001b[1;31m()\u001b[0m\n",
      "    \u001b[31m~~~~~~~~~~~~\u001b[0m\u001b[1;31m^^\u001b[0m\n",
      "  File \u001b[35m\"/Library/Frameworks/Python.framework/Versions/3.13/lib/python3.13/site-packages/urllib3/connection.py\"\u001b[0m, line \u001b[35m704\u001b[0m, in \u001b[35mconnect\u001b[0m\n",
      "    self.sock = sock = \u001b[31mself._new_conn\u001b[0m\u001b[1;31m()\u001b[0m\n",
      "                       \u001b[31m~~~~~~~~~~~~~~\u001b[0m\u001b[1;31m^^\u001b[0m\n",
      "  File \u001b[35m\"/Library/Frameworks/Python.framework/Versions/3.13/lib/python3.13/site-packages/urllib3/connection.py\"\u001b[0m, line \u001b[35m205\u001b[0m, in \u001b[35m_new_conn\u001b[0m\n",
      "    raise NameResolutionError(self.host, self, e) from e\n",
      "\u001b[1;35murllib3.exceptions.NameResolutionError\u001b[0m: \u001b[35m<urllib3.connection.HTTPSConnection object at 0x1090a7770>: Failed to resolve 'api.example.com' ([Errno 8] nodename nor servname provided, or not known)\u001b[0m\n",
      "\n",
      "The above exception was the direct cause of the following exception:\n",
      "\n",
      "Traceback (most recent call last):\n",
      "  File \u001b[35m\"/Library/Frameworks/Python.framework/Versions/3.13/lib/python3.13/site-packages/requests/adapters.py\"\u001b[0m, line \u001b[35m667\u001b[0m, in \u001b[35msend\u001b[0m\n",
      "    resp = conn.urlopen(\n",
      "        method=request.method,\n",
      "    ...<9 lines>...\n",
      "        chunked=chunked,\n",
      "    )\n",
      "  File \u001b[35m\"/Library/Frameworks/Python.framework/Versions/3.13/lib/python3.13/site-packages/urllib3/connectionpool.py\"\u001b[0m, line \u001b[35m841\u001b[0m, in \u001b[35murlopen\u001b[0m\n",
      "    retries = retries.increment(\n",
      "        method, url, error=new_e, _pool=self, _stacktrace=sys.exc_info()[2]\n",
      "    )\n",
      "  File \u001b[35m\"/Library/Frameworks/Python.framework/Versions/3.13/lib/python3.13/site-packages/urllib3/util/retry.py\"\u001b[0m, line \u001b[35m519\u001b[0m, in \u001b[35mincrement\u001b[0m\n",
      "    \u001b[1;31mraise MaxRetryError(_pool, url, reason) from reason\u001b[0m  # type: ignore[arg-type]\n",
      "    \u001b[1;31m^^^^^^^^^^^^^^^^^^^^^^^^^^^^^^^^^^^^^^^^^^^^^^^^^^^\u001b[0m\n",
      "\u001b[1;35murllib3.exceptions.MaxRetryError\u001b[0m: \u001b[35mHTTPSConnectionPool(host='api.example.com', port=443): Max retries exceeded with url: /data (Caused by NameResolutionError(\"<urllib3.connection.HTTPSConnection object at 0x1090a7770>: Failed to resolve 'api.example.com' ([Errno 8] nodename nor servname provided, or not known)\"))\u001b[0m\n",
      "\n",
      "During handling of the above exception, another exception occurred:\n",
      "\n",
      "Traceback (most recent call last):\n",
      "  File \u001b[35m\"/Users/j.ensley/Documents/PPTMaker/main.py\"\u001b[0m, line \u001b[35m8\u001b[0m, in \u001b[35m<module>\u001b[0m\n",
      "    response = requests.get(\"https://api.example.com/data\")\n",
      "  File \u001b[35m\"/Library/Frameworks/Python.framework/Versions/3.13/lib/python3.13/site-packages/requests/api.py\"\u001b[0m, line \u001b[35m73\u001b[0m, in \u001b[35mget\u001b[0m\n",
      "    return request(\"get\", url, params=params, **kwargs)\n",
      "  File \u001b[35m\"/Library/Frameworks/Python.framework/Versions/3.13/lib/python3.13/site-packages/requests/api.py\"\u001b[0m, line \u001b[35m59\u001b[0m, in \u001b[35mrequest\u001b[0m\n",
      "    return \u001b[31msession.request\u001b[0m\u001b[1;31m(method=method, url=url, **kwargs)\u001b[0m\n",
      "           \u001b[31m~~~~~~~~~~~~~~~\u001b[0m\u001b[1;31m^^^^^^^^^^^^^^^^^^^^^^^^^^^^^^^^^^\u001b[0m\n",
      "  File \u001b[35m\"/Library/Frameworks/Python.framework/Versions/3.13/lib/python3.13/site-packages/requests/sessions.py\"\u001b[0m, line \u001b[35m589\u001b[0m, in \u001b[35mrequest\u001b[0m\n",
      "    resp = self.send(prep, **send_kwargs)\n",
      "  File \u001b[35m\"/Library/Frameworks/Python.framework/Versions/3.13/lib/python3.13/site-packages/requests/sessions.py\"\u001b[0m, line \u001b[35m703\u001b[0m, in \u001b[35msend\u001b[0m\n",
      "    r = adapter.send(request, **kwargs)\n",
      "  File \u001b[35m\"/Library/Frameworks/Python.framework/Versions/3.13/lib/python3.13/site-packages/requests/adapters.py\"\u001b[0m, line \u001b[35m700\u001b[0m, in \u001b[35msend\u001b[0m\n",
      "    raise ConnectionError(e, request=request)\n",
      "\u001b[1;35mrequests.exceptions.ConnectionError\u001b[0m: \u001b[35mHTTPSConnectionPool(host='api.example.com', port=443): Max retries exceeded with url: /data (Caused by NameResolutionError(\"<urllib3.connection.HTTPSConnection object at 0x1090a7770>: Failed to resolve 'api.example.com' ([Errno 8] nodename nor servname provided, or not known)\"))\u001b[0m\n"
     ]
    }
   ],
   "source": [
    "!python3 main.py"
   ]
  },
  {
   "cell_type": "code",
   "execution_count": 4,
   "id": "5df80cb3-a930-4a17-ab24-27b82d0899be",
   "metadata": {},
   "outputs": [],
   "source": [
    "!python3 main.py"
   ]
  },
  {
   "cell_type": "code",
   "execution_count": 5,
   "id": "ed2e1f4a-e2c1-4d2a-b143-757059567f78",
   "metadata": {},
   "outputs": [],
   "source": [
    "!python3 main.py"
   ]
  },
  {
   "cell_type": "code",
   "execution_count": 1,
   "id": "89b8d68c-470a-42bd-a0b4-2c65e42a96ea",
   "metadata": {},
   "outputs": [
    {
     "name": "stdout",
     "output_type": "stream",
     "text": [
      "zsh:1: command not found: python\n"
     ]
    }
   ],
   "source": [
    "!python main.py"
   ]
  },
  {
   "cell_type": "code",
   "execution_count": 2,
   "id": "8c6e349d-9897-4ce6-8218-207b4d7c1d04",
   "metadata": {},
   "outputs": [],
   "source": [
    "!python3 main.py"
   ]
  },
  {
   "cell_type": "code",
   "execution_count": 3,
   "id": "f245c5fd-1582-48be-aaf7-d939837328e2",
   "metadata": {},
   "outputs": [
    {
     "name": "stdout",
     "output_type": "stream",
     "text": [
      "Request failed with status 500\n"
     ]
    }
   ],
   "source": [
    "!python3 apitest.py"
   ]
  },
  {
   "cell_type": "code",
   "execution_count": 4,
   "id": "14b1434e-4e7c-4253-ae19-446cc3d174c4",
   "metadata": {},
   "outputs": [
    {
     "name": "stdout",
     "output_type": "stream",
     "text": [
      "{'metadata': {'totalItems': 1, 'query': \"\\nSELECT coalesce(retailer_name, 'Unknown') retailer_name,\\n       SUM(clicks) AS clicks,\\n       SUM(spend) AS spend,\\n       SUM(impressions) AS impressions\\nFROM\\n  (SELECT dr.retailer_name,\\n          SUM(CASE\\n                  WHEN dli.campaign_type_id = 1 THEN product_impressions\\n                  ELSE placement_impressions\\n              END) AS impressions,\\n          SUM(product_clicks) + sum(placement_clicks) AS clicks,\\n          SUM((placement_impressions_spend + frh.product_clicks_spend + ZEROIFNULL(frh.make_good_spend) + ZEROIFNULL(frh.value_add_spend) + ZEROIFNULL(billable_event_spend)) * coalesce(exchange_rate, 1)) AS spend\\n   FROM rmreporting.fact_revenue_hourly frh\\n   LEFT JOIN rmreporting.dim_line_item dli ON dli.line_item_id = frh.activity_line_item_id\\n   LEFT JOIN\\n     (SELECT source_currency_id,\\n             exchange_rate\\n      FROM rmreporting.fact_exchange_rate_daily\\n      WHERE date(utc_day) = date('2025-03-31')\\n        AND destination_currency_code = 'ZZZ' ) fer ON fer.source_currency_id = dli.account_currency_id\\n   LEFT JOIN rmreporting.dim_retailer dr ON dr.retailer_id = frh.activity_retailer_id\\n   WHERE date(frh.utc_time AT TIME ZONE 'UTC' ) BETWEEN date('2025-03-01') AND date('2025-03-31')\\n     AND date(frh.utc_time) BETWEEN date('2025-03-01') - interval '1' DAY AND date('2025-03-31') + interval '1' DAY\\n     AND frh.activity_retailer_id IN ('906')\\n     AND (dli.campaign_type_id IN ('1',\\n                                   '2')\\n          OR dli.campaign_type_id IS NULL)\\n     AND (frh.sale_type IN ('online',\\n                            'offline')\\n          OR frh.sale_type IS NULL)\\n     AND frh.source_name in ('billable_event',\\n                             'painted_product_impression',\\n                             'product_click',\\n                             'painted_placement_impression_expanded',\\n                             'placement_click')\\n     AND (frh.attribution_window IS NULL -- not an attribution row\\n\\n          OR (frh.attribution_window = dli.campaign_attribution_window -- attribution window based on campaign type\\n\\n              AND ((-- click with proper match level\\n COALESCE(frh.activity_type, 'click') = 'click'\\n                    AND dli.campaign_click_match_level >= COALESCE(frh.click_min_match_level, 10) -- 20 substituted for campaign_click_match_level\\n )\\n                   OR (-- non-click with proper match level\\n frh.activity_type <> 'click' -- this means the click match level is set too low for a click to override this view\\n\\n                       AND dli.campaign_click_match_level <= COALESCE(frh.view_max_match_level, 30) -- 20 substituted for campaign_click_match_level\\n -- this makes sure the view match level is set just right to select this view\\n\\n                       AND dli.campaign_view_match_level BETWEEN COALESCE(frh.view_min_match_level, 10) AND COALESCE(frh.view_max_match_level, 30) -- case statement substituted for campaign_view_match_level\\n ))))\\n   GROUP BY 1,\\n            dli.campaign_type_id) FINAL\\nGROUP BY 1\\nORDER BY 1 DESC\\nLIMIT 100000\"}, 'data': [{'retailer_name': 'Albertsons', 'impressions': 2105824277, 'clicks': 4219846, 'spend': 3857493.27, 'currency': 'USD', 'data_row_id': 1}]}\n"
     ]
    }
   ],
   "source": [
    "!python3 apitest.py"
   ]
  },
  {
   "cell_type": "code",
   "execution_count": 5,
   "id": "e6691908-8999-446f-af80-27e534918d73",
   "metadata": {},
   "outputs": [
    {
     "name": "stdout",
     "output_type": "stream",
     "text": [
      "Request failed with status 500\n",
      "Trying to extract user info under non authenticated route\n"
     ]
    }
   ],
   "source": [
    "!python3 main.py"
   ]
  },
  {
   "cell_type": "code",
   "execution_count": 6,
   "id": "ce672e13-4a7f-46c9-b550-9a2e8344d82e",
   "metadata": {},
   "outputs": [
    {
     "name": "stdout",
     "output_type": "stream",
     "text": [
      "Presentation updated successfully.\n"
     ]
    }
   ],
   "source": [
    "!python3 main.py"
   ]
  },
  {
   "cell_type": "code",
   "execution_count": 7,
   "id": "7adc69e2-af00-47fd-a216-c9ed40efca1d",
   "metadata": {},
   "outputs": [
    {
     "name": "stdout",
     "output_type": "stream",
     "text": [
      "  File \u001b[35m\"/Users/j.ensley/Documents/PPTMaker/main.py\"\u001b[0m, line \u001b[35m86\u001b[0m\n",
      "    \"{{ROAS}}\"\u001b[1;31m:\u001b[0m f\"{ROAS Demand:,}\",\n",
      "              \u001b[1;31m^\u001b[0m\n",
      "\u001b[1;35mSyntaxError\u001b[0m: \u001b[35minvalid syntax\u001b[0m\n"
     ]
    }
   ],
   "source": [
    "!python3 main.py"
   ]
  },
  {
   "cell_type": "code",
   "execution_count": 8,
   "id": "1b79843b-b796-4500-b5d8-fff846ad440b",
   "metadata": {},
   "outputs": [
    {
     "name": "stdout",
     "output_type": "stream",
     "text": [
      "  File \u001b[35m\"/Users/j.ensley/Documents/PPTMaker/main.py\"\u001b[0m, line \u001b[35m86\u001b[0m\n",
      "    \"{{ROAS}}\": f\"{\u001b[1;31mROAS Demand\u001b[0m:,}\",\n",
      "                   \u001b[1;31m^^^^^^^^^^^\u001b[0m\n",
      "\u001b[1;35mSyntaxError\u001b[0m: \u001b[35minvalid syntax. Perhaps you forgot a comma?\u001b[0m\n"
     ]
    }
   ],
   "source": [
    "!python3 main.py"
   ]
  },
  {
   "cell_type": "code",
   "execution_count": 9,
   "id": "6e5603c4-8149-4b77-b140-76709e4bc478",
   "metadata": {},
   "outputs": [
    {
     "name": "stdout",
     "output_type": "stream",
     "text": [
      "Presentation updated successfully.\n"
     ]
    }
   ],
   "source": [
    "!python3 main.py"
   ]
  },
  {
   "cell_type": "code",
   "execution_count": 10,
   "id": "bd4c613a-5a75-4778-be99-f8c6a2b9bd25",
   "metadata": {},
   "outputs": [
    {
     "name": "stdout",
     "output_type": "stream",
     "text": [
      "Presentation updated successfully.\n"
     ]
    }
   ],
   "source": [
    "!python3 main.py"
   ]
  },
  {
   "cell_type": "code",
   "execution_count": 11,
   "id": "44cb87b8-7f3a-4e00-82d1-8dacd830fd44",
   "metadata": {},
   "outputs": [
    {
     "name": "stdout",
     "output_type": "stream",
     "text": [
      "Traceback (most recent call last):\n",
      "  File \u001b[35m\"/Users/j.ensley/Documents/PPTMaker/main.py\"\u001b[0m, line \u001b[35m90\u001b[0m, in \u001b[35m<module>\u001b[0m\n",
      "    \"{{units}}\": f\"{\u001b[1;31munits\u001b[0m:,}\",\n",
      "                    \u001b[1;31m^^^^^\u001b[0m\n",
      "\u001b[1;35mNameError\u001b[0m: \u001b[35mname 'units' is not defined\u001b[0m\n"
     ]
    }
   ],
   "source": [
    "!python3 main.py"
   ]
  },
  {
   "cell_type": "code",
   "execution_count": 12,
   "id": "27d1ec83-03fd-4a32-b3e9-f3fd47fa08dd",
   "metadata": {},
   "outputs": [
    {
     "name": "stdout",
     "output_type": "stream",
     "text": [
      "Presentation updated successfully.\n"
     ]
    }
   ],
   "source": [
    "!python3 main.py"
   ]
  },
  {
   "cell_type": "code",
   "execution_count": 13,
   "id": "532a751a-edcb-4c73-b343-a85bc3456c66",
   "metadata": {},
   "outputs": [
    {
     "name": "stdout",
     "output_type": "stream",
     "text": [
      "Request failed with status 500\n",
      "Trying to extract user info under non authenticated route\n"
     ]
    }
   ],
   "source": [
    "!python3 main.py"
   ]
  },
  {
   "cell_type": "code",
   "execution_count": 14,
   "id": "cde138b1-3ca8-4930-87c5-4baec34af49b",
   "metadata": {},
   "outputs": [
    {
     "name": "stdout",
     "output_type": "stream",
     "text": [
      "Presentation updated successfully with formatting preserved.\n"
     ]
    }
   ],
   "source": [
    "!python3 main.py"
   ]
  },
  {
   "cell_type": "code",
   "execution_count": 15,
   "id": "20293ca8-9112-42a9-a234-3c2f9bc52a6b",
   "metadata": {},
   "outputs": [
    {
     "name": "stdout",
     "output_type": "stream",
     "text": [
      "Presentation updated successfully with formatting preserved.\n"
     ]
    }
   ],
   "source": [
    "!python3 main.py"
   ]
  },
  {
   "cell_type": "code",
   "execution_count": 16,
   "id": "c6989354-f9d4-4ef1-a927-392b728f0660",
   "metadata": {},
   "outputs": [
    {
     "name": "stdout",
     "output_type": "stream",
     "text": [
      "Presentation updated successfully with formatting preserved.\n"
     ]
    }
   ],
   "source": [
    "!python3 main.py"
   ]
  },
  {
   "cell_type": "code",
   "execution_count": 17,
   "id": "a1bc5fd6-ff13-4e4c-8ed8-79c3f407987d",
   "metadata": {},
   "outputs": [
    {
     "name": "stdout",
     "output_type": "stream",
     "text": [
      "Presentation updated successfully with formatting preserved.\n"
     ]
    }
   ],
   "source": [
    "!python3 main.py"
   ]
  },
  {
   "cell_type": "code",
   "execution_count": 18,
   "id": "b2996b59-326c-4c08-adf9-c13fab366aff",
   "metadata": {},
   "outputs": [
    {
     "name": "stdout",
     "output_type": "stream",
     "text": [
      "Presentation updated successfully with formatting preserved.\n"
     ]
    }
   ],
   "source": [
    "!python3 main.py"
   ]
  },
  {
   "cell_type": "code",
   "execution_count": 19,
   "id": "3a99994f-da77-41bf-b13b-85b8fae3e913",
   "metadata": {},
   "outputs": [
    {
     "name": "stdout",
     "output_type": "stream",
     "text": [
      "Traceback (most recent call last):\n",
      "  File \u001b[35m\"/Users/j.ensley/Documents/PPTMaker/main.py\"\u001b[0m, line \u001b[35m83\u001b[0m, in \u001b[35m<module>\u001b[0m\n",
      "    snapshot_date = f\"{\u001b[1;31mstart_date\u001b[0m} - {end_date}\"\n",
      "                       \u001b[1;31m^^^^^^^^^^\u001b[0m\n",
      "\u001b[1;35mNameError\u001b[0m: \u001b[35mname 'start_date' is not defined\u001b[0m\n"
     ]
    }
   ],
   "source": [
    "!python3 main.py"
   ]
  },
  {
   "cell_type": "code",
   "execution_count": 20,
   "id": "d267b976-da02-4df4-bb12-76f1fa406556",
   "metadata": {},
   "outputs": [
    {
     "name": "stdout",
     "output_type": "stream",
     "text": [
      "Presentation updated successfully with formatting preserved.\n"
     ]
    }
   ],
   "source": [
    "!python3 main.py"
   ]
  },
  {
   "cell_type": "code",
   "execution_count": 21,
   "id": "c8b43dc2-83ad-464c-a0a4-1d12e372c60f",
   "metadata": {},
   "outputs": [
    {
     "name": "stdout",
     "output_type": "stream",
     "text": [
      "Presentation updated successfully with formatting preserved.\n"
     ]
    }
   ],
   "source": [
    "!python3 main.py"
   ]
  },
  {
   "cell_type": "code",
   "execution_count": 22,
   "id": "280e706e-04b3-48a5-9b39-d2fb7500175f",
   "metadata": {},
   "outputs": [
    {
     "name": "stdout",
     "output_type": "stream",
     "text": [
      "Traceback (most recent call last):\n",
      "  File \u001b[35m\"/Library/Frameworks/Python.framework/Versions/3.13/lib/python3.13/site-packages/urllib3/connection.py\"\u001b[0m, line \u001b[35m198\u001b[0m, in \u001b[35m_new_conn\u001b[0m\n",
      "    sock = connection.create_connection(\n",
      "        (self._dns_host, self.port),\n",
      "    ...<2 lines>...\n",
      "        socket_options=self.socket_options,\n",
      "    )\n",
      "  File \u001b[35m\"/Library/Frameworks/Python.framework/Versions/3.13/lib/python3.13/site-packages/urllib3/util/connection.py\"\u001b[0m, line \u001b[35m60\u001b[0m, in \u001b[35mcreate_connection\u001b[0m\n",
      "    for res in \u001b[31msocket.getaddrinfo\u001b[0m\u001b[1;31m(host, port, family, socket.SOCK_STREAM)\u001b[0m:\n",
      "               \u001b[31m~~~~~~~~~~~~~~~~~~\u001b[0m\u001b[1;31m^^^^^^^^^^^^^^^^^^^^^^^^^^^^^^^^^^^^^^^^\u001b[0m\n",
      "  File \u001b[35m\"/Library/Frameworks/Python.framework/Versions/3.13/lib/python3.13/socket.py\"\u001b[0m, line \u001b[35m977\u001b[0m, in \u001b[35mgetaddrinfo\u001b[0m\n",
      "    for res in \u001b[31m_socket.getaddrinfo\u001b[0m\u001b[1;31m(host, port, family, type, proto, flags)\u001b[0m:\n",
      "               \u001b[31m~~~~~~~~~~~~~~~~~~~\u001b[0m\u001b[1;31m^^^^^^^^^^^^^^^^^^^^^^^^^^^^^^^^^^^^^^^^\u001b[0m\n",
      "\u001b[1;35msocket.gaierror\u001b[0m: \u001b[35m[Errno 8] nodename nor servname provided, or not known\u001b[0m\n",
      "\n",
      "The above exception was the direct cause of the following exception:\n",
      "\n",
      "Traceback (most recent call last):\n",
      "  File \u001b[35m\"/Library/Frameworks/Python.framework/Versions/3.13/lib/python3.13/site-packages/urllib3/connectionpool.py\"\u001b[0m, line \u001b[35m787\u001b[0m, in \u001b[35murlopen\u001b[0m\n",
      "    response = self._make_request(\n",
      "        conn,\n",
      "    ...<10 lines>...\n",
      "        **response_kw,\n",
      "    )\n",
      "  File \u001b[35m\"/Library/Frameworks/Python.framework/Versions/3.13/lib/python3.13/site-packages/urllib3/connectionpool.py\"\u001b[0m, line \u001b[35m488\u001b[0m, in \u001b[35m_make_request\u001b[0m\n",
      "    raise new_e\n",
      "  File \u001b[35m\"/Library/Frameworks/Python.framework/Versions/3.13/lib/python3.13/site-packages/urllib3/connectionpool.py\"\u001b[0m, line \u001b[35m464\u001b[0m, in \u001b[35m_make_request\u001b[0m\n",
      "    \u001b[31mself._validate_conn\u001b[0m\u001b[1;31m(conn)\u001b[0m\n",
      "    \u001b[31m~~~~~~~~~~~~~~~~~~~\u001b[0m\u001b[1;31m^^^^^^\u001b[0m\n",
      "  File \u001b[35m\"/Library/Frameworks/Python.framework/Versions/3.13/lib/python3.13/site-packages/urllib3/connectionpool.py\"\u001b[0m, line \u001b[35m1093\u001b[0m, in \u001b[35m_validate_conn\u001b[0m\n",
      "    \u001b[31mconn.connect\u001b[0m\u001b[1;31m()\u001b[0m\n",
      "    \u001b[31m~~~~~~~~~~~~\u001b[0m\u001b[1;31m^^\u001b[0m\n",
      "  File \u001b[35m\"/Library/Frameworks/Python.framework/Versions/3.13/lib/python3.13/site-packages/urllib3/connection.py\"\u001b[0m, line \u001b[35m704\u001b[0m, in \u001b[35mconnect\u001b[0m\n",
      "    self.sock = sock = \u001b[31mself._new_conn\u001b[0m\u001b[1;31m()\u001b[0m\n",
      "                       \u001b[31m~~~~~~~~~~~~~~\u001b[0m\u001b[1;31m^^\u001b[0m\n",
      "  File \u001b[35m\"/Library/Frameworks/Python.framework/Versions/3.13/lib/python3.13/site-packages/urllib3/connection.py\"\u001b[0m, line \u001b[35m205\u001b[0m, in \u001b[35m_new_conn\u001b[0m\n",
      "    raise NameResolutionError(self.host, self, e) from e\n",
      "\u001b[1;35murllib3.exceptions.NameResolutionError\u001b[0m: \u001b[35m<urllib3.connection.HTTPSConnection object at 0x107551e80>: Failed to resolve 'rattle-rm-reporting-hub.prod.crto.in' ([Errno 8] nodename nor servname provided, or not known)\u001b[0m\n",
      "\n",
      "The above exception was the direct cause of the following exception:\n",
      "\n",
      "Traceback (most recent call last):\n",
      "  File \u001b[35m\"/Library/Frameworks/Python.framework/Versions/3.13/lib/python3.13/site-packages/requests/adapters.py\"\u001b[0m, line \u001b[35m667\u001b[0m, in \u001b[35msend\u001b[0m\n",
      "    resp = conn.urlopen(\n",
      "        method=request.method,\n",
      "    ...<9 lines>...\n",
      "        chunked=chunked,\n",
      "    )\n",
      "  File \u001b[35m\"/Library/Frameworks/Python.framework/Versions/3.13/lib/python3.13/site-packages/urllib3/connectionpool.py\"\u001b[0m, line \u001b[35m841\u001b[0m, in \u001b[35murlopen\u001b[0m\n",
      "    retries = retries.increment(\n",
      "        method, url, error=new_e, _pool=self, _stacktrace=sys.exc_info()[2]\n",
      "    )\n",
      "  File \u001b[35m\"/Library/Frameworks/Python.framework/Versions/3.13/lib/python3.13/site-packages/urllib3/util/retry.py\"\u001b[0m, line \u001b[35m519\u001b[0m, in \u001b[35mincrement\u001b[0m\n",
      "    \u001b[1;31mraise MaxRetryError(_pool, url, reason) from reason\u001b[0m  # type: ignore[arg-type]\n",
      "    \u001b[1;31m^^^^^^^^^^^^^^^^^^^^^^^^^^^^^^^^^^^^^^^^^^^^^^^^^^^\u001b[0m\n",
      "\u001b[1;35murllib3.exceptions.MaxRetryError\u001b[0m: \u001b[35mHTTPSConnectionPool(host='rattle-rm-reporting-hub.prod.crto.in', port=443): Max retries exceeded with url: /pivot_report/api/paid (Caused by NameResolutionError(\"<urllib3.connection.HTTPSConnection object at 0x107551e80>: Failed to resolve 'rattle-rm-reporting-hub.prod.crto.in' ([Errno 8] nodename nor servname provided, or not known)\"))\u001b[0m\n",
      "\n",
      "During handling of the above exception, another exception occurred:\n",
      "\n",
      "Traceback (most recent call last):\n",
      "  File \u001b[35m\"/Users/j.ensley/Documents/PPTMaker/main2.py\"\u001b[0m, line \u001b[35m106\u001b[0m, in \u001b[35m<module>\u001b[0m\n",
      "    \u001b[31mfill_slide\u001b[0m\u001b[1;31m(prs, 0, \"2025-03-01\", \"2025-03-31\")\u001b[0m\n",
      "    \u001b[31m~~~~~~~~~~\u001b[0m\u001b[1;31m^^^^^^^^^^^^^^^^^^^^^^^^^^^^^^^^^^^^\u001b[0m\n",
      "  File \u001b[35m\"/Users/j.ensley/Documents/PPTMaker/main2.py\"\u001b[0m, line \u001b[35m77\u001b[0m, in \u001b[35mfill_slide\u001b[0m\n",
      "    response = requests.post(url, headers=headers, json=payload)\n",
      "  File \u001b[35m\"/Library/Frameworks/Python.framework/Versions/3.13/lib/python3.13/site-packages/requests/api.py\"\u001b[0m, line \u001b[35m115\u001b[0m, in \u001b[35mpost\u001b[0m\n",
      "    return request(\"post\", url, data=data, json=json, **kwargs)\n",
      "  File \u001b[35m\"/Library/Frameworks/Python.framework/Versions/3.13/lib/python3.13/site-packages/requests/api.py\"\u001b[0m, line \u001b[35m59\u001b[0m, in \u001b[35mrequest\u001b[0m\n",
      "    return \u001b[31msession.request\u001b[0m\u001b[1;31m(method=method, url=url, **kwargs)\u001b[0m\n",
      "           \u001b[31m~~~~~~~~~~~~~~~\u001b[0m\u001b[1;31m^^^^^^^^^^^^^^^^^^^^^^^^^^^^^^^^^^\u001b[0m\n",
      "  File \u001b[35m\"/Library/Frameworks/Python.framework/Versions/3.13/lib/python3.13/site-packages/requests/sessions.py\"\u001b[0m, line \u001b[35m589\u001b[0m, in \u001b[35mrequest\u001b[0m\n",
      "    resp = self.send(prep, **send_kwargs)\n",
      "  File \u001b[35m\"/Library/Frameworks/Python.framework/Versions/3.13/lib/python3.13/site-packages/requests/sessions.py\"\u001b[0m, line \u001b[35m703\u001b[0m, in \u001b[35msend\u001b[0m\n",
      "    r = adapter.send(request, **kwargs)\n",
      "  File \u001b[35m\"/Library/Frameworks/Python.framework/Versions/3.13/lib/python3.13/site-packages/requests/adapters.py\"\u001b[0m, line \u001b[35m700\u001b[0m, in \u001b[35msend\u001b[0m\n",
      "    raise ConnectionError(e, request=request)\n",
      "\u001b[1;35mrequests.exceptions.ConnectionError\u001b[0m: \u001b[35mHTTPSConnectionPool(host='rattle-rm-reporting-hub.prod.crto.in', port=443): Max retries exceeded with url: /pivot_report/api/paid (Caused by NameResolutionError(\"<urllib3.connection.HTTPSConnection object at 0x107551e80>: Failed to resolve 'rattle-rm-reporting-hub.prod.crto.in' ([Errno 8] nodename nor servname provided, or not known)\"))\u001b[0m\n"
     ]
    }
   ],
   "source": [
    "!python3 main2.py"
   ]
  },
  {
   "cell_type": "code",
   "execution_count": 23,
   "id": "846bd0ee-f164-4132-bede-5a1708a5c263",
   "metadata": {},
   "outputs": [
    {
     "name": "stdout",
     "output_type": "stream",
     "text": [
      "Presentation updated successfully.\n"
     ]
    }
   ],
   "source": [
    "!python3 main2.py"
   ]
  },
  {
   "cell_type": "code",
   "execution_count": 24,
   "id": "523c4ecd-02c2-40c2-95c2-a0609b30090e",
   "metadata": {},
   "outputs": [
    {
     "name": "stdout",
     "output_type": "stream",
     "text": [
      "Presentation updated successfully.\n"
     ]
    }
   ],
   "source": [
    "!python3 main2.py"
   ]
  },
  {
   "cell_type": "code",
   "execution_count": 25,
   "id": "58cabf81-1fc5-4b23-9a46-26a4faf451e5",
   "metadata": {},
   "outputs": [
    {
     "name": "stdout",
     "output_type": "stream",
     "text": [
      "Presentation updated successfully.\n"
     ]
    }
   ],
   "source": [
    "!python3 main2.py"
   ]
  },
  {
   "cell_type": "code",
   "execution_count": 26,
   "id": "52e53196-944c-48f5-a012-94f8da1591ed",
   "metadata": {},
   "outputs": [
    {
     "name": "stdout",
     "output_type": "stream",
     "text": [
      "Presentation updated successfully.\n"
     ]
    }
   ],
   "source": [
    "!python3 main2.py"
   ]
  },
  {
   "cell_type": "code",
   "execution_count": 27,
   "id": "a799276c-c967-4a41-9fec-553710cbf587",
   "metadata": {},
   "outputs": [
    {
     "name": "stdout",
     "output_type": "stream",
     "text": [
      "  File \u001b[35m\"/Users/j.ensley/Documents/PPTMaker/main2.py\"\u001b[0m, line \u001b[35m101\u001b[0m\n",
      "    for idx, line_item_row in enumerate(data[:2], start=1):\u001b[1;31m\u001b[0m\n",
      "                                                           \u001b[1;31m^\u001b[0m\n",
      "\u001b[1;35mIndentationError\u001b[0m: \u001b[35munindent does not match any outer indentation level\u001b[0m\n"
     ]
    }
   ],
   "source": [
    "!python3 main2.py"
   ]
  },
  {
   "cell_type": "code",
   "execution_count": 28,
   "id": "79952a59-610c-4772-b4a9-40ac474ba9eb",
   "metadata": {},
   "outputs": [
    {
     "name": "stdout",
     "output_type": "stream",
     "text": [
      "  File \u001b[35m\"/Users/j.ensley/Documents/PPTMaker/main2.py\"\u001b[0m, line \u001b[35m101\u001b[0m\n",
      "    for idx, line_item_row in enumerate(data[:2], start=1):\n",
      "\u001b[1;35mIndentationError\u001b[0m: \u001b[35munexpected indent\u001b[0m\n"
     ]
    }
   ],
   "source": [
    "!python3 main2.py"
   ]
  },
  {
   "cell_type": "code",
   "execution_count": 29,
   "id": "27edbcea-d853-4b81-ac75-300c3ed82e36",
   "metadata": {},
   "outputs": [
    {
     "name": "stdout",
     "output_type": "stream",
     "text": [
      "Presentation updated successfully.\n"
     ]
    }
   ],
   "source": [
    "!python3 main2.py"
   ]
  },
  {
   "cell_type": "code",
   "execution_count": 30,
   "id": "34e7d836-f2e6-41ff-b56c-1da1556b2c3e",
   "metadata": {},
   "outputs": [
    {
     "name": "stdout",
     "output_type": "stream",
     "text": [
      "Presentation updated successfully.\n"
     ]
    }
   ],
   "source": [
    "!python3 main2.py"
   ]
  },
  {
   "cell_type": "code",
   "execution_count": 31,
   "id": "54a4bed7-103e-480a-a55a-9b825ac306c4",
   "metadata": {},
   "outputs": [
    {
     "name": "stdout",
     "output_type": "stream",
     "text": [
      "Presentation updated successfully.\n"
     ]
    }
   ],
   "source": [
    "!python3 main2.py"
   ]
  },
  {
   "cell_type": "code",
   "execution_count": 32,
   "id": "5a35720b-86fb-4217-aa27-e5501ec95c38",
   "metadata": {},
   "outputs": [
    {
     "name": "stdout",
     "output_type": "stream",
     "text": [
      "[{'retailer_name': 'Albertsons', 'line_item_name': \"Pilgrim's_Pilgrims SPA 2024__June-December Just Bare_XQ73169400521685\", 'impressions': 6128568, 'clicks': 11510, 'spend': 13182.19, 'sales': 104748.27, 'units': 8471, 'CPC Demand': 1.15, 'ROAS Demand': 7.95, 'currency': 'USD', 'data_row_id': 1}, {'retailer_name': 'Albertsons', 'line_item_name': \"Pilgrim's_Pilgrims SPA 2024__June-December Pilgrims_XQ73169400521685\", 'impressions': 12802133, 'clicks': 9688, 'spend': 10312.35, 'sales': 22733.79, 'units': 4155, 'CPC Demand': 1.06, 'ROAS Demand': 2.2, 'currency': 'USD', 'data_row_id': 2}]\n",
      "[{'retailer_name': 'Albertsons', 'line_item_name': \"Pilgrim's_Pilgrims SPA 2024__June-December Just Bare_XQ73169400521685\", 'impressions': 5088805, 'clicks': 9418, 'spend': 11908.49, 'sales': 77489.98, 'units': 6432, 'CPC Demand': 1.26, 'ROAS Demand': 6.51, 'currency': 'USD', 'data_row_id': 1}, {'retailer_name': 'Albertsons', 'line_item_name': \"Pilgrim's_Pilgrims SPA 2024__June-December Pilgrims_XQ73169400521685\", 'impressions': 8451411, 'clicks': 9606, 'spend': 9543.12, 'sales': 21354.15, 'units': 3407, 'CPC Demand': 0.99, 'ROAS Demand': 2.24, 'currency': 'USD', 'data_row_id': 2}]\n",
      "[{'retailer_name': 'Albertsons', 'line_item_name': \"Pilgrim's_Pilgrims SPA 2024__June-December Just Bare_XQ73169400521685\", 'impressions': 5088805, 'clicks': 9418, 'spend': 11908.49, 'sales': 77489.98, 'units': 6432, 'CPC Demand': 1.26, 'ROAS Demand': 6.51, 'currency': 'USD', 'data_row_id': 1}, {'retailer_name': 'Albertsons', 'line_item_name': \"Pilgrim's_Pilgrims SPA 2024__June-December Pilgrims_XQ73169400521685\", 'impressions': 8451411, 'clicks': 9606, 'spend': 9543.12, 'sales': 21354.15, 'units': 3407, 'CPC Demand': 0.99, 'ROAS Demand': 2.24, 'currency': 'USD', 'data_row_id': 2}]\n",
      "Presentation updated successfully.\n"
     ]
    }
   ],
   "source": [
    "!python3 main2.py"
   ]
  },
  {
   "cell_type": "code",
   "execution_count": 33,
   "id": "52611320-3b60-4cfb-9468-af3074d5b6b8",
   "metadata": {},
   "outputs": [
    {
     "name": "stdout",
     "output_type": "stream",
     "text": [
      "[{'retailer_name': 'Albertsons', 'line_item_name': \"Pilgrim's_Pilgrims SPA 2024__June-December Just Bare_XQ73169400521685\", 'impressions': 6128568, 'clicks': 11510, 'spend': 13182.19, 'sales': 104748.27, 'units': 8471, 'CPC Demand': 1.15, 'ROAS Demand': 7.95, 'currency': 'USD', 'data_row_id': 1}, {'retailer_name': 'Albertsons', 'line_item_name': \"Pilgrim's_Pilgrims SPA 2024__June-December Pilgrims_XQ73169400521685\", 'impressions': 12802133, 'clicks': 9688, 'spend': 10312.35, 'sales': 22733.79, 'units': 4155, 'CPC Demand': 1.06, 'ROAS Demand': 2.2, 'currency': 'USD', 'data_row_id': 2}]\n",
      "[{'retailer_name': 'Albertsons', 'line_item_name': \"Pilgrim's_Pilgrims SPA 2024__June-December Just Bare_XQ73169400521685\", 'impressions': 5088805, 'clicks': 9418, 'spend': 11908.49, 'sales': 77489.98, 'units': 6432, 'CPC Demand': 1.26, 'ROAS Demand': 6.51, 'currency': 'USD', 'data_row_id': 1}, {'retailer_name': 'Albertsons', 'line_item_name': \"Pilgrim's_Pilgrims SPA 2024__June-December Pilgrims_XQ73169400521685\", 'impressions': 8451411, 'clicks': 9606, 'spend': 9543.12, 'sales': 21354.15, 'units': 3407, 'CPC Demand': 0.99, 'ROAS Demand': 2.24, 'currency': 'USD', 'data_row_id': 2}]\n",
      "[{'retailer_name': 'Albertsons', 'line_item_name': \"Pilgrim's_Pilgrims SPA 2024__June-December Just Bare_XQ73169400521685\", 'impressions': 5088805, 'clicks': 9418, 'spend': 11908.49, 'sales': 77489.98, 'units': 6432, 'CPC Demand': 1.26, 'ROAS Demand': 6.51, 'currency': 'USD', 'data_row_id': 1}, {'retailer_name': 'Albertsons', 'line_item_name': \"Pilgrim's_Pilgrims SPA 2024__June-December Pilgrims_XQ73169400521685\", 'impressions': 8451411, 'clicks': 9606, 'spend': 9543.12, 'sales': 21354.15, 'units': 3407, 'CPC Demand': 0.99, 'ROAS Demand': 2.24, 'currency': 'USD', 'data_row_id': 2}]\n",
      "Presentation updated successfully.\n"
     ]
    }
   ],
   "source": [
    "!python3 main2.py"
   ]
  },
  {
   "cell_type": "code",
   "execution_count": 34,
   "id": "a13b3bc0-513e-4383-8976-7e7f5597fedb",
   "metadata": {},
   "outputs": [
    {
     "name": "stdout",
     "output_type": "stream",
     "text": [
      "Replacements: {'{{name}}': 'Albertsons', '{{impressions}}': '6,128,568', '{{clicks}}': '11,510', '{{spend}}': '$13,182', '{{sales}}': '$104,748', '{{units}}': '8,471', '{{ROAS}}': '$7.95', '{{CPC}}': '$1.15', '{{snapshot date}}': '2025-03-01 - 2025-03-31', '{impressions_lineitem_1}': '6,128,568', '{{clicks_lineitem_1}}': '11,510', '{{spend_lineitem_1}}': '$13,182', '{{sales_lineitem_1}}': '$104,748', '{{units_lineitem_1}}': '8,471', '{{ROAS_lineitem_1}}': '$7.95', '{{CPC_lineitem_1}}': '$1.15', '{{name_lineitem_1}}': 'LineItem 1', '{impressions_lineitem_2}': '12,802,133', '{{clicks_lineitem_2}}': '9,688', '{{spend_lineitem_2}}': '$10,312', '{{sales_lineitem_2}}': '$22,733', '{{units_lineitem_2}}': '4,155', '{{ROAS_lineitem_2}}': '$2.20', '{{CPC_lineitem_2}}': '$1.06', '{{name_lineitem_2}}': 'LineItem 2'}\n",
      "Replacements: {'{{name}}': 'Albertsons', '{{impressions}}': '6,128,568', '{{clicks}}': '11,510', '{{spend}}': '$13,182', '{{sales}}': '$104,748', '{{units}}': '8,471', '{{ROAS}}': '$7.95', '{{CPC}}': '$1.15', '{{snapshot date}}': '2025-03-01 - 2025-03-31', '{impressions_lineitem_1}': '6,128,568', '{{clicks_lineitem_1}}': '11,510', '{{spend_lineitem_1}}': '$13,182', '{{sales_lineitem_1}}': '$104,748', '{{units_lineitem_1}}': '8,471', '{{ROAS_lineitem_1}}': '$7.95', '{{CPC_lineitem_1}}': '$1.15', '{{name_lineitem_1}}': 'LineItem 1', '{impressions_lineitem_2}': '12,802,133', '{{clicks_lineitem_2}}': '9,688', '{{spend_lineitem_2}}': '$10,312', '{{sales_lineitem_2}}': '$22,733', '{{units_lineitem_2}}': '4,155', '{{ROAS_lineitem_2}}': '$2.20', '{{CPC_lineitem_2}}': '$1.06', '{{name_lineitem_2}}': 'LineItem 2'}\n",
      "Replacements: {'{{name}}': 'Albertsons', '{{impressions}}': '6,128,568', '{{clicks}}': '11,510', '{{spend}}': '$13,182', '{{sales}}': '$104,748', '{{units}}': '8,471', '{{ROAS}}': '$7.95', '{{CPC}}': '$1.15', '{{snapshot date}}': '2025-03-01 - 2025-03-31', '{impressions_lineitem_1}': '6,128,568', '{{clicks_lineitem_1}}': '11,510', '{{spend_lineitem_1}}': '$13,182', '{{sales_lineitem_1}}': '$104,748', '{{units_lineitem_1}}': '8,471', '{{ROAS_lineitem_1}}': '$7.95', '{{CPC_lineitem_1}}': '$1.15', '{{name_lineitem_1}}': 'LineItem 1', '{impressions_lineitem_2}': '12,802,133', '{{clicks_lineitem_2}}': '9,688', '{{spend_lineitem_2}}': '$10,312', '{{sales_lineitem_2}}': '$22,733', '{{units_lineitem_2}}': '4,155', '{{ROAS_lineitem_2}}': '$2.20', '{{CPC_lineitem_2}}': '$1.06', '{{name_lineitem_2}}': 'LineItem 2'}\n",
      "Replacements: {'{{name}}': 'Albertsons', '{{impressions}}': '6,128,568', '{{clicks}}': '11,510', '{{spend}}': '$13,182', '{{sales}}': '$104,748', '{{units}}': '8,471', '{{ROAS}}': '$7.95', '{{CPC}}': '$1.15', '{{snapshot date}}': '2025-03-01 - 2025-03-31', '{impressions_lineitem_1}': '6,128,568', '{{clicks_lineitem_1}}': '11,510', '{{spend_lineitem_1}}': '$13,182', '{{sales_lineitem_1}}': '$104,748', '{{units_lineitem_1}}': '8,471', '{{ROAS_lineitem_1}}': '$7.95', '{{CPC_lineitem_1}}': '$1.15', '{{name_lineitem_1}}': 'LineItem 1', '{impressions_lineitem_2}': '12,802,133', '{{clicks_lineitem_2}}': '9,688', '{{spend_lineitem_2}}': '$10,312', '{{sales_lineitem_2}}': '$22,733', '{{units_lineitem_2}}': '4,155', '{{ROAS_lineitem_2}}': '$2.20', '{{CPC_lineitem_2}}': '$1.06', '{{name_lineitem_2}}': 'LineItem 2'}\n",
      "Replacements: {'{{name}}': 'Albertsons', '{{impressions}}': '6,128,568', '{{clicks}}': '11,510', '{{spend}}': '$13,182', '{{sales}}': '$104,748', '{{units}}': '8,471', '{{ROAS}}': '$7.95', '{{CPC}}': '$1.15', '{{snapshot date}}': '2025-03-01 - 2025-03-31', '{impressions_lineitem_1}': '6,128,568', '{{clicks_lineitem_1}}': '11,510', '{{spend_lineitem_1}}': '$13,182', '{{sales_lineitem_1}}': '$104,748', '{{units_lineitem_1}}': '8,471', '{{ROAS_lineitem_1}}': '$7.95', '{{CPC_lineitem_1}}': '$1.15', '{{name_lineitem_1}}': 'LineItem 1', '{impressions_lineitem_2}': '12,802,133', '{{clicks_lineitem_2}}': '9,688', '{{spend_lineitem_2}}': '$10,312', '{{sales_lineitem_2}}': '$22,733', '{{units_lineitem_2}}': '4,155', '{{ROAS_lineitem_2}}': '$2.20', '{{CPC_lineitem_2}}': '$1.06', '{{name_lineitem_2}}': 'LineItem 2'}\n",
      "Replacements: {'{{name}}': 'Albertsons', '{{impressions}}': '6,128,568', '{{clicks}}': '11,510', '{{spend}}': '$13,182', '{{sales}}': '$104,748', '{{units}}': '8,471', '{{ROAS}}': '$7.95', '{{CPC}}': '$1.15', '{{snapshot date}}': '2025-03-01 - 2025-03-31', '{impressions_lineitem_1}': '6,128,568', '{{clicks_lineitem_1}}': '11,510', '{{spend_lineitem_1}}': '$13,182', '{{sales_lineitem_1}}': '$104,748', '{{units_lineitem_1}}': '8,471', '{{ROAS_lineitem_1}}': '$7.95', '{{CPC_lineitem_1}}': '$1.15', '{{name_lineitem_1}}': 'LineItem 1', '{impressions_lineitem_2}': '12,802,133', '{{clicks_lineitem_2}}': '9,688', '{{spend_lineitem_2}}': '$10,312', '{{sales_lineitem_2}}': '$22,733', '{{units_lineitem_2}}': '4,155', '{{ROAS_lineitem_2}}': '$2.20', '{{CPC_lineitem_2}}': '$1.06', '{{name_lineitem_2}}': 'LineItem 2'}\n",
      "Replacements: {'{{name}}': 'Albertsons', '{{impressions}}': '6,128,568', '{{clicks}}': '11,510', '{{spend}}': '$13,182', '{{sales}}': '$104,748', '{{units}}': '8,471', '{{ROAS}}': '$7.95', '{{CPC}}': '$1.15', '{{snapshot date}}': '2025-03-01 - 2025-03-31', '{impressions_lineitem_1}': '6,128,568', '{{clicks_lineitem_1}}': '11,510', '{{spend_lineitem_1}}': '$13,182', '{{sales_lineitem_1}}': '$104,748', '{{units_lineitem_1}}': '8,471', '{{ROAS_lineitem_1}}': '$7.95', '{{CPC_lineitem_1}}': '$1.15', '{{name_lineitem_1}}': 'LineItem 1', '{impressions_lineitem_2}': '12,802,133', '{{clicks_lineitem_2}}': '9,688', '{{spend_lineitem_2}}': '$10,312', '{{sales_lineitem_2}}': '$22,733', '{{units_lineitem_2}}': '4,155', '{{ROAS_lineitem_2}}': '$2.20', '{{CPC_lineitem_2}}': '$1.06', '{{name_lineitem_2}}': 'LineItem 2'}\n",
      "Replacements: {'{{name}}': 'Albertsons', '{{impressions}}': '6,128,568', '{{clicks}}': '11,510', '{{spend}}': '$13,182', '{{sales}}': '$104,748', '{{units}}': '8,471', '{{ROAS}}': '$7.95', '{{CPC}}': '$1.15', '{{snapshot date}}': '2025-03-01 - 2025-03-31', '{impressions_lineitem_1}': '6,128,568', '{{clicks_lineitem_1}}': '11,510', '{{spend_lineitem_1}}': '$13,182', '{{sales_lineitem_1}}': '$104,748', '{{units_lineitem_1}}': '8,471', '{{ROAS_lineitem_1}}': '$7.95', '{{CPC_lineitem_1}}': '$1.15', '{{name_lineitem_1}}': 'LineItem 1', '{impressions_lineitem_2}': '12,802,133', '{{clicks_lineitem_2}}': '9,688', '{{spend_lineitem_2}}': '$10,312', '{{sales_lineitem_2}}': '$22,733', '{{units_lineitem_2}}': '4,155', '{{ROAS_lineitem_2}}': '$2.20', '{{CPC_lineitem_2}}': '$1.06', '{{name_lineitem_2}}': 'LineItem 2'}\n",
      "Replacements: {'{{name}}': 'Albertsons', '{{impressions}}': '6,128,568', '{{clicks}}': '11,510', '{{spend}}': '$13,182', '{{sales}}': '$104,748', '{{units}}': '8,471', '{{ROAS}}': '$7.95', '{{CPC}}': '$1.15', '{{snapshot date}}': '2025-03-01 - 2025-03-31', '{impressions_lineitem_1}': '6,128,568', '{{clicks_lineitem_1}}': '11,510', '{{spend_lineitem_1}}': '$13,182', '{{sales_lineitem_1}}': '$104,748', '{{units_lineitem_1}}': '8,471', '{{ROAS_lineitem_1}}': '$7.95', '{{CPC_lineitem_1}}': '$1.15', '{{name_lineitem_1}}': 'LineItem 1', '{impressions_lineitem_2}': '12,802,133', '{{clicks_lineitem_2}}': '9,688', '{{spend_lineitem_2}}': '$10,312', '{{sales_lineitem_2}}': '$22,733', '{{units_lineitem_2}}': '4,155', '{{ROAS_lineitem_2}}': '$2.20', '{{CPC_lineitem_2}}': '$1.06', '{{name_lineitem_2}}': 'LineItem 2'}\n",
      "Replacements: {'{{name}}': 'Albertsons', '{{impressions}}': '6,128,568', '{{clicks}}': '11,510', '{{spend}}': '$13,182', '{{sales}}': '$104,748', '{{units}}': '8,471', '{{ROAS}}': '$7.95', '{{CPC}}': '$1.15', '{{snapshot date}}': '2025-03-01 - 2025-03-31', '{impressions_lineitem_1}': '6,128,568', '{{clicks_lineitem_1}}': '11,510', '{{spend_lineitem_1}}': '$13,182', '{{sales_lineitem_1}}': '$104,748', '{{units_lineitem_1}}': '8,471', '{{ROAS_lineitem_1}}': '$7.95', '{{CPC_lineitem_1}}': '$1.15', '{{name_lineitem_1}}': 'LineItem 1', '{impressions_lineitem_2}': '12,802,133', '{{clicks_lineitem_2}}': '9,688', '{{spend_lineitem_2}}': '$10,312', '{{sales_lineitem_2}}': '$22,733', '{{units_lineitem_2}}': '4,155', '{{ROAS_lineitem_2}}': '$2.20', '{{CPC_lineitem_2}}': '$1.06', '{{name_lineitem_2}}': 'LineItem 2'}\n",
      "Replacements: {'{{name}}': 'Albertsons', '{{impressions}}': '6,128,568', '{{clicks}}': '11,510', '{{spend}}': '$13,182', '{{sales}}': '$104,748', '{{units}}': '8,471', '{{ROAS}}': '$7.95', '{{CPC}}': '$1.15', '{{snapshot date}}': '2025-03-01 - 2025-03-31', '{impressions_lineitem_1}': '6,128,568', '{{clicks_lineitem_1}}': '11,510', '{{spend_lineitem_1}}': '$13,182', '{{sales_lineitem_1}}': '$104,748', '{{units_lineitem_1}}': '8,471', '{{ROAS_lineitem_1}}': '$7.95', '{{CPC_lineitem_1}}': '$1.15', '{{name_lineitem_1}}': 'LineItem 1', '{impressions_lineitem_2}': '12,802,133', '{{clicks_lineitem_2}}': '9,688', '{{spend_lineitem_2}}': '$10,312', '{{sales_lineitem_2}}': '$22,733', '{{units_lineitem_2}}': '4,155', '{{ROAS_lineitem_2}}': '$2.20', '{{CPC_lineitem_2}}': '$1.06', '{{name_lineitem_2}}': 'LineItem 2'}\n",
      "Replacements: {'{{name}}': 'Albertsons', '{{impressions}}': '6,128,568', '{{clicks}}': '11,510', '{{spend}}': '$13,182', '{{sales}}': '$104,748', '{{units}}': '8,471', '{{ROAS}}': '$7.95', '{{CPC}}': '$1.15', '{{snapshot date}}': '2025-03-01 - 2025-03-31', '{impressions_lineitem_1}': '6,128,568', '{{clicks_lineitem_1}}': '11,510', '{{spend_lineitem_1}}': '$13,182', '{{sales_lineitem_1}}': '$104,748', '{{units_lineitem_1}}': '8,471', '{{ROAS_lineitem_1}}': '$7.95', '{{CPC_lineitem_1}}': '$1.15', '{{name_lineitem_1}}': 'LineItem 1', '{impressions_lineitem_2}': '12,802,133', '{{clicks_lineitem_2}}': '9,688', '{{spend_lineitem_2}}': '$10,312', '{{sales_lineitem_2}}': '$22,733', '{{units_lineitem_2}}': '4,155', '{{ROAS_lineitem_2}}': '$2.20', '{{CPC_lineitem_2}}': '$1.06', '{{name_lineitem_2}}': 'LineItem 2'}\n",
      "Replacements: {'{{name}}': 'Albertsons', '{{impressions}}': '6,128,568', '{{clicks}}': '11,510', '{{spend}}': '$13,182', '{{sales}}': '$104,748', '{{units}}': '8,471', '{{ROAS}}': '$7.95', '{{CPC}}': '$1.15', '{{snapshot date}}': '2025-03-01 - 2025-03-31', '{impressions_lineitem_1}': '6,128,568', '{{clicks_lineitem_1}}': '11,510', '{{spend_lineitem_1}}': '$13,182', '{{sales_lineitem_1}}': '$104,748', '{{units_lineitem_1}}': '8,471', '{{ROAS_lineitem_1}}': '$7.95', '{{CPC_lineitem_1}}': '$1.15', '{{name_lineitem_1}}': 'LineItem 1', '{impressions_lineitem_2}': '12,802,133', '{{clicks_lineitem_2}}': '9,688', '{{spend_lineitem_2}}': '$10,312', '{{sales_lineitem_2}}': '$22,733', '{{units_lineitem_2}}': '4,155', '{{ROAS_lineitem_2}}': '$2.20', '{{CPC_lineitem_2}}': '$1.06', '{{name_lineitem_2}}': 'LineItem 2'}\n",
      "Replacements: {'{{name}}': 'Albertsons', '{{impressions}}': '6,128,568', '{{clicks}}': '11,510', '{{spend}}': '$13,182', '{{sales}}': '$104,748', '{{units}}': '8,471', '{{ROAS}}': '$7.95', '{{CPC}}': '$1.15', '{{snapshot date}}': '2025-03-01 - 2025-03-31', '{impressions_lineitem_1}': '6,128,568', '{{clicks_lineitem_1}}': '11,510', '{{spend_lineitem_1}}': '$13,182', '{{sales_lineitem_1}}': '$104,748', '{{units_lineitem_1}}': '8,471', '{{ROAS_lineitem_1}}': '$7.95', '{{CPC_lineitem_1}}': '$1.15', '{{name_lineitem_1}}': 'LineItem 1', '{impressions_lineitem_2}': '12,802,133', '{{clicks_lineitem_2}}': '9,688', '{{spend_lineitem_2}}': '$10,312', '{{sales_lineitem_2}}': '$22,733', '{{units_lineitem_2}}': '4,155', '{{ROAS_lineitem_2}}': '$2.20', '{{CPC_lineitem_2}}': '$1.06', '{{name_lineitem_2}}': 'LineItem 2'}\n",
      "Replacements: {'{{name}}': 'Albertsons', '{{impressions}}': '6,128,568', '{{clicks}}': '11,510', '{{spend}}': '$13,182', '{{sales}}': '$104,748', '{{units}}': '8,471', '{{ROAS}}': '$7.95', '{{CPC}}': '$1.15', '{{snapshot date}}': '2025-03-01 - 2025-03-31', '{impressions_lineitem_1}': '6,128,568', '{{clicks_lineitem_1}}': '11,510', '{{spend_lineitem_1}}': '$13,182', '{{sales_lineitem_1}}': '$104,748', '{{units_lineitem_1}}': '8,471', '{{ROAS_lineitem_1}}': '$7.95', '{{CPC_lineitem_1}}': '$1.15', '{{name_lineitem_1}}': 'LineItem 1', '{impressions_lineitem_2}': '12,802,133', '{{clicks_lineitem_2}}': '9,688', '{{spend_lineitem_2}}': '$10,312', '{{sales_lineitem_2}}': '$22,733', '{{units_lineitem_2}}': '4,155', '{{ROAS_lineitem_2}}': '$2.20', '{{CPC_lineitem_2}}': '$1.06', '{{name_lineitem_2}}': 'LineItem 2'}\n",
      "Replacements: {'{{name}}': 'Albertsons', '{{impressions}}': '6,128,568', '{{clicks}}': '11,510', '{{spend}}': '$13,182', '{{sales}}': '$104,748', '{{units}}': '8,471', '{{ROAS}}': '$7.95', '{{CPC}}': '$1.15', '{{snapshot date}}': '2025-03-01 - 2025-03-31', '{impressions_lineitem_1}': '6,128,568', '{{clicks_lineitem_1}}': '11,510', '{{spend_lineitem_1}}': '$13,182', '{{sales_lineitem_1}}': '$104,748', '{{units_lineitem_1}}': '8,471', '{{ROAS_lineitem_1}}': '$7.95', '{{CPC_lineitem_1}}': '$1.15', '{{name_lineitem_1}}': 'LineItem 1', '{impressions_lineitem_2}': '12,802,133', '{{clicks_lineitem_2}}': '9,688', '{{spend_lineitem_2}}': '$10,312', '{{sales_lineitem_2}}': '$22,733', '{{units_lineitem_2}}': '4,155', '{{ROAS_lineitem_2}}': '$2.20', '{{CPC_lineitem_2}}': '$1.06', '{{name_lineitem_2}}': 'LineItem 2'}\n",
      "Replacements: {'{{name}}': 'Albertsons', '{{impressions}}': '6,128,568', '{{clicks}}': '11,510', '{{spend}}': '$13,182', '{{sales}}': '$104,748', '{{units}}': '8,471', '{{ROAS}}': '$7.95', '{{CPC}}': '$1.15', '{{snapshot date}}': '2025-03-01 - 2025-03-31', '{impressions_lineitem_1}': '6,128,568', '{{clicks_lineitem_1}}': '11,510', '{{spend_lineitem_1}}': '$13,182', '{{sales_lineitem_1}}': '$104,748', '{{units_lineitem_1}}': '8,471', '{{ROAS_lineitem_1}}': '$7.95', '{{CPC_lineitem_1}}': '$1.15', '{{name_lineitem_1}}': 'LineItem 1', '{impressions_lineitem_2}': '12,802,133', '{{clicks_lineitem_2}}': '9,688', '{{spend_lineitem_2}}': '$10,312', '{{sales_lineitem_2}}': '$22,733', '{{units_lineitem_2}}': '4,155', '{{ROAS_lineitem_2}}': '$2.20', '{{CPC_lineitem_2}}': '$1.06', '{{name_lineitem_2}}': 'LineItem 2'}\n",
      "Replacements: {'{{name}}': 'Albertsons', '{{impressions}}': '6,128,568', '{{clicks}}': '11,510', '{{spend}}': '$13,182', '{{sales}}': '$104,748', '{{units}}': '8,471', '{{ROAS}}': '$7.95', '{{CPC}}': '$1.15', '{{snapshot date}}': '2025-03-01 - 2025-03-31', '{impressions_lineitem_1}': '6,128,568', '{{clicks_lineitem_1}}': '11,510', '{{spend_lineitem_1}}': '$13,182', '{{sales_lineitem_1}}': '$104,748', '{{units_lineitem_1}}': '8,471', '{{ROAS_lineitem_1}}': '$7.95', '{{CPC_lineitem_1}}': '$1.15', '{{name_lineitem_1}}': 'LineItem 1', '{impressions_lineitem_2}': '12,802,133', '{{clicks_lineitem_2}}': '9,688', '{{spend_lineitem_2}}': '$10,312', '{{sales_lineitem_2}}': '$22,733', '{{units_lineitem_2}}': '4,155', '{{ROAS_lineitem_2}}': '$2.20', '{{CPC_lineitem_2}}': '$1.06', '{{name_lineitem_2}}': 'LineItem 2'}\n",
      "Replacements: {'{{name}}': 'Albertsons', '{{impressions}}': '6,128,568', '{{clicks}}': '11,510', '{{spend}}': '$13,182', '{{sales}}': '$104,748', '{{units}}': '8,471', '{{ROAS}}': '$7.95', '{{CPC}}': '$1.15', '{{snapshot date}}': '2025-03-01 - 2025-03-31', '{impressions_lineitem_1}': '6,128,568', '{{clicks_lineitem_1}}': '11,510', '{{spend_lineitem_1}}': '$13,182', '{{sales_lineitem_1}}': '$104,748', '{{units_lineitem_1}}': '8,471', '{{ROAS_lineitem_1}}': '$7.95', '{{CPC_lineitem_1}}': '$1.15', '{{name_lineitem_1}}': 'LineItem 1', '{impressions_lineitem_2}': '12,802,133', '{{clicks_lineitem_2}}': '9,688', '{{spend_lineitem_2}}': '$10,312', '{{sales_lineitem_2}}': '$22,733', '{{units_lineitem_2}}': '4,155', '{{ROAS_lineitem_2}}': '$2.20', '{{CPC_lineitem_2}}': '$1.06', '{{name_lineitem_2}}': 'LineItem 2'}\n",
      "Replacements: {'{{name}}': 'Albertsons', '{{impressions}}': '6,128,568', '{{clicks}}': '11,510', '{{spend}}': '$13,182', '{{sales}}': '$104,748', '{{units}}': '8,471', '{{ROAS}}': '$7.95', '{{CPC}}': '$1.15', '{{snapshot date}}': '2025-03-01 - 2025-03-31', '{impressions_lineitem_1}': '6,128,568', '{{clicks_lineitem_1}}': '11,510', '{{spend_lineitem_1}}': '$13,182', '{{sales_lineitem_1}}': '$104,748', '{{units_lineitem_1}}': '8,471', '{{ROAS_lineitem_1}}': '$7.95', '{{CPC_lineitem_1}}': '$1.15', '{{name_lineitem_1}}': 'LineItem 1', '{impressions_lineitem_2}': '12,802,133', '{{clicks_lineitem_2}}': '9,688', '{{spend_lineitem_2}}': '$10,312', '{{sales_lineitem_2}}': '$22,733', '{{units_lineitem_2}}': '4,155', '{{ROAS_lineitem_2}}': '$2.20', '{{CPC_lineitem_2}}': '$1.06', '{{name_lineitem_2}}': 'LineItem 2'}\n",
      "Replacements: {'{{name}}': 'Albertsons', '{{impressions}}': '6,128,568', '{{clicks}}': '11,510', '{{spend}}': '$13,182', '{{sales}}': '$104,748', '{{units}}': '8,471', '{{ROAS}}': '$7.95', '{{CPC}}': '$1.15', '{{snapshot date}}': '2025-03-01 - 2025-03-31', '{impressions_lineitem_1}': '6,128,568', '{{clicks_lineitem_1}}': '11,510', '{{spend_lineitem_1}}': '$13,182', '{{sales_lineitem_1}}': '$104,748', '{{units_lineitem_1}}': '8,471', '{{ROAS_lineitem_1}}': '$7.95', '{{CPC_lineitem_1}}': '$1.15', '{{name_lineitem_1}}': 'LineItem 1', '{impressions_lineitem_2}': '12,802,133', '{{clicks_lineitem_2}}': '9,688', '{{spend_lineitem_2}}': '$10,312', '{{sales_lineitem_2}}': '$22,733', '{{units_lineitem_2}}': '4,155', '{{ROAS_lineitem_2}}': '$2.20', '{{CPC_lineitem_2}}': '$1.06', '{{name_lineitem_2}}': 'LineItem 2'}\n",
      "Replacements: {'{{name}}': 'Albertsons', '{{impressions}}': '6,128,568', '{{clicks}}': '11,510', '{{spend}}': '$13,182', '{{sales}}': '$104,748', '{{units}}': '8,471', '{{ROAS}}': '$7.95', '{{CPC}}': '$1.15', '{{snapshot date}}': '2025-03-01 - 2025-03-31', '{impressions_lineitem_1}': '6,128,568', '{{clicks_lineitem_1}}': '11,510', '{{spend_lineitem_1}}': '$13,182', '{{sales_lineitem_1}}': '$104,748', '{{units_lineitem_1}}': '8,471', '{{ROAS_lineitem_1}}': '$7.95', '{{CPC_lineitem_1}}': '$1.15', '{{name_lineitem_1}}': 'LineItem 1', '{impressions_lineitem_2}': '12,802,133', '{{clicks_lineitem_2}}': '9,688', '{{spend_lineitem_2}}': '$10,312', '{{sales_lineitem_2}}': '$22,733', '{{units_lineitem_2}}': '4,155', '{{ROAS_lineitem_2}}': '$2.20', '{{CPC_lineitem_2}}': '$1.06', '{{name_lineitem_2}}': 'LineItem 2'}\n",
      "Replacements: {'{{name}}': 'Albertsons', '{{impressions}}': '6,128,568', '{{clicks}}': '11,510', '{{spend}}': '$13,182', '{{sales}}': '$104,748', '{{units}}': '8,471', '{{ROAS}}': '$7.95', '{{CPC}}': '$1.15', '{{snapshot date}}': '2025-03-01 - 2025-03-31', '{impressions_lineitem_1}': '6,128,568', '{{clicks_lineitem_1}}': '11,510', '{{spend_lineitem_1}}': '$13,182', '{{sales_lineitem_1}}': '$104,748', '{{units_lineitem_1}}': '8,471', '{{ROAS_lineitem_1}}': '$7.95', '{{CPC_lineitem_1}}': '$1.15', '{{name_lineitem_1}}': 'LineItem 1', '{impressions_lineitem_2}': '12,802,133', '{{clicks_lineitem_2}}': '9,688', '{{spend_lineitem_2}}': '$10,312', '{{sales_lineitem_2}}': '$22,733', '{{units_lineitem_2}}': '4,155', '{{ROAS_lineitem_2}}': '$2.20', '{{CPC_lineitem_2}}': '$1.06', '{{name_lineitem_2}}': 'LineItem 2'}\n",
      "Replacements: {'{{name}}': 'Albertsons', '{{impressions}}': '6,128,568', '{{clicks}}': '11,510', '{{spend}}': '$13,182', '{{sales}}': '$104,748', '{{units}}': '8,471', '{{ROAS}}': '$7.95', '{{CPC}}': '$1.15', '{{snapshot date}}': '2025-03-01 - 2025-03-31', '{impressions_lineitem_1}': '6,128,568', '{{clicks_lineitem_1}}': '11,510', '{{spend_lineitem_1}}': '$13,182', '{{sales_lineitem_1}}': '$104,748', '{{units_lineitem_1}}': '8,471', '{{ROAS_lineitem_1}}': '$7.95', '{{CPC_lineitem_1}}': '$1.15', '{{name_lineitem_1}}': 'LineItem 1', '{impressions_lineitem_2}': '12,802,133', '{{clicks_lineitem_2}}': '9,688', '{{spend_lineitem_2}}': '$10,312', '{{sales_lineitem_2}}': '$22,733', '{{units_lineitem_2}}': '4,155', '{{ROAS_lineitem_2}}': '$2.20', '{{CPC_lineitem_2}}': '$1.06', '{{name_lineitem_2}}': 'LineItem 2'}\n",
      "Replacements: {'{{name}}': 'Albertsons', '{{impressions}}': '6,128,568', '{{clicks}}': '11,510', '{{spend}}': '$13,182', '{{sales}}': '$104,748', '{{units}}': '8,471', '{{ROAS}}': '$7.95', '{{CPC}}': '$1.15', '{{snapshot date}}': '2025-03-01 - 2025-03-31', '{impressions_lineitem_1}': '6,128,568', '{{clicks_lineitem_1}}': '11,510', '{{spend_lineitem_1}}': '$13,182', '{{sales_lineitem_1}}': '$104,748', '{{units_lineitem_1}}': '8,471', '{{ROAS_lineitem_1}}': '$7.95', '{{CPC_lineitem_1}}': '$1.15', '{{name_lineitem_1}}': 'LineItem 1', '{impressions_lineitem_2}': '12,802,133', '{{clicks_lineitem_2}}': '9,688', '{{spend_lineitem_2}}': '$10,312', '{{sales_lineitem_2}}': '$22,733', '{{units_lineitem_2}}': '4,155', '{{ROAS_lineitem_2}}': '$2.20', '{{CPC_lineitem_2}}': '$1.06', '{{name_lineitem_2}}': 'LineItem 2'}\n",
      "Replacements: {'{{name}}': 'Albertsons', '{{impressions}}': '6,128,568', '{{clicks}}': '11,510', '{{spend}}': '$13,182', '{{sales}}': '$104,748', '{{units}}': '8,471', '{{ROAS}}': '$7.95', '{{CPC}}': '$1.15', '{{snapshot date}}': '2025-03-01 - 2025-03-31', '{impressions_lineitem_1}': '6,128,568', '{{clicks_lineitem_1}}': '11,510', '{{spend_lineitem_1}}': '$13,182', '{{sales_lineitem_1}}': '$104,748', '{{units_lineitem_1}}': '8,471', '{{ROAS_lineitem_1}}': '$7.95', '{{CPC_lineitem_1}}': '$1.15', '{{name_lineitem_1}}': 'LineItem 1', '{impressions_lineitem_2}': '12,802,133', '{{clicks_lineitem_2}}': '9,688', '{{spend_lineitem_2}}': '$10,312', '{{sales_lineitem_2}}': '$22,733', '{{units_lineitem_2}}': '4,155', '{{ROAS_lineitem_2}}': '$2.20', '{{CPC_lineitem_2}}': '$1.06', '{{name_lineitem_2}}': 'LineItem 2'}\n",
      "Replacements: {'{{name}}': 'Albertsons', '{{impressions}}': '6,128,568', '{{clicks}}': '11,510', '{{spend}}': '$13,182', '{{sales}}': '$104,748', '{{units}}': '8,471', '{{ROAS}}': '$7.95', '{{CPC}}': '$1.15', '{{snapshot date}}': '2025-03-01 - 2025-03-31', '{impressions_lineitem_1}': '6,128,568', '{{clicks_lineitem_1}}': '11,510', '{{spend_lineitem_1}}': '$13,182', '{{sales_lineitem_1}}': '$104,748', '{{units_lineitem_1}}': '8,471', '{{ROAS_lineitem_1}}': '$7.95', '{{CPC_lineitem_1}}': '$1.15', '{{name_lineitem_1}}': 'LineItem 1', '{impressions_lineitem_2}': '12,802,133', '{{clicks_lineitem_2}}': '9,688', '{{spend_lineitem_2}}': '$10,312', '{{sales_lineitem_2}}': '$22,733', '{{units_lineitem_2}}': '4,155', '{{ROAS_lineitem_2}}': '$2.20', '{{CPC_lineitem_2}}': '$1.06', '{{name_lineitem_2}}': 'LineItem 2'}\n",
      "Replacements: {'{{name}}': 'Albertsons', '{{impressions}}': '6,128,568', '{{clicks}}': '11,510', '{{spend}}': '$13,182', '{{sales}}': '$104,748', '{{units}}': '8,471', '{{ROAS}}': '$7.95', '{{CPC}}': '$1.15', '{{snapshot date}}': '2025-03-01 - 2025-03-31', '{impressions_lineitem_1}': '6,128,568', '{{clicks_lineitem_1}}': '11,510', '{{spend_lineitem_1}}': '$13,182', '{{sales_lineitem_1}}': '$104,748', '{{units_lineitem_1}}': '8,471', '{{ROAS_lineitem_1}}': '$7.95', '{{CPC_lineitem_1}}': '$1.15', '{{name_lineitem_1}}': 'LineItem 1', '{impressions_lineitem_2}': '12,802,133', '{{clicks_lineitem_2}}': '9,688', '{{spend_lineitem_2}}': '$10,312', '{{sales_lineitem_2}}': '$22,733', '{{units_lineitem_2}}': '4,155', '{{ROAS_lineitem_2}}': '$2.20', '{{CPC_lineitem_2}}': '$1.06', '{{name_lineitem_2}}': 'LineItem 2'}\n",
      "Replacements: {'{{name}}': 'Albertsons', '{{impressions}}': '6,128,568', '{{clicks}}': '11,510', '{{spend}}': '$13,182', '{{sales}}': '$104,748', '{{units}}': '8,471', '{{ROAS}}': '$7.95', '{{CPC}}': '$1.15', '{{snapshot date}}': '2025-03-01 - 2025-03-31', '{impressions_lineitem_1}': '6,128,568', '{{clicks_lineitem_1}}': '11,510', '{{spend_lineitem_1}}': '$13,182', '{{sales_lineitem_1}}': '$104,748', '{{units_lineitem_1}}': '8,471', '{{ROAS_lineitem_1}}': '$7.95', '{{CPC_lineitem_1}}': '$1.15', '{{name_lineitem_1}}': 'LineItem 1', '{impressions_lineitem_2}': '12,802,133', '{{clicks_lineitem_2}}': '9,688', '{{spend_lineitem_2}}': '$10,312', '{{sales_lineitem_2}}': '$22,733', '{{units_lineitem_2}}': '4,155', '{{ROAS_lineitem_2}}': '$2.20', '{{CPC_lineitem_2}}': '$1.06', '{{name_lineitem_2}}': 'LineItem 2'}\n",
      "Replacements: {'{{name}}': 'Albertsons', '{{impressions}}': '6,128,568', '{{clicks}}': '11,510', '{{spend}}': '$13,182', '{{sales}}': '$104,748', '{{units}}': '8,471', '{{ROAS}}': '$7.95', '{{CPC}}': '$1.15', '{{snapshot date}}': '2025-03-01 - 2025-03-31', '{impressions_lineitem_1}': '6,128,568', '{{clicks_lineitem_1}}': '11,510', '{{spend_lineitem_1}}': '$13,182', '{{sales_lineitem_1}}': '$104,748', '{{units_lineitem_1}}': '8,471', '{{ROAS_lineitem_1}}': '$7.95', '{{CPC_lineitem_1}}': '$1.15', '{{name_lineitem_1}}': 'LineItem 1', '{impressions_lineitem_2}': '12,802,133', '{{clicks_lineitem_2}}': '9,688', '{{spend_lineitem_2}}': '$10,312', '{{sales_lineitem_2}}': '$22,733', '{{units_lineitem_2}}': '4,155', '{{ROAS_lineitem_2}}': '$2.20', '{{CPC_lineitem_2}}': '$1.06', '{{name_lineitem_2}}': 'LineItem 2'}\n",
      "Replacements: {'{{name}}': 'Albertsons', '{{impressions}}': '6,128,568', '{{clicks}}': '11,510', '{{spend}}': '$13,182', '{{sales}}': '$104,748', '{{units}}': '8,471', '{{ROAS}}': '$7.95', '{{CPC}}': '$1.15', '{{snapshot date}}': '2025-03-01 - 2025-03-31', '{impressions_lineitem_1}': '6,128,568', '{{clicks_lineitem_1}}': '11,510', '{{spend_lineitem_1}}': '$13,182', '{{sales_lineitem_1}}': '$104,748', '{{units_lineitem_1}}': '8,471', '{{ROAS_lineitem_1}}': '$7.95', '{{CPC_lineitem_1}}': '$1.15', '{{name_lineitem_1}}': 'LineItem 1', '{impressions_lineitem_2}': '12,802,133', '{{clicks_lineitem_2}}': '9,688', '{{spend_lineitem_2}}': '$10,312', '{{sales_lineitem_2}}': '$22,733', '{{units_lineitem_2}}': '4,155', '{{ROAS_lineitem_2}}': '$2.20', '{{CPC_lineitem_2}}': '$1.06', '{{name_lineitem_2}}': 'LineItem 2'}\n",
      "Replacements: {'{{name}}': 'Albertsons', '{{impressions}}': '6,128,568', '{{clicks}}': '11,510', '{{spend}}': '$13,182', '{{sales}}': '$104,748', '{{units}}': '8,471', '{{ROAS}}': '$7.95', '{{CPC}}': '$1.15', '{{snapshot date}}': '2025-03-01 - 2025-03-31', '{impressions_lineitem_1}': '6,128,568', '{{clicks_lineitem_1}}': '11,510', '{{spend_lineitem_1}}': '$13,182', '{{sales_lineitem_1}}': '$104,748', '{{units_lineitem_1}}': '8,471', '{{ROAS_lineitem_1}}': '$7.95', '{{CPC_lineitem_1}}': '$1.15', '{{name_lineitem_1}}': 'LineItem 1', '{impressions_lineitem_2}': '12,802,133', '{{clicks_lineitem_2}}': '9,688', '{{spend_lineitem_2}}': '$10,312', '{{sales_lineitem_2}}': '$22,733', '{{units_lineitem_2}}': '4,155', '{{ROAS_lineitem_2}}': '$2.20', '{{CPC_lineitem_2}}': '$1.06', '{{name_lineitem_2}}': 'LineItem 2'}\n",
      "Replacements: {'{{name}}': 'Albertsons', '{{impressions}}': '6,128,568', '{{clicks}}': '11,510', '{{spend}}': '$13,182', '{{sales}}': '$104,748', '{{units}}': '8,471', '{{ROAS}}': '$7.95', '{{CPC}}': '$1.15', '{{snapshot date}}': '2025-03-01 - 2025-03-31', '{impressions_lineitem_1}': '6,128,568', '{{clicks_lineitem_1}}': '11,510', '{{spend_lineitem_1}}': '$13,182', '{{sales_lineitem_1}}': '$104,748', '{{units_lineitem_1}}': '8,471', '{{ROAS_lineitem_1}}': '$7.95', '{{CPC_lineitem_1}}': '$1.15', '{{name_lineitem_1}}': 'LineItem 1', '{impressions_lineitem_2}': '12,802,133', '{{clicks_lineitem_2}}': '9,688', '{{spend_lineitem_2}}': '$10,312', '{{sales_lineitem_2}}': '$22,733', '{{units_lineitem_2}}': '4,155', '{{ROAS_lineitem_2}}': '$2.20', '{{CPC_lineitem_2}}': '$1.06', '{{name_lineitem_2}}': 'LineItem 2'}\n",
      "Replacements: {'{{name}}': 'Albertsons', '{{impressions}}': '6,128,568', '{{clicks}}': '11,510', '{{spend}}': '$13,182', '{{sales}}': '$104,748', '{{units}}': '8,471', '{{ROAS}}': '$7.95', '{{CPC}}': '$1.15', '{{snapshot date}}': '2025-03-01 - 2025-03-31', '{impressions_lineitem_1}': '6,128,568', '{{clicks_lineitem_1}}': '11,510', '{{spend_lineitem_1}}': '$13,182', '{{sales_lineitem_1}}': '$104,748', '{{units_lineitem_1}}': '8,471', '{{ROAS_lineitem_1}}': '$7.95', '{{CPC_lineitem_1}}': '$1.15', '{{name_lineitem_1}}': 'LineItem 1', '{impressions_lineitem_2}': '12,802,133', '{{clicks_lineitem_2}}': '9,688', '{{spend_lineitem_2}}': '$10,312', '{{sales_lineitem_2}}': '$22,733', '{{units_lineitem_2}}': '4,155', '{{ROAS_lineitem_2}}': '$2.20', '{{CPC_lineitem_2}}': '$1.06', '{{name_lineitem_2}}': 'LineItem 2'}\n",
      "Replacements: {'{{name}}': 'Albertsons', '{{impressions}}': '6,128,568', '{{clicks}}': '11,510', '{{spend}}': '$13,182', '{{sales}}': '$104,748', '{{units}}': '8,471', '{{ROAS}}': '$7.95', '{{CPC}}': '$1.15', '{{snapshot date}}': '2025-03-01 - 2025-03-31', '{impressions_lineitem_1}': '6,128,568', '{{clicks_lineitem_1}}': '11,510', '{{spend_lineitem_1}}': '$13,182', '{{sales_lineitem_1}}': '$104,748', '{{units_lineitem_1}}': '8,471', '{{ROAS_lineitem_1}}': '$7.95', '{{CPC_lineitem_1}}': '$1.15', '{{name_lineitem_1}}': 'LineItem 1', '{impressions_lineitem_2}': '12,802,133', '{{clicks_lineitem_2}}': '9,688', '{{spend_lineitem_2}}': '$10,312', '{{sales_lineitem_2}}': '$22,733', '{{units_lineitem_2}}': '4,155', '{{ROAS_lineitem_2}}': '$2.20', '{{CPC_lineitem_2}}': '$1.06', '{{name_lineitem_2}}': 'LineItem 2'}\n",
      "Replacements: {'{{name}}': 'Albertsons', '{{impressions}}': '6,128,568', '{{clicks}}': '11,510', '{{spend}}': '$13,182', '{{sales}}': '$104,748', '{{units}}': '8,471', '{{ROAS}}': '$7.95', '{{CPC}}': '$1.15', '{{snapshot date}}': '2025-03-01 - 2025-03-31', '{impressions_lineitem_1}': '6,128,568', '{{clicks_lineitem_1}}': '11,510', '{{spend_lineitem_1}}': '$13,182', '{{sales_lineitem_1}}': '$104,748', '{{units_lineitem_1}}': '8,471', '{{ROAS_lineitem_1}}': '$7.95', '{{CPC_lineitem_1}}': '$1.15', '{{name_lineitem_1}}': 'LineItem 1', '{impressions_lineitem_2}': '12,802,133', '{{clicks_lineitem_2}}': '9,688', '{{spend_lineitem_2}}': '$10,312', '{{sales_lineitem_2}}': '$22,733', '{{units_lineitem_2}}': '4,155', '{{ROAS_lineitem_2}}': '$2.20', '{{CPC_lineitem_2}}': '$1.06', '{{name_lineitem_2}}': 'LineItem 2'}\n",
      "Replacements: {'{{name}}': 'Albertsons', '{{impressions}}': '6,128,568', '{{clicks}}': '11,510', '{{spend}}': '$13,182', '{{sales}}': '$104,748', '{{units}}': '8,471', '{{ROAS}}': '$7.95', '{{CPC}}': '$1.15', '{{snapshot date}}': '2025-03-01 - 2025-03-31', '{impressions_lineitem_1}': '6,128,568', '{{clicks_lineitem_1}}': '11,510', '{{spend_lineitem_1}}': '$13,182', '{{sales_lineitem_1}}': '$104,748', '{{units_lineitem_1}}': '8,471', '{{ROAS_lineitem_1}}': '$7.95', '{{CPC_lineitem_1}}': '$1.15', '{{name_lineitem_1}}': 'LineItem 1', '{impressions_lineitem_2}': '12,802,133', '{{clicks_lineitem_2}}': '9,688', '{{spend_lineitem_2}}': '$10,312', '{{sales_lineitem_2}}': '$22,733', '{{units_lineitem_2}}': '4,155', '{{ROAS_lineitem_2}}': '$2.20', '{{CPC_lineitem_2}}': '$1.06', '{{name_lineitem_2}}': 'LineItem 2'}\n",
      "Replacements: {'{{name}}': 'Albertsons', '{{impressions}}': '6,128,568', '{{clicks}}': '11,510', '{{spend}}': '$13,182', '{{sales}}': '$104,748', '{{units}}': '8,471', '{{ROAS}}': '$7.95', '{{CPC}}': '$1.15', '{{snapshot date}}': '2025-03-01 - 2025-03-31', '{impressions_lineitem_1}': '6,128,568', '{{clicks_lineitem_1}}': '11,510', '{{spend_lineitem_1}}': '$13,182', '{{sales_lineitem_1}}': '$104,748', '{{units_lineitem_1}}': '8,471', '{{ROAS_lineitem_1}}': '$7.95', '{{CPC_lineitem_1}}': '$1.15', '{{name_lineitem_1}}': 'LineItem 1', '{impressions_lineitem_2}': '12,802,133', '{{clicks_lineitem_2}}': '9,688', '{{spend_lineitem_2}}': '$10,312', '{{sales_lineitem_2}}': '$22,733', '{{units_lineitem_2}}': '4,155', '{{ROAS_lineitem_2}}': '$2.20', '{{CPC_lineitem_2}}': '$1.06', '{{name_lineitem_2}}': 'LineItem 2'}\n",
      "Replacements: {'{{name}}': 'Albertsons', '{{impressions}}': '6,128,568', '{{clicks}}': '11,510', '{{spend}}': '$13,182', '{{sales}}': '$104,748', '{{units}}': '8,471', '{{ROAS}}': '$7.95', '{{CPC}}': '$1.15', '{{snapshot date}}': '2025-03-01 - 2025-03-31', '{impressions_lineitem_1}': '6,128,568', '{{clicks_lineitem_1}}': '11,510', '{{spend_lineitem_1}}': '$13,182', '{{sales_lineitem_1}}': '$104,748', '{{units_lineitem_1}}': '8,471', '{{ROAS_lineitem_1}}': '$7.95', '{{CPC_lineitem_1}}': '$1.15', '{{name_lineitem_1}}': 'LineItem 1', '{impressions_lineitem_2}': '12,802,133', '{{clicks_lineitem_2}}': '9,688', '{{spend_lineitem_2}}': '$10,312', '{{sales_lineitem_2}}': '$22,733', '{{units_lineitem_2}}': '4,155', '{{ROAS_lineitem_2}}': '$2.20', '{{CPC_lineitem_2}}': '$1.06', '{{name_lineitem_2}}': 'LineItem 2'}\n",
      "Replacements: {'{{name}}': 'Albertsons', '{{impressions}}': '6,128,568', '{{clicks}}': '11,510', '{{spend}}': '$13,182', '{{sales}}': '$104,748', '{{units}}': '8,471', '{{ROAS}}': '$7.95', '{{CPC}}': '$1.15', '{{snapshot date}}': '2025-03-01 - 2025-03-31', '{impressions_lineitem_1}': '6,128,568', '{{clicks_lineitem_1}}': '11,510', '{{spend_lineitem_1}}': '$13,182', '{{sales_lineitem_1}}': '$104,748', '{{units_lineitem_1}}': '8,471', '{{ROAS_lineitem_1}}': '$7.95', '{{CPC_lineitem_1}}': '$1.15', '{{name_lineitem_1}}': 'LineItem 1', '{impressions_lineitem_2}': '12,802,133', '{{clicks_lineitem_2}}': '9,688', '{{spend_lineitem_2}}': '$10,312', '{{sales_lineitem_2}}': '$22,733', '{{units_lineitem_2}}': '4,155', '{{ROAS_lineitem_2}}': '$2.20', '{{CPC_lineitem_2}}': '$1.06', '{{name_lineitem_2}}': 'LineItem 2'}\n",
      "Replacements: {'{{name}}': 'Albertsons', '{{impressions}}': '6,128,568', '{{clicks}}': '11,510', '{{spend}}': '$13,182', '{{sales}}': '$104,748', '{{units}}': '8,471', '{{ROAS}}': '$7.95', '{{CPC}}': '$1.15', '{{snapshot date}}': '2025-03-01 - 2025-03-31', '{impressions_lineitem_1}': '6,128,568', '{{clicks_lineitem_1}}': '11,510', '{{spend_lineitem_1}}': '$13,182', '{{sales_lineitem_1}}': '$104,748', '{{units_lineitem_1}}': '8,471', '{{ROAS_lineitem_1}}': '$7.95', '{{CPC_lineitem_1}}': '$1.15', '{{name_lineitem_1}}': 'LineItem 1', '{impressions_lineitem_2}': '12,802,133', '{{clicks_lineitem_2}}': '9,688', '{{spend_lineitem_2}}': '$10,312', '{{sales_lineitem_2}}': '$22,733', '{{units_lineitem_2}}': '4,155', '{{ROAS_lineitem_2}}': '$2.20', '{{CPC_lineitem_2}}': '$1.06', '{{name_lineitem_2}}': 'LineItem 2'}\n",
      "Replacements: {'{{name}}': 'Albertsons', '{{impressions}}': '5,088,805', '{{clicks}}': '9,418', '{{spend}}': '$11,908', '{{sales}}': '$77,489', '{{units}}': '6,432', '{{ROAS}}': '$6.51', '{{CPC}}': '$1.26', '{{snapshot date}}': '2025-02-01 - 2025-02-28', '{impressions_lineitem_1}': '5,088,805', '{{clicks_lineitem_1}}': '9,418', '{{spend_lineitem_1}}': '$11,908', '{{sales_lineitem_1}}': '$77,489', '{{units_lineitem_1}}': '6,432', '{{ROAS_lineitem_1}}': '$6.51', '{{CPC_lineitem_1}}': '$1.26', '{{name_lineitem_1}}': 'LineItem 1', '{impressions_lineitem_2}': '8,451,411', '{{clicks_lineitem_2}}': '9,606', '{{spend_lineitem_2}}': '$9,543', '{{sales_lineitem_2}}': '$21,354', '{{units_lineitem_2}}': '3,407', '{{ROAS_lineitem_2}}': '$2.24', '{{CPC_lineitem_2}}': '$0.99', '{{name_lineitem_2}}': 'LineItem 2'}\n",
      "Replacements: {'{{name}}': 'Albertsons', '{{impressions}}': '5,088,805', '{{clicks}}': '9,418', '{{spend}}': '$11,908', '{{sales}}': '$77,489', '{{units}}': '6,432', '{{ROAS}}': '$6.51', '{{CPC}}': '$1.26', '{{snapshot date}}': '2025-02-01 - 2025-02-28', '{impressions_lineitem_1}': '5,088,805', '{{clicks_lineitem_1}}': '9,418', '{{spend_lineitem_1}}': '$11,908', '{{sales_lineitem_1}}': '$77,489', '{{units_lineitem_1}}': '6,432', '{{ROAS_lineitem_1}}': '$6.51', '{{CPC_lineitem_1}}': '$1.26', '{{name_lineitem_1}}': 'LineItem 1', '{impressions_lineitem_2}': '8,451,411', '{{clicks_lineitem_2}}': '9,606', '{{spend_lineitem_2}}': '$9,543', '{{sales_lineitem_2}}': '$21,354', '{{units_lineitem_2}}': '3,407', '{{ROAS_lineitem_2}}': '$2.24', '{{CPC_lineitem_2}}': '$0.99', '{{name_lineitem_2}}': 'LineItem 2'}\n",
      "Replacements: {'{{name}}': 'Albertsons', '{{impressions}}': '5,088,805', '{{clicks}}': '9,418', '{{spend}}': '$11,908', '{{sales}}': '$77,489', '{{units}}': '6,432', '{{ROAS}}': '$6.51', '{{CPC}}': '$1.26', '{{snapshot date}}': '2025-02-01 - 2025-02-28', '{impressions_lineitem_1}': '5,088,805', '{{clicks_lineitem_1}}': '9,418', '{{spend_lineitem_1}}': '$11,908', '{{sales_lineitem_1}}': '$77,489', '{{units_lineitem_1}}': '6,432', '{{ROAS_lineitem_1}}': '$6.51', '{{CPC_lineitem_1}}': '$1.26', '{{name_lineitem_1}}': 'LineItem 1', '{impressions_lineitem_2}': '8,451,411', '{{clicks_lineitem_2}}': '9,606', '{{spend_lineitem_2}}': '$9,543', '{{sales_lineitem_2}}': '$21,354', '{{units_lineitem_2}}': '3,407', '{{ROAS_lineitem_2}}': '$2.24', '{{CPC_lineitem_2}}': '$0.99', '{{name_lineitem_2}}': 'LineItem 2'}\n",
      "Replacements: {'{{name}}': 'Albertsons', '{{impressions}}': '5,088,805', '{{clicks}}': '9,418', '{{spend}}': '$11,908', '{{sales}}': '$77,489', '{{units}}': '6,432', '{{ROAS}}': '$6.51', '{{CPC}}': '$1.26', '{{snapshot date}}': '2025-02-01 - 2025-02-28', '{impressions_lineitem_1}': '5,088,805', '{{clicks_lineitem_1}}': '9,418', '{{spend_lineitem_1}}': '$11,908', '{{sales_lineitem_1}}': '$77,489', '{{units_lineitem_1}}': '6,432', '{{ROAS_lineitem_1}}': '$6.51', '{{CPC_lineitem_1}}': '$1.26', '{{name_lineitem_1}}': 'LineItem 1', '{impressions_lineitem_2}': '8,451,411', '{{clicks_lineitem_2}}': '9,606', '{{spend_lineitem_2}}': '$9,543', '{{sales_lineitem_2}}': '$21,354', '{{units_lineitem_2}}': '3,407', '{{ROAS_lineitem_2}}': '$2.24', '{{CPC_lineitem_2}}': '$0.99', '{{name_lineitem_2}}': 'LineItem 2'}\n",
      "Replacements: {'{{name}}': 'Albertsons', '{{impressions}}': '5,088,805', '{{clicks}}': '9,418', '{{spend}}': '$11,908', '{{sales}}': '$77,489', '{{units}}': '6,432', '{{ROAS}}': '$6.51', '{{CPC}}': '$1.26', '{{snapshot date}}': '2025-02-01 - 2025-02-28', '{impressions_lineitem_1}': '5,088,805', '{{clicks_lineitem_1}}': '9,418', '{{spend_lineitem_1}}': '$11,908', '{{sales_lineitem_1}}': '$77,489', '{{units_lineitem_1}}': '6,432', '{{ROAS_lineitem_1}}': '$6.51', '{{CPC_lineitem_1}}': '$1.26', '{{name_lineitem_1}}': 'LineItem 1', '{impressions_lineitem_2}': '8,451,411', '{{clicks_lineitem_2}}': '9,606', '{{spend_lineitem_2}}': '$9,543', '{{sales_lineitem_2}}': '$21,354', '{{units_lineitem_2}}': '3,407', '{{ROAS_lineitem_2}}': '$2.24', '{{CPC_lineitem_2}}': '$0.99', '{{name_lineitem_2}}': 'LineItem 2'}\n",
      "Replacements: {'{{name}}': 'Albertsons', '{{impressions}}': '5,088,805', '{{clicks}}': '9,418', '{{spend}}': '$11,908', '{{sales}}': '$77,489', '{{units}}': '6,432', '{{ROAS}}': '$6.51', '{{CPC}}': '$1.26', '{{snapshot date}}': '2025-02-01 - 2025-02-28', '{impressions_lineitem_1}': '5,088,805', '{{clicks_lineitem_1}}': '9,418', '{{spend_lineitem_1}}': '$11,908', '{{sales_lineitem_1}}': '$77,489', '{{units_lineitem_1}}': '6,432', '{{ROAS_lineitem_1}}': '$6.51', '{{CPC_lineitem_1}}': '$1.26', '{{name_lineitem_1}}': 'LineItem 1', '{impressions_lineitem_2}': '8,451,411', '{{clicks_lineitem_2}}': '9,606', '{{spend_lineitem_2}}': '$9,543', '{{sales_lineitem_2}}': '$21,354', '{{units_lineitem_2}}': '3,407', '{{ROAS_lineitem_2}}': '$2.24', '{{CPC_lineitem_2}}': '$0.99', '{{name_lineitem_2}}': 'LineItem 2'}\n",
      "Replacements: {'{{name}}': 'Albertsons', '{{impressions}}': '5,088,805', '{{clicks}}': '9,418', '{{spend}}': '$11,908', '{{sales}}': '$77,489', '{{units}}': '6,432', '{{ROAS}}': '$6.51', '{{CPC}}': '$1.26', '{{snapshot date}}': '2025-02-01 - 2025-02-28', '{impressions_lineitem_1}': '5,088,805', '{{clicks_lineitem_1}}': '9,418', '{{spend_lineitem_1}}': '$11,908', '{{sales_lineitem_1}}': '$77,489', '{{units_lineitem_1}}': '6,432', '{{ROAS_lineitem_1}}': '$6.51', '{{CPC_lineitem_1}}': '$1.26', '{{name_lineitem_1}}': 'LineItem 1', '{impressions_lineitem_2}': '8,451,411', '{{clicks_lineitem_2}}': '9,606', '{{spend_lineitem_2}}': '$9,543', '{{sales_lineitem_2}}': '$21,354', '{{units_lineitem_2}}': '3,407', '{{ROAS_lineitem_2}}': '$2.24', '{{CPC_lineitem_2}}': '$0.99', '{{name_lineitem_2}}': 'LineItem 2'}\n",
      "Replacements: {'{{name}}': 'Albertsons', '{{impressions}}': '5,088,805', '{{clicks}}': '9,418', '{{spend}}': '$11,908', '{{sales}}': '$77,489', '{{units}}': '6,432', '{{ROAS}}': '$6.51', '{{CPC}}': '$1.26', '{{snapshot date}}': '2025-02-01 - 2025-02-28', '{impressions_lineitem_1}': '5,088,805', '{{clicks_lineitem_1}}': '9,418', '{{spend_lineitem_1}}': '$11,908', '{{sales_lineitem_1}}': '$77,489', '{{units_lineitem_1}}': '6,432', '{{ROAS_lineitem_1}}': '$6.51', '{{CPC_lineitem_1}}': '$1.26', '{{name_lineitem_1}}': 'LineItem 1', '{impressions_lineitem_2}': '8,451,411', '{{clicks_lineitem_2}}': '9,606', '{{spend_lineitem_2}}': '$9,543', '{{sales_lineitem_2}}': '$21,354', '{{units_lineitem_2}}': '3,407', '{{ROAS_lineitem_2}}': '$2.24', '{{CPC_lineitem_2}}': '$0.99', '{{name_lineitem_2}}': 'LineItem 2'}\n",
      "Replacements: {'{{name}}': 'Albertsons', '{{impressions}}': '5,088,805', '{{clicks}}': '9,418', '{{spend}}': '$11,908', '{{sales}}': '$77,489', '{{units}}': '6,432', '{{ROAS}}': '$6.51', '{{CPC}}': '$1.26', '{{snapshot date}}': '2025-02-01 - 2025-02-28', '{impressions_lineitem_1}': '5,088,805', '{{clicks_lineitem_1}}': '9,418', '{{spend_lineitem_1}}': '$11,908', '{{sales_lineitem_1}}': '$77,489', '{{units_lineitem_1}}': '6,432', '{{ROAS_lineitem_1}}': '$6.51', '{{CPC_lineitem_1}}': '$1.26', '{{name_lineitem_1}}': 'LineItem 1', '{impressions_lineitem_2}': '8,451,411', '{{clicks_lineitem_2}}': '9,606', '{{spend_lineitem_2}}': '$9,543', '{{sales_lineitem_2}}': '$21,354', '{{units_lineitem_2}}': '3,407', '{{ROAS_lineitem_2}}': '$2.24', '{{CPC_lineitem_2}}': '$0.99', '{{name_lineitem_2}}': 'LineItem 2'}\n",
      "Replacements: {'{{name}}': 'Albertsons', '{{impressions}}': '5,088,805', '{{clicks}}': '9,418', '{{spend}}': '$11,908', '{{sales}}': '$77,489', '{{units}}': '6,432', '{{ROAS}}': '$6.51', '{{CPC}}': '$1.26', '{{snapshot date}}': '2025-02-01 - 2025-02-28', '{impressions_lineitem_1}': '5,088,805', '{{clicks_lineitem_1}}': '9,418', '{{spend_lineitem_1}}': '$11,908', '{{sales_lineitem_1}}': '$77,489', '{{units_lineitem_1}}': '6,432', '{{ROAS_lineitem_1}}': '$6.51', '{{CPC_lineitem_1}}': '$1.26', '{{name_lineitem_1}}': 'LineItem 1', '{impressions_lineitem_2}': '8,451,411', '{{clicks_lineitem_2}}': '9,606', '{{spend_lineitem_2}}': '$9,543', '{{sales_lineitem_2}}': '$21,354', '{{units_lineitem_2}}': '3,407', '{{ROAS_lineitem_2}}': '$2.24', '{{CPC_lineitem_2}}': '$0.99', '{{name_lineitem_2}}': 'LineItem 2'}\n",
      "Replacements: {'{{name}}': 'Albertsons', '{{impressions}}': '5,088,805', '{{clicks}}': '9,418', '{{spend}}': '$11,908', '{{sales}}': '$77,489', '{{units}}': '6,432', '{{ROAS}}': '$6.51', '{{CPC}}': '$1.26', '{{snapshot date}}': '2025-02-01 - 2025-02-28', '{impressions_lineitem_1}': '5,088,805', '{{clicks_lineitem_1}}': '9,418', '{{spend_lineitem_1}}': '$11,908', '{{sales_lineitem_1}}': '$77,489', '{{units_lineitem_1}}': '6,432', '{{ROAS_lineitem_1}}': '$6.51', '{{CPC_lineitem_1}}': '$1.26', '{{name_lineitem_1}}': 'LineItem 1', '{impressions_lineitem_2}': '8,451,411', '{{clicks_lineitem_2}}': '9,606', '{{spend_lineitem_2}}': '$9,543', '{{sales_lineitem_2}}': '$21,354', '{{units_lineitem_2}}': '3,407', '{{ROAS_lineitem_2}}': '$2.24', '{{CPC_lineitem_2}}': '$0.99', '{{name_lineitem_2}}': 'LineItem 2'}\n",
      "Replacements: {'{{name}}': 'Albertsons', '{{impressions}}': '5,088,805', '{{clicks}}': '9,418', '{{spend}}': '$11,908', '{{sales}}': '$77,489', '{{units}}': '6,432', '{{ROAS}}': '$6.51', '{{CPC}}': '$1.26', '{{snapshot date}}': '2025-02-01 - 2025-02-28', '{impressions_lineitem_1}': '5,088,805', '{{clicks_lineitem_1}}': '9,418', '{{spend_lineitem_1}}': '$11,908', '{{sales_lineitem_1}}': '$77,489', '{{units_lineitem_1}}': '6,432', '{{ROAS_lineitem_1}}': '$6.51', '{{CPC_lineitem_1}}': '$1.26', '{{name_lineitem_1}}': 'LineItem 1', '{impressions_lineitem_2}': '8,451,411', '{{clicks_lineitem_2}}': '9,606', '{{spend_lineitem_2}}': '$9,543', '{{sales_lineitem_2}}': '$21,354', '{{units_lineitem_2}}': '3,407', '{{ROAS_lineitem_2}}': '$2.24', '{{CPC_lineitem_2}}': '$0.99', '{{name_lineitem_2}}': 'LineItem 2'}\n",
      "Replacements: {'{{name}}': 'Albertsons', '{{impressions}}': '5,088,805', '{{clicks}}': '9,418', '{{spend}}': '$11,908', '{{sales}}': '$77,489', '{{units}}': '6,432', '{{ROAS}}': '$6.51', '{{CPC}}': '$1.26', '{{snapshot date}}': '2025-02-01 - 2025-02-28', '{impressions_lineitem_1}': '5,088,805', '{{clicks_lineitem_1}}': '9,418', '{{spend_lineitem_1}}': '$11,908', '{{sales_lineitem_1}}': '$77,489', '{{units_lineitem_1}}': '6,432', '{{ROAS_lineitem_1}}': '$6.51', '{{CPC_lineitem_1}}': '$1.26', '{{name_lineitem_1}}': 'LineItem 1', '{impressions_lineitem_2}': '8,451,411', '{{clicks_lineitem_2}}': '9,606', '{{spend_lineitem_2}}': '$9,543', '{{sales_lineitem_2}}': '$21,354', '{{units_lineitem_2}}': '3,407', '{{ROAS_lineitem_2}}': '$2.24', '{{CPC_lineitem_2}}': '$0.99', '{{name_lineitem_2}}': 'LineItem 2'}\n",
      "Replacements: {'{{name}}': 'Albertsons', '{{impressions}}': '5,088,805', '{{clicks}}': '9,418', '{{spend}}': '$11,908', '{{sales}}': '$77,489', '{{units}}': '6,432', '{{ROAS}}': '$6.51', '{{CPC}}': '$1.26', '{{snapshot date}}': '2025-02-01 - 2025-02-28', '{impressions_lineitem_1}': '5,088,805', '{{clicks_lineitem_1}}': '9,418', '{{spend_lineitem_1}}': '$11,908', '{{sales_lineitem_1}}': '$77,489', '{{units_lineitem_1}}': '6,432', '{{ROAS_lineitem_1}}': '$6.51', '{{CPC_lineitem_1}}': '$1.26', '{{name_lineitem_1}}': 'LineItem 1', '{impressions_lineitem_2}': '8,451,411', '{{clicks_lineitem_2}}': '9,606', '{{spend_lineitem_2}}': '$9,543', '{{sales_lineitem_2}}': '$21,354', '{{units_lineitem_2}}': '3,407', '{{ROAS_lineitem_2}}': '$2.24', '{{CPC_lineitem_2}}': '$0.99', '{{name_lineitem_2}}': 'LineItem 2'}\n",
      "Replacements: {'{{name}}': 'Albertsons', '{{impressions}}': '5,088,805', '{{clicks}}': '9,418', '{{spend}}': '$11,908', '{{sales}}': '$77,489', '{{units}}': '6,432', '{{ROAS}}': '$6.51', '{{CPC}}': '$1.26', '{{snapshot date}}': '2025-02-01 - 2025-02-28', '{impressions_lineitem_1}': '5,088,805', '{{clicks_lineitem_1}}': '9,418', '{{spend_lineitem_1}}': '$11,908', '{{sales_lineitem_1}}': '$77,489', '{{units_lineitem_1}}': '6,432', '{{ROAS_lineitem_1}}': '$6.51', '{{CPC_lineitem_1}}': '$1.26', '{{name_lineitem_1}}': 'LineItem 1', '{impressions_lineitem_2}': '8,451,411', '{{clicks_lineitem_2}}': '9,606', '{{spend_lineitem_2}}': '$9,543', '{{sales_lineitem_2}}': '$21,354', '{{units_lineitem_2}}': '3,407', '{{ROAS_lineitem_2}}': '$2.24', '{{CPC_lineitem_2}}': '$0.99', '{{name_lineitem_2}}': 'LineItem 2'}\n",
      "Replacements: {'{{name}}': 'Albertsons', '{{impressions}}': '5,088,805', '{{clicks}}': '9,418', '{{spend}}': '$11,908', '{{sales}}': '$77,489', '{{units}}': '6,432', '{{ROAS}}': '$6.51', '{{CPC}}': '$1.26', '{{snapshot date}}': '2025-02-01 - 2025-02-28', '{impressions_lineitem_1}': '5,088,805', '{{clicks_lineitem_1}}': '9,418', '{{spend_lineitem_1}}': '$11,908', '{{sales_lineitem_1}}': '$77,489', '{{units_lineitem_1}}': '6,432', '{{ROAS_lineitem_1}}': '$6.51', '{{CPC_lineitem_1}}': '$1.26', '{{name_lineitem_1}}': 'LineItem 1', '{impressions_lineitem_2}': '8,451,411', '{{clicks_lineitem_2}}': '9,606', '{{spend_lineitem_2}}': '$9,543', '{{sales_lineitem_2}}': '$21,354', '{{units_lineitem_2}}': '3,407', '{{ROAS_lineitem_2}}': '$2.24', '{{CPC_lineitem_2}}': '$0.99', '{{name_lineitem_2}}': 'LineItem 2'}\n",
      "Replacements: {'{{name}}': 'Albertsons', '{{impressions}}': '5,088,805', '{{clicks}}': '9,418', '{{spend}}': '$11,908', '{{sales}}': '$77,489', '{{units}}': '6,432', '{{ROAS}}': '$6.51', '{{CPC}}': '$1.26', '{{snapshot date}}': '2025-02-01 - 2025-02-28', '{impressions_lineitem_1}': '5,088,805', '{{clicks_lineitem_1}}': '9,418', '{{spend_lineitem_1}}': '$11,908', '{{sales_lineitem_1}}': '$77,489', '{{units_lineitem_1}}': '6,432', '{{ROAS_lineitem_1}}': '$6.51', '{{CPC_lineitem_1}}': '$1.26', '{{name_lineitem_1}}': 'LineItem 1', '{impressions_lineitem_2}': '8,451,411', '{{clicks_lineitem_2}}': '9,606', '{{spend_lineitem_2}}': '$9,543', '{{sales_lineitem_2}}': '$21,354', '{{units_lineitem_2}}': '3,407', '{{ROAS_lineitem_2}}': '$2.24', '{{CPC_lineitem_2}}': '$0.99', '{{name_lineitem_2}}': 'LineItem 2'}\n",
      "Replacements: {'{{name}}': 'Albertsons', '{{impressions}}': '5,088,805', '{{clicks}}': '9,418', '{{spend}}': '$11,908', '{{sales}}': '$77,489', '{{units}}': '6,432', '{{ROAS}}': '$6.51', '{{CPC}}': '$1.26', '{{snapshot date}}': '2025-02-01 - 2025-02-28', '{impressions_lineitem_1}': '5,088,805', '{{clicks_lineitem_1}}': '9,418', '{{spend_lineitem_1}}': '$11,908', '{{sales_lineitem_1}}': '$77,489', '{{units_lineitem_1}}': '6,432', '{{ROAS_lineitem_1}}': '$6.51', '{{CPC_lineitem_1}}': '$1.26', '{{name_lineitem_1}}': 'LineItem 1', '{impressions_lineitem_2}': '8,451,411', '{{clicks_lineitem_2}}': '9,606', '{{spend_lineitem_2}}': '$9,543', '{{sales_lineitem_2}}': '$21,354', '{{units_lineitem_2}}': '3,407', '{{ROAS_lineitem_2}}': '$2.24', '{{CPC_lineitem_2}}': '$0.99', '{{name_lineitem_2}}': 'LineItem 2'}\n",
      "Replacements: {'{{name}}': 'Albertsons', '{{impressions}}': '5,088,805', '{{clicks}}': '9,418', '{{spend}}': '$11,908', '{{sales}}': '$77,489', '{{units}}': '6,432', '{{ROAS}}': '$6.51', '{{CPC}}': '$1.26', '{{snapshot date}}': '2025-02-01 - 2025-02-28', '{impressions_lineitem_1}': '5,088,805', '{{clicks_lineitem_1}}': '9,418', '{{spend_lineitem_1}}': '$11,908', '{{sales_lineitem_1}}': '$77,489', '{{units_lineitem_1}}': '6,432', '{{ROAS_lineitem_1}}': '$6.51', '{{CPC_lineitem_1}}': '$1.26', '{{name_lineitem_1}}': 'LineItem 1', '{impressions_lineitem_2}': '8,451,411', '{{clicks_lineitem_2}}': '9,606', '{{spend_lineitem_2}}': '$9,543', '{{sales_lineitem_2}}': '$21,354', '{{units_lineitem_2}}': '3,407', '{{ROAS_lineitem_2}}': '$2.24', '{{CPC_lineitem_2}}': '$0.99', '{{name_lineitem_2}}': 'LineItem 2'}\n",
      "Replacements: {'{{name}}': 'Albertsons', '{{impressions}}': '5,088,805', '{{clicks}}': '9,418', '{{spend}}': '$11,908', '{{sales}}': '$77,489', '{{units}}': '6,432', '{{ROAS}}': '$6.51', '{{CPC}}': '$1.26', '{{snapshot date}}': '2025-02-01 - 2025-02-28', '{impressions_lineitem_1}': '5,088,805', '{{clicks_lineitem_1}}': '9,418', '{{spend_lineitem_1}}': '$11,908', '{{sales_lineitem_1}}': '$77,489', '{{units_lineitem_1}}': '6,432', '{{ROAS_lineitem_1}}': '$6.51', '{{CPC_lineitem_1}}': '$1.26', '{{name_lineitem_1}}': 'LineItem 1', '{impressions_lineitem_2}': '8,451,411', '{{clicks_lineitem_2}}': '9,606', '{{spend_lineitem_2}}': '$9,543', '{{sales_lineitem_2}}': '$21,354', '{{units_lineitem_2}}': '3,407', '{{ROAS_lineitem_2}}': '$2.24', '{{CPC_lineitem_2}}': '$0.99', '{{name_lineitem_2}}': 'LineItem 2'}\n",
      "Replacements: {'{{name}}': 'Albertsons', '{{impressions}}': '5,088,805', '{{clicks}}': '9,418', '{{spend}}': '$11,908', '{{sales}}': '$77,489', '{{units}}': '6,432', '{{ROAS}}': '$6.51', '{{CPC}}': '$1.26', '{{snapshot date}}': '2025-02-01 - 2025-02-28', '{impressions_lineitem_1}': '5,088,805', '{{clicks_lineitem_1}}': '9,418', '{{spend_lineitem_1}}': '$11,908', '{{sales_lineitem_1}}': '$77,489', '{{units_lineitem_1}}': '6,432', '{{ROAS_lineitem_1}}': '$6.51', '{{CPC_lineitem_1}}': '$1.26', '{{name_lineitem_1}}': 'LineItem 1', '{impressions_lineitem_2}': '8,451,411', '{{clicks_lineitem_2}}': '9,606', '{{spend_lineitem_2}}': '$9,543', '{{sales_lineitem_2}}': '$21,354', '{{units_lineitem_2}}': '3,407', '{{ROAS_lineitem_2}}': '$2.24', '{{CPC_lineitem_2}}': '$0.99', '{{name_lineitem_2}}': 'LineItem 2'}\n",
      "Replacements: {'{{name}}': 'Albertsons', '{{impressions}}': '5,088,805', '{{clicks}}': '9,418', '{{spend}}': '$11,908', '{{sales}}': '$77,489', '{{units}}': '6,432', '{{ROAS}}': '$6.51', '{{CPC}}': '$1.26', '{{snapshot date}}': '2025-02-01 - 2025-02-28', '{impressions_lineitem_1}': '5,088,805', '{{clicks_lineitem_1}}': '9,418', '{{spend_lineitem_1}}': '$11,908', '{{sales_lineitem_1}}': '$77,489', '{{units_lineitem_1}}': '6,432', '{{ROAS_lineitem_1}}': '$6.51', '{{CPC_lineitem_1}}': '$1.26', '{{name_lineitem_1}}': 'LineItem 1', '{impressions_lineitem_2}': '8,451,411', '{{clicks_lineitem_2}}': '9,606', '{{spend_lineitem_2}}': '$9,543', '{{sales_lineitem_2}}': '$21,354', '{{units_lineitem_2}}': '3,407', '{{ROAS_lineitem_2}}': '$2.24', '{{CPC_lineitem_2}}': '$0.99', '{{name_lineitem_2}}': 'LineItem 2'}\n",
      "Replacements: {'{{name}}': 'Albertsons', '{{impressions}}': '5,088,805', '{{clicks}}': '9,418', '{{spend}}': '$11,908', '{{sales}}': '$77,489', '{{units}}': '6,432', '{{ROAS}}': '$6.51', '{{CPC}}': '$1.26', '{{snapshot date}}': '2025-02-01 - 2025-02-28', '{impressions_lineitem_1}': '5,088,805', '{{clicks_lineitem_1}}': '9,418', '{{spend_lineitem_1}}': '$11,908', '{{sales_lineitem_1}}': '$77,489', '{{units_lineitem_1}}': '6,432', '{{ROAS_lineitem_1}}': '$6.51', '{{CPC_lineitem_1}}': '$1.26', '{{name_lineitem_1}}': 'LineItem 1', '{impressions_lineitem_2}': '8,451,411', '{{clicks_lineitem_2}}': '9,606', '{{spend_lineitem_2}}': '$9,543', '{{sales_lineitem_2}}': '$21,354', '{{units_lineitem_2}}': '3,407', '{{ROAS_lineitem_2}}': '$2.24', '{{CPC_lineitem_2}}': '$0.99', '{{name_lineitem_2}}': 'LineItem 2'}\n",
      "Replacements: {'{{name}}': 'Albertsons', '{{impressions}}': '5,088,805', '{{clicks}}': '9,418', '{{spend}}': '$11,908', '{{sales}}': '$77,489', '{{units}}': '6,432', '{{ROAS}}': '$6.51', '{{CPC}}': '$1.26', '{{snapshot date}}': '2025-02-01 - 2025-02-28', '{impressions_lineitem_1}': '5,088,805', '{{clicks_lineitem_1}}': '9,418', '{{spend_lineitem_1}}': '$11,908', '{{sales_lineitem_1}}': '$77,489', '{{units_lineitem_1}}': '6,432', '{{ROAS_lineitem_1}}': '$6.51', '{{CPC_lineitem_1}}': '$1.26', '{{name_lineitem_1}}': 'LineItem 1', '{impressions_lineitem_2}': '8,451,411', '{{clicks_lineitem_2}}': '9,606', '{{spend_lineitem_2}}': '$9,543', '{{sales_lineitem_2}}': '$21,354', '{{units_lineitem_2}}': '3,407', '{{ROAS_lineitem_2}}': '$2.24', '{{CPC_lineitem_2}}': '$0.99', '{{name_lineitem_2}}': 'LineItem 2'}\n",
      "Replacements: {'{{name}}': 'Albertsons', '{{impressions}}': '5,088,805', '{{clicks}}': '9,418', '{{spend}}': '$11,908', '{{sales}}': '$77,489', '{{units}}': '6,432', '{{ROAS}}': '$6.51', '{{CPC}}': '$1.26', '{{snapshot date}}': '2025-02-01 - 2025-02-28', '{impressions_lineitem_1}': '5,088,805', '{{clicks_lineitem_1}}': '9,418', '{{spend_lineitem_1}}': '$11,908', '{{sales_lineitem_1}}': '$77,489', '{{units_lineitem_1}}': '6,432', '{{ROAS_lineitem_1}}': '$6.51', '{{CPC_lineitem_1}}': '$1.26', '{{name_lineitem_1}}': 'LineItem 1', '{impressions_lineitem_2}': '8,451,411', '{{clicks_lineitem_2}}': '9,606', '{{spend_lineitem_2}}': '$9,543', '{{sales_lineitem_2}}': '$21,354', '{{units_lineitem_2}}': '3,407', '{{ROAS_lineitem_2}}': '$2.24', '{{CPC_lineitem_2}}': '$0.99', '{{name_lineitem_2}}': 'LineItem 2'}\n",
      "Replacements: {'{{name}}': 'Albertsons', '{{impressions}}': '5,088,805', '{{clicks}}': '9,418', '{{spend}}': '$11,908', '{{sales}}': '$77,489', '{{units}}': '6,432', '{{ROAS}}': '$6.51', '{{CPC}}': '$1.26', '{{snapshot date}}': '2025-02-01 - 2025-02-28', '{impressions_lineitem_1}': '5,088,805', '{{clicks_lineitem_1}}': '9,418', '{{spend_lineitem_1}}': '$11,908', '{{sales_lineitem_1}}': '$77,489', '{{units_lineitem_1}}': '6,432', '{{ROAS_lineitem_1}}': '$6.51', '{{CPC_lineitem_1}}': '$1.26', '{{name_lineitem_1}}': 'LineItem 1', '{impressions_lineitem_2}': '8,451,411', '{{clicks_lineitem_2}}': '9,606', '{{spend_lineitem_2}}': '$9,543', '{{sales_lineitem_2}}': '$21,354', '{{units_lineitem_2}}': '3,407', '{{ROAS_lineitem_2}}': '$2.24', '{{CPC_lineitem_2}}': '$0.99', '{{name_lineitem_2}}': 'LineItem 2'}\n",
      "Replacements: {'{{name}}': 'Albertsons', '{{impressions}}': '5,088,805', '{{clicks}}': '9,418', '{{spend}}': '$11,908', '{{sales}}': '$77,489', '{{units}}': '6,432', '{{ROAS}}': '$6.51', '{{CPC}}': '$1.26', '{{snapshot date}}': '2025-02-01 - 2025-02-28', '{impressions_lineitem_1}': '5,088,805', '{{clicks_lineitem_1}}': '9,418', '{{spend_lineitem_1}}': '$11,908', '{{sales_lineitem_1}}': '$77,489', '{{units_lineitem_1}}': '6,432', '{{ROAS_lineitem_1}}': '$6.51', '{{CPC_lineitem_1}}': '$1.26', '{{name_lineitem_1}}': 'LineItem 1', '{impressions_lineitem_2}': '8,451,411', '{{clicks_lineitem_2}}': '9,606', '{{spend_lineitem_2}}': '$9,543', '{{sales_lineitem_2}}': '$21,354', '{{units_lineitem_2}}': '3,407', '{{ROAS_lineitem_2}}': '$2.24', '{{CPC_lineitem_2}}': '$0.99', '{{name_lineitem_2}}': 'LineItem 2'}\n",
      "Replacements: {'{{name}}': 'Albertsons', '{{impressions}}': '5,088,805', '{{clicks}}': '9,418', '{{spend}}': '$11,908', '{{sales}}': '$77,489', '{{units}}': '6,432', '{{ROAS}}': '$6.51', '{{CPC}}': '$1.26', '{{snapshot date}}': '2025-02-01 - 2025-02-28', '{impressions_lineitem_1}': '5,088,805', '{{clicks_lineitem_1}}': '9,418', '{{spend_lineitem_1}}': '$11,908', '{{sales_lineitem_1}}': '$77,489', '{{units_lineitem_1}}': '6,432', '{{ROAS_lineitem_1}}': '$6.51', '{{CPC_lineitem_1}}': '$1.26', '{{name_lineitem_1}}': 'LineItem 1', '{impressions_lineitem_2}': '8,451,411', '{{clicks_lineitem_2}}': '9,606', '{{spend_lineitem_2}}': '$9,543', '{{sales_lineitem_2}}': '$21,354', '{{units_lineitem_2}}': '3,407', '{{ROAS_lineitem_2}}': '$2.24', '{{CPC_lineitem_2}}': '$0.99', '{{name_lineitem_2}}': 'LineItem 2'}\n",
      "Replacements: {'{{name}}': 'Albertsons', '{{impressions}}': '5,088,805', '{{clicks}}': '9,418', '{{spend}}': '$11,908', '{{sales}}': '$77,489', '{{units}}': '6,432', '{{ROAS}}': '$6.51', '{{CPC}}': '$1.26', '{{snapshot date}}': '2025-02-01 - 2025-02-28', '{impressions_lineitem_1}': '5,088,805', '{{clicks_lineitem_1}}': '9,418', '{{spend_lineitem_1}}': '$11,908', '{{sales_lineitem_1}}': '$77,489', '{{units_lineitem_1}}': '6,432', '{{ROAS_lineitem_1}}': '$6.51', '{{CPC_lineitem_1}}': '$1.26', '{{name_lineitem_1}}': 'LineItem 1', '{impressions_lineitem_2}': '8,451,411', '{{clicks_lineitem_2}}': '9,606', '{{spend_lineitem_2}}': '$9,543', '{{sales_lineitem_2}}': '$21,354', '{{units_lineitem_2}}': '3,407', '{{ROAS_lineitem_2}}': '$2.24', '{{CPC_lineitem_2}}': '$0.99', '{{name_lineitem_2}}': 'LineItem 2'}\n",
      "Replacements: {'{{name}}': 'Albertsons', '{{impressions}}': '5,088,805', '{{clicks}}': '9,418', '{{spend}}': '$11,908', '{{sales}}': '$77,489', '{{units}}': '6,432', '{{ROAS}}': '$6.51', '{{CPC}}': '$1.26', '{{snapshot date}}': '2025-02-01 - 2025-02-28', '{impressions_lineitem_1}': '5,088,805', '{{clicks_lineitem_1}}': '9,418', '{{spend_lineitem_1}}': '$11,908', '{{sales_lineitem_1}}': '$77,489', '{{units_lineitem_1}}': '6,432', '{{ROAS_lineitem_1}}': '$6.51', '{{CPC_lineitem_1}}': '$1.26', '{{name_lineitem_1}}': 'LineItem 1', '{impressions_lineitem_2}': '8,451,411', '{{clicks_lineitem_2}}': '9,606', '{{spend_lineitem_2}}': '$9,543', '{{sales_lineitem_2}}': '$21,354', '{{units_lineitem_2}}': '3,407', '{{ROAS_lineitem_2}}': '$2.24', '{{CPC_lineitem_2}}': '$0.99', '{{name_lineitem_2}}': 'LineItem 2'}\n",
      "Replacements: {'{{name}}': 'Albertsons', '{{impressions}}': '5,088,805', '{{clicks}}': '9,418', '{{spend}}': '$11,908', '{{sales}}': '$77,489', '{{units}}': '6,432', '{{ROAS}}': '$6.51', '{{CPC}}': '$1.26', '{{snapshot date}}': '2025-02-01 - 2025-02-28', '{impressions_lineitem_1}': '5,088,805', '{{clicks_lineitem_1}}': '9,418', '{{spend_lineitem_1}}': '$11,908', '{{sales_lineitem_1}}': '$77,489', '{{units_lineitem_1}}': '6,432', '{{ROAS_lineitem_1}}': '$6.51', '{{CPC_lineitem_1}}': '$1.26', '{{name_lineitem_1}}': 'LineItem 1', '{impressions_lineitem_2}': '8,451,411', '{{clicks_lineitem_2}}': '9,606', '{{spend_lineitem_2}}': '$9,543', '{{sales_lineitem_2}}': '$21,354', '{{units_lineitem_2}}': '3,407', '{{ROAS_lineitem_2}}': '$2.24', '{{CPC_lineitem_2}}': '$0.99', '{{name_lineitem_2}}': 'LineItem 2'}\n",
      "Replacements: {'{{name}}': 'Albertsons', '{{impressions}}': '5,088,805', '{{clicks}}': '9,418', '{{spend}}': '$11,908', '{{sales}}': '$77,489', '{{units}}': '6,432', '{{ROAS}}': '$6.51', '{{CPC}}': '$1.26', '{{snapshot date}}': '2025-02-01 - 2025-02-28', '{impressions_lineitem_1}': '5,088,805', '{{clicks_lineitem_1}}': '9,418', '{{spend_lineitem_1}}': '$11,908', '{{sales_lineitem_1}}': '$77,489', '{{units_lineitem_1}}': '6,432', '{{ROAS_lineitem_1}}': '$6.51', '{{CPC_lineitem_1}}': '$1.26', '{{name_lineitem_1}}': 'LineItem 1', '{impressions_lineitem_2}': '8,451,411', '{{clicks_lineitem_2}}': '9,606', '{{spend_lineitem_2}}': '$9,543', '{{sales_lineitem_2}}': '$21,354', '{{units_lineitem_2}}': '3,407', '{{ROAS_lineitem_2}}': '$2.24', '{{CPC_lineitem_2}}': '$0.99', '{{name_lineitem_2}}': 'LineItem 2'}\n",
      "Replacements: {'{{name}}': 'Albertsons', '{{impressions}}': '5,088,805', '{{clicks}}': '9,418', '{{spend}}': '$11,908', '{{sales}}': '$77,489', '{{units}}': '6,432', '{{ROAS}}': '$6.51', '{{CPC}}': '$1.26', '{{snapshot date}}': '2025-02-01 - 2025-02-28', '{impressions_lineitem_1}': '5,088,805', '{{clicks_lineitem_1}}': '9,418', '{{spend_lineitem_1}}': '$11,908', '{{sales_lineitem_1}}': '$77,489', '{{units_lineitem_1}}': '6,432', '{{ROAS_lineitem_1}}': '$6.51', '{{CPC_lineitem_1}}': '$1.26', '{{name_lineitem_1}}': 'LineItem 1', '{impressions_lineitem_2}': '8,451,411', '{{clicks_lineitem_2}}': '9,606', '{{spend_lineitem_2}}': '$9,543', '{{sales_lineitem_2}}': '$21,354', '{{units_lineitem_2}}': '3,407', '{{ROAS_lineitem_2}}': '$2.24', '{{CPC_lineitem_2}}': '$0.99', '{{name_lineitem_2}}': 'LineItem 2'}\n",
      "Replacements: {'{{name}}': 'Albertsons', '{{impressions}}': '5,088,805', '{{clicks}}': '9,418', '{{spend}}': '$11,908', '{{sales}}': '$77,489', '{{units}}': '6,432', '{{ROAS}}': '$6.51', '{{CPC}}': '$1.26', '{{snapshot date}}': '2025-02-01 - 2025-02-28', '{impressions_lineitem_1}': '5,088,805', '{{clicks_lineitem_1}}': '9,418', '{{spend_lineitem_1}}': '$11,908', '{{sales_lineitem_1}}': '$77,489', '{{units_lineitem_1}}': '6,432', '{{ROAS_lineitem_1}}': '$6.51', '{{CPC_lineitem_1}}': '$1.26', '{{name_lineitem_1}}': 'LineItem 1', '{impressions_lineitem_2}': '8,451,411', '{{clicks_lineitem_2}}': '9,606', '{{spend_lineitem_2}}': '$9,543', '{{sales_lineitem_2}}': '$21,354', '{{units_lineitem_2}}': '3,407', '{{ROAS_lineitem_2}}': '$2.24', '{{CPC_lineitem_2}}': '$0.99', '{{name_lineitem_2}}': 'LineItem 2'}\n",
      "Replacements: {'{{name}}': 'Albertsons', '{{impressions}}': '5,088,805', '{{clicks}}': '9,418', '{{spend}}': '$11,908', '{{sales}}': '$77,489', '{{units}}': '6,432', '{{ROAS}}': '$6.51', '{{CPC}}': '$1.26', '{{snapshot date}}': '2025-02-01 - 2025-02-28', '{impressions_lineitem_1}': '5,088,805', '{{clicks_lineitem_1}}': '9,418', '{{spend_lineitem_1}}': '$11,908', '{{sales_lineitem_1}}': '$77,489', '{{units_lineitem_1}}': '6,432', '{{ROAS_lineitem_1}}': '$6.51', '{{CPC_lineitem_1}}': '$1.26', '{{name_lineitem_1}}': 'LineItem 1', '{impressions_lineitem_2}': '8,451,411', '{{clicks_lineitem_2}}': '9,606', '{{spend_lineitem_2}}': '$9,543', '{{sales_lineitem_2}}': '$21,354', '{{units_lineitem_2}}': '3,407', '{{ROAS_lineitem_2}}': '$2.24', '{{CPC_lineitem_2}}': '$0.99', '{{name_lineitem_2}}': 'LineItem 2'}\n",
      "Replacements: {'{{name}}': 'Albertsons', '{{impressions}}': '5,088,805', '{{clicks}}': '9,418', '{{spend}}': '$11,908', '{{sales}}': '$77,489', '{{units}}': '6,432', '{{ROAS}}': '$6.51', '{{CPC}}': '$1.26', '{{snapshot date}}': '2025-02-01 - 2025-02-28', '{impressions_lineitem_1}': '5,088,805', '{{clicks_lineitem_1}}': '9,418', '{{spend_lineitem_1}}': '$11,908', '{{sales_lineitem_1}}': '$77,489', '{{units_lineitem_1}}': '6,432', '{{ROAS_lineitem_1}}': '$6.51', '{{CPC_lineitem_1}}': '$1.26', '{{name_lineitem_1}}': 'LineItem 1', '{impressions_lineitem_2}': '8,451,411', '{{clicks_lineitem_2}}': '9,606', '{{spend_lineitem_2}}': '$9,543', '{{sales_lineitem_2}}': '$21,354', '{{units_lineitem_2}}': '3,407', '{{ROAS_lineitem_2}}': '$2.24', '{{CPC_lineitem_2}}': '$0.99', '{{name_lineitem_2}}': 'LineItem 2'}\n",
      "Replacements: {'{{name}}': 'Albertsons', '{{impressions}}': '5,088,805', '{{clicks}}': '9,418', '{{spend}}': '$11,908', '{{sales}}': '$77,489', '{{units}}': '6,432', '{{ROAS}}': '$6.51', '{{CPC}}': '$1.26', '{{snapshot date}}': '2025-02-01 - 2025-02-28', '{impressions_lineitem_1}': '5,088,805', '{{clicks_lineitem_1}}': '9,418', '{{spend_lineitem_1}}': '$11,908', '{{sales_lineitem_1}}': '$77,489', '{{units_lineitem_1}}': '6,432', '{{ROAS_lineitem_1}}': '$6.51', '{{CPC_lineitem_1}}': '$1.26', '{{name_lineitem_1}}': 'LineItem 1', '{impressions_lineitem_2}': '8,451,411', '{{clicks_lineitem_2}}': '9,606', '{{spend_lineitem_2}}': '$9,543', '{{sales_lineitem_2}}': '$21,354', '{{units_lineitem_2}}': '3,407', '{{ROAS_lineitem_2}}': '$2.24', '{{CPC_lineitem_2}}': '$0.99', '{{name_lineitem_2}}': 'LineItem 2'}\n",
      "Replacements: {'{{name}}': 'Albertsons', '{{impressions}}': '5,088,805', '{{clicks}}': '9,418', '{{spend}}': '$11,908', '{{sales}}': '$77,489', '{{units}}': '6,432', '{{ROAS}}': '$6.51', '{{CPC}}': '$1.26', '{{snapshot date}}': '2025-02-01 - 2025-02-28', '{impressions_lineitem_1}': '5,088,805', '{{clicks_lineitem_1}}': '9,418', '{{spend_lineitem_1}}': '$11,908', '{{sales_lineitem_1}}': '$77,489', '{{units_lineitem_1}}': '6,432', '{{ROAS_lineitem_1}}': '$6.51', '{{CPC_lineitem_1}}': '$1.26', '{{name_lineitem_1}}': 'LineItem 1', '{impressions_lineitem_2}': '8,451,411', '{{clicks_lineitem_2}}': '9,606', '{{spend_lineitem_2}}': '$9,543', '{{sales_lineitem_2}}': '$21,354', '{{units_lineitem_2}}': '3,407', '{{ROAS_lineitem_2}}': '$2.24', '{{CPC_lineitem_2}}': '$0.99', '{{name_lineitem_2}}': 'LineItem 2'}\n",
      "Replacements: {'{{name}}': 'Albertsons', '{{impressions}}': '5,088,805', '{{clicks}}': '9,418', '{{spend}}': '$11,908', '{{sales}}': '$77,489', '{{units}}': '6,432', '{{ROAS}}': '$6.51', '{{CPC}}': '$1.26', '{{snapshot date}}': '2025-02-01 - 2025-02-28', '{impressions_lineitem_1}': '5,088,805', '{{clicks_lineitem_1}}': '9,418', '{{spend_lineitem_1}}': '$11,908', '{{sales_lineitem_1}}': '$77,489', '{{units_lineitem_1}}': '6,432', '{{ROAS_lineitem_1}}': '$6.51', '{{CPC_lineitem_1}}': '$1.26', '{{name_lineitem_1}}': 'LineItem 1', '{impressions_lineitem_2}': '8,451,411', '{{clicks_lineitem_2}}': '9,606', '{{spend_lineitem_2}}': '$9,543', '{{sales_lineitem_2}}': '$21,354', '{{units_lineitem_2}}': '3,407', '{{ROAS_lineitem_2}}': '$2.24', '{{CPC_lineitem_2}}': '$0.99', '{{name_lineitem_2}}': 'LineItem 2'}\n",
      "Replacements: {'{{name}}': 'Albertsons', '{{impressions}}': '5,088,805', '{{clicks}}': '9,418', '{{spend}}': '$11,908', '{{sales}}': '$77,489', '{{units}}': '6,432', '{{ROAS}}': '$6.51', '{{CPC}}': '$1.26', '{{snapshot date}}': '2025-02-01 - 2025-02-28', '{impressions_lineitem_1}': '5,088,805', '{{clicks_lineitem_1}}': '9,418', '{{spend_lineitem_1}}': '$11,908', '{{sales_lineitem_1}}': '$77,489', '{{units_lineitem_1}}': '6,432', '{{ROAS_lineitem_1}}': '$6.51', '{{CPC_lineitem_1}}': '$1.26', '{{name_lineitem_1}}': 'LineItem 1', '{impressions_lineitem_2}': '8,451,411', '{{clicks_lineitem_2}}': '9,606', '{{spend_lineitem_2}}': '$9,543', '{{sales_lineitem_2}}': '$21,354', '{{units_lineitem_2}}': '3,407', '{{ROAS_lineitem_2}}': '$2.24', '{{CPC_lineitem_2}}': '$0.99', '{{name_lineitem_2}}': 'LineItem 2'}\n",
      "Replacements: {'{{name}}': 'Albertsons', '{{impressions}}': '5,088,805', '{{clicks}}': '9,418', '{{spend}}': '$11,908', '{{sales}}': '$77,489', '{{units}}': '6,432', '{{ROAS}}': '$6.51', '{{CPC}}': '$1.26', '{{snapshot date}}': '2025-02-01 - 2025-02-28', '{impressions_lineitem_1}': '5,088,805', '{{clicks_lineitem_1}}': '9,418', '{{spend_lineitem_1}}': '$11,908', '{{sales_lineitem_1}}': '$77,489', '{{units_lineitem_1}}': '6,432', '{{ROAS_lineitem_1}}': '$6.51', '{{CPC_lineitem_1}}': '$1.26', '{{name_lineitem_1}}': 'LineItem 1', '{impressions_lineitem_2}': '8,451,411', '{{clicks_lineitem_2}}': '9,606', '{{spend_lineitem_2}}': '$9,543', '{{sales_lineitem_2}}': '$21,354', '{{units_lineitem_2}}': '3,407', '{{ROAS_lineitem_2}}': '$2.24', '{{CPC_lineitem_2}}': '$0.99', '{{name_lineitem_2}}': 'LineItem 2'}\n",
      "Replacements: {'{{name}}': 'Albertsons', '{{impressions}}': '5,088,805', '{{clicks}}': '9,418', '{{spend}}': '$11,908', '{{sales}}': '$77,489', '{{units}}': '6,432', '{{ROAS}}': '$6.51', '{{CPC}}': '$1.26', '{{snapshot date}}': '2025-02-01 - 2025-02-28', '{impressions_lineitem_1}': '5,088,805', '{{clicks_lineitem_1}}': '9,418', '{{spend_lineitem_1}}': '$11,908', '{{sales_lineitem_1}}': '$77,489', '{{units_lineitem_1}}': '6,432', '{{ROAS_lineitem_1}}': '$6.51', '{{CPC_lineitem_1}}': '$1.26', '{{name_lineitem_1}}': 'LineItem 1', '{impressions_lineitem_2}': '8,451,411', '{{clicks_lineitem_2}}': '9,606', '{{spend_lineitem_2}}': '$9,543', '{{sales_lineitem_2}}': '$21,354', '{{units_lineitem_2}}': '3,407', '{{ROAS_lineitem_2}}': '$2.24', '{{CPC_lineitem_2}}': '$0.99', '{{name_lineitem_2}}': 'LineItem 2'}\n",
      "Replacements: {'{{name}}': 'Albertsons', '{{impressions}}': '5,088,805', '{{clicks}}': '9,418', '{{spend}}': '$11,908', '{{sales}}': '$77,489', '{{units}}': '6,432', '{{ROAS}}': '$6.51', '{{CPC}}': '$1.26', '{{snapshot date}}': '2025-02-01 - 2025-02-28', '{impressions_lineitem_1}': '5,088,805', '{{clicks_lineitem_1}}': '9,418', '{{spend_lineitem_1}}': '$11,908', '{{sales_lineitem_1}}': '$77,489', '{{units_lineitem_1}}': '6,432', '{{ROAS_lineitem_1}}': '$6.51', '{{CPC_lineitem_1}}': '$1.26', '{{name_lineitem_1}}': 'LineItem 1', '{impressions_lineitem_2}': '8,451,411', '{{clicks_lineitem_2}}': '9,606', '{{spend_lineitem_2}}': '$9,543', '{{sales_lineitem_2}}': '$21,354', '{{units_lineitem_2}}': '3,407', '{{ROAS_lineitem_2}}': '$2.24', '{{CPC_lineitem_2}}': '$0.99', '{{name_lineitem_2}}': 'LineItem 2'}\n",
      "Replacements: {'{{name}}': 'Albertsons', '{{impressions}}': '5,088,805', '{{clicks}}': '9,418', '{{spend}}': '$11,908', '{{sales}}': '$77,489', '{{units}}': '6,432', '{{ROAS}}': '$6.51', '{{CPC}}': '$1.26', '{{snapshot date}}': '2025-02-01 - 2025-02-28', '{impressions_lineitem_1}': '5,088,805', '{{clicks_lineitem_1}}': '9,418', '{{spend_lineitem_1}}': '$11,908', '{{sales_lineitem_1}}': '$77,489', '{{units_lineitem_1}}': '6,432', '{{ROAS_lineitem_1}}': '$6.51', '{{CPC_lineitem_1}}': '$1.26', '{{name_lineitem_1}}': 'LineItem 1', '{impressions_lineitem_2}': '8,451,411', '{{clicks_lineitem_2}}': '9,606', '{{spend_lineitem_2}}': '$9,543', '{{sales_lineitem_2}}': '$21,354', '{{units_lineitem_2}}': '3,407', '{{ROAS_lineitem_2}}': '$2.24', '{{CPC_lineitem_2}}': '$0.99', '{{name_lineitem_2}}': 'LineItem 2'}\n",
      "Replacements: {'{{name}}': 'Albertsons', '{{impressions}}': '5,088,805', '{{clicks}}': '9,418', '{{spend}}': '$11,908', '{{sales}}': '$77,489', '{{units}}': '6,432', '{{ROAS}}': '$6.51', '{{CPC}}': '$1.26', '{{snapshot date}}': '2025-02-01 - 2025-02-28', '{impressions_lineitem_1}': '5,088,805', '{{clicks_lineitem_1}}': '9,418', '{{spend_lineitem_1}}': '$11,908', '{{sales_lineitem_1}}': '$77,489', '{{units_lineitem_1}}': '6,432', '{{ROAS_lineitem_1}}': '$6.51', '{{CPC_lineitem_1}}': '$1.26', '{{name_lineitem_1}}': 'LineItem 1', '{impressions_lineitem_2}': '8,451,411', '{{clicks_lineitem_2}}': '9,606', '{{spend_lineitem_2}}': '$9,543', '{{sales_lineitem_2}}': '$21,354', '{{units_lineitem_2}}': '3,407', '{{ROAS_lineitem_2}}': '$2.24', '{{CPC_lineitem_2}}': '$0.99', '{{name_lineitem_2}}': 'LineItem 2'}\n",
      "Presentation updated successfully.\n"
     ]
    }
   ],
   "source": [
    "!python3 main2.py"
   ]
  },
  {
   "cell_type": "code",
   "execution_count": 35,
   "id": "842f3aff-c4db-4875-8788-5c9176b5bbb7",
   "metadata": {},
   "outputs": [
    {
     "name": "stdout",
     "output_type": "stream",
     "text": [
      "Replacements: {'{{name}}': 'Albertsons', '{{impressions}}': '6,128,568', '{{clicks}}': '11,510', '{{spend}}': '$13,182', '{{sales}}': '$104,748', '{{units}}': '8,471', '{{ROAS}}': '$7.95', '{{CPC}}': '$1.15', '{{snapshot date}}': '2025-03-01 - 2025-03-31', '{impressions_lineitem_1}': '6,128,568', '{{clicks_lineitem_1}}': '11,510', '{{spend_lineitem_1}}': '$13,182', '{{sales_lineitem_1}}': '$104,748', '{{units_lineitem_1}}': '8,471', '{{ROAS_lineitem_1}}': '$7.95', '{{CPC_lineitem_1}}': '$1.15', '{{name_lineitem_1}}': 'LineItem 1', '{impressions_lineitem_2}': '12,802,133', '{{clicks_lineitem_2}}': '9,688', '{{spend_lineitem_2}}': '$10,312', '{{sales_lineitem_2}}': '$22,733', '{{units_lineitem_2}}': '4,155', '{{ROAS_lineitem_2}}': '$2.20', '{{CPC_lineitem_2}}': '$1.06', '{{name_lineitem_2}}': 'LineItem 2'}\n",
      "Replacements: {'{{name}}': 'Albertsons', '{{impressions}}': '5,088,805', '{{clicks}}': '9,418', '{{spend}}': '$11,908', '{{sales}}': '$77,489', '{{units}}': '6,432', '{{ROAS}}': '$6.51', '{{CPC}}': '$1.26', '{{snapshot date}}': '2025-02-01 - 2025-02-28', '{impressions_lineitem_1}': '5,088,805', '{{clicks_lineitem_1}}': '9,418', '{{spend_lineitem_1}}': '$11,908', '{{sales_lineitem_1}}': '$77,489', '{{units_lineitem_1}}': '6,432', '{{ROAS_lineitem_1}}': '$6.51', '{{CPC_lineitem_1}}': '$1.26', '{{name_lineitem_1}}': 'LineItem 1', '{impressions_lineitem_2}': '8,451,411', '{{clicks_lineitem_2}}': '9,606', '{{spend_lineitem_2}}': '$9,543', '{{sales_lineitem_2}}': '$21,354', '{{units_lineitem_2}}': '3,407', '{{ROAS_lineitem_2}}': '$2.24', '{{CPC_lineitem_2}}': '$0.99', '{{name_lineitem_2}}': 'LineItem 2'}\n",
      "Replacements: {'{{name}}': 'Albertsons', '{{impressions}}': '5,088,805', '{{clicks}}': '9,418', '{{spend}}': '$11,908', '{{sales}}': '$77,489', '{{units}}': '6,432', '{{ROAS}}': '$6.51', '{{CPC}}': '$1.26', '{{snapshot date}}': '2025-02-01 - 2025-02-28', '{impressions_lineitem_1}': '5,088,805', '{{clicks_lineitem_1}}': '9,418', '{{spend_lineitem_1}}': '$11,908', '{{sales_lineitem_1}}': '$77,489', '{{units_lineitem_1}}': '6,432', '{{ROAS_lineitem_1}}': '$6.51', '{{CPC_lineitem_1}}': '$1.26', '{{name_lineitem_1}}': 'LineItem 1', '{impressions_lineitem_2}': '8,451,411', '{{clicks_lineitem_2}}': '9,606', '{{spend_lineitem_2}}': '$9,543', '{{sales_lineitem_2}}': '$21,354', '{{units_lineitem_2}}': '3,407', '{{ROAS_lineitem_2}}': '$2.24', '{{CPC_lineitem_2}}': '$0.99', '{{name_lineitem_2}}': 'LineItem 2'}\n",
      "Presentation updated successfully.\n"
     ]
    }
   ],
   "source": [
    "!python3 main2.py"
   ]
  },
  {
   "cell_type": "code",
   "execution_count": 36,
   "id": "534245bb-f55a-49a9-a4cd-0c30a9d8a704",
   "metadata": {},
   "outputs": [
    {
     "name": "stdout",
     "output_type": "stream",
     "text": [
      "  File \u001b[35m\"/Users/j.ensley/Documents/PPTMaker/main2.py\"\u001b[0m, line \u001b[35m102\u001b[0m\n",
      "    replacements[f\"{{{\u001b[1;31mimpressions_lineitem_{idx}\u001b[0m}}}\"] = f\"{line_item_row.get('impressions', 0):,}\"\n",
      "                      \u001b[1;31m^^^^^^^^^^^^^^^^^^^^^^^^^^\u001b[0m\n",
      "\u001b[1;35mSyntaxError\u001b[0m: \u001b[35minvalid syntax. Perhaps you forgot a comma?\u001b[0m\n"
     ]
    }
   ],
   "source": [
    "!python3 main2.py"
   ]
  },
  {
   "cell_type": "code",
   "execution_count": 37,
   "id": "a29ac8fc-69d5-459e-9183-c1b64359fa02",
   "metadata": {},
   "outputs": [
    {
     "name": "stdout",
     "output_type": "stream",
     "text": [
      "  File \u001b[35m\"/Users/j.ensley/Documents/PPTMaker/main2.py\"\u001b[0m, line \u001b[35m102\u001b[0m\n",
      "    replacements[f\"{{{{impressions_lineitem_{idx}}}\u001b[1;31m}\u001b[0m\"] = f\"{line_item_row.get('impressions', 0):,}\"\n",
      "                                                   \u001b[1;31m^\u001b[0m\n",
      "\u001b[1;35mSyntaxError\u001b[0m: \u001b[35mf-string: single '}' is not allowed\u001b[0m\n"
     ]
    }
   ],
   "source": [
    "!python3 main2.py"
   ]
  },
  {
   "cell_type": "code",
   "execution_count": 38,
   "id": "678bc0e3-d90b-4bc9-8c58-61b02a9080ac",
   "metadata": {},
   "outputs": [
    {
     "name": "stdout",
     "output_type": "stream",
     "text": [
      "Replacements: {'{{name}}': 'Albertsons', '{{impressions}}': '6,128,568', '{{clicks}}': '11,510', '{{spend}}': '$13,182', '{{sales}}': '$104,748', '{{units}}': '8,471', '{{ROAS}}': '$7.95', '{{CPC}}': '$1.15', '{{snapshot date}}': '2025-03-01 - 2025-03-31', '{{impressions_lineitem_1}}': '6,128,568', '{{clicks_lineitem_1}}': '11,510', '{{spend_lineitem_1}}': '$13,182', '{{sales_lineitem_1}}': '$104,748', '{{units_lineitem_1}}': '8,471', '{{ROAS_lineitem_1}}': '$7.95', '{{CPC_lineitem_1}}': '$1.15', '{{name_lineitem_1}}': 'LineItem 1', '{{impressions_lineitem_2}}': '12,802,133', '{{clicks_lineitem_2}}': '9,688', '{{spend_lineitem_2}}': '$10,312', '{{sales_lineitem_2}}': '$22,733', '{{units_lineitem_2}}': '4,155', '{{ROAS_lineitem_2}}': '$2.20', '{{CPC_lineitem_2}}': '$1.06', '{{name_lineitem_2}}': 'LineItem 2'}\n",
      "Replacements: {'{{name}}': 'Albertsons', '{{impressions}}': '5,088,805', '{{clicks}}': '9,418', '{{spend}}': '$11,908', '{{sales}}': '$77,489', '{{units}}': '6,432', '{{ROAS}}': '$6.51', '{{CPC}}': '$1.26', '{{snapshot date}}': '2025-02-01 - 2025-02-28', '{{impressions_lineitem_1}}': '5,088,805', '{{clicks_lineitem_1}}': '9,418', '{{spend_lineitem_1}}': '$11,908', '{{sales_lineitem_1}}': '$77,489', '{{units_lineitem_1}}': '6,432', '{{ROAS_lineitem_1}}': '$6.51', '{{CPC_lineitem_1}}': '$1.26', '{{name_lineitem_1}}': 'LineItem 1', '{{impressions_lineitem_2}}': '8,451,411', '{{clicks_lineitem_2}}': '9,606', '{{spend_lineitem_2}}': '$9,543', '{{sales_lineitem_2}}': '$21,354', '{{units_lineitem_2}}': '3,407', '{{ROAS_lineitem_2}}': '$2.24', '{{CPC_lineitem_2}}': '$0.99', '{{name_lineitem_2}}': 'LineItem 2'}\n",
      "Replacements: {'{{name}}': 'Albertsons', '{{impressions}}': '5,088,805', '{{clicks}}': '9,418', '{{spend}}': '$11,908', '{{sales}}': '$77,489', '{{units}}': '6,432', '{{ROAS}}': '$6.51', '{{CPC}}': '$1.26', '{{snapshot date}}': '2025-02-01 - 2025-02-28', '{{impressions_lineitem_1}}': '5,088,805', '{{clicks_lineitem_1}}': '9,418', '{{spend_lineitem_1}}': '$11,908', '{{sales_lineitem_1}}': '$77,489', '{{units_lineitem_1}}': '6,432', '{{ROAS_lineitem_1}}': '$6.51', '{{CPC_lineitem_1}}': '$1.26', '{{name_lineitem_1}}': 'LineItem 1', '{{impressions_lineitem_2}}': '8,451,411', '{{clicks_lineitem_2}}': '9,606', '{{spend_lineitem_2}}': '$9,543', '{{sales_lineitem_2}}': '$21,354', '{{units_lineitem_2}}': '3,407', '{{ROAS_lineitem_2}}': '$2.24', '{{CPC_lineitem_2}}': '$0.99', '{{name_lineitem_2}}': 'LineItem 2'}\n",
      "Presentation updated successfully.\n"
     ]
    }
   ],
   "source": [
    "!python3 main2.py"
   ]
  },
  {
   "cell_type": "code",
   "execution_count": 39,
   "id": "7c470912-76b4-4d05-987b-dfc29430b9f2",
   "metadata": {},
   "outputs": [
    {
     "name": "stdout",
     "output_type": "stream",
     "text": [
      "Replacements: {'{{name}}': 'Albertsons', '{{impressions}}': '6,128,568', '{{clicks}}': '11,510', '{{spend}}': '$13,182', '{{sales}}': '$104,748', '{{units}}': '8,471', '{{ROAS}}': '$7.95', '{{CPC}}': '$1.15', '{{snapshot date}}': '2025-03-01 - 2025-03-31', '{{impressions_lineitem_1}}': '6,128,568', '{{clicks_lineitem_1}}': '11,510', '{{spend_lineitem_1}}': '$13,182', '{{sales_lineitem_1}}': '$104,748', '{{units_lineitem_1}}': '8,471', '{{ROAS_lineitem_1}}': '$7.95', '{{CPC_lineitem_1}}': '$1.15', '{{name_lineitem_1}}': 'LineItem 1', '{{impressions_lineitem_2}}': '12,802,133', '{{clicks_lineitem_2}}': '9,688', '{{spend_lineitem_2}}': '$10,312', '{{sales_lineitem_2}}': '$22,733', '{{units_lineitem_2}}': '4,155', '{{ROAS_lineitem_2}}': '$2.20', '{{CPC_lineitem_2}}': '$1.06', '{{name_lineitem_2}}': 'LineItem 2'}\n",
      "Replacements: {'{{name}}': 'Albertsons', '{{impressions}}': '5,088,805', '{{clicks}}': '9,418', '{{spend}}': '$11,908', '{{sales}}': '$77,489', '{{units}}': '6,432', '{{ROAS}}': '$6.51', '{{CPC}}': '$1.26', '{{snapshot date}}': '2025-02-01 - 2025-02-28', '{{impressions_lineitem_1}}': '5,088,805', '{{clicks_lineitem_1}}': '9,418', '{{spend_lineitem_1}}': '$11,908', '{{sales_lineitem_1}}': '$77,489', '{{units_lineitem_1}}': '6,432', '{{ROAS_lineitem_1}}': '$6.51', '{{CPC_lineitem_1}}': '$1.26', '{{name_lineitem_1}}': 'LineItem 1', '{{impressions_lineitem_2}}': '8,451,411', '{{clicks_lineitem_2}}': '9,606', '{{spend_lineitem_2}}': '$9,543', '{{sales_lineitem_2}}': '$21,354', '{{units_lineitem_2}}': '3,407', '{{ROAS_lineitem_2}}': '$2.24', '{{CPC_lineitem_2}}': '$0.99', '{{name_lineitem_2}}': 'LineItem 2'}\n",
      "Replacements: {'{{name}}': 'Albertsons', '{{impressions}}': '5,088,805', '{{clicks}}': '9,418', '{{spend}}': '$11,908', '{{sales}}': '$77,489', '{{units}}': '6,432', '{{ROAS}}': '$6.51', '{{CPC}}': '$1.26', '{{snapshot date}}': '2025-02-01 - 2025-02-28', '{{impressions_lineitem_1}}': '5,088,805', '{{clicks_lineitem_1}}': '9,418', '{{spend_lineitem_1}}': '$11,908', '{{sales_lineitem_1}}': '$77,489', '{{units_lineitem_1}}': '6,432', '{{ROAS_lineitem_1}}': '$6.51', '{{CPC_lineitem_1}}': '$1.26', '{{name_lineitem_1}}': 'LineItem 1', '{{impressions_lineitem_2}}': '8,451,411', '{{clicks_lineitem_2}}': '9,606', '{{spend_lineitem_2}}': '$9,543', '{{sales_lineitem_2}}': '$21,354', '{{units_lineitem_2}}': '3,407', '{{ROAS_lineitem_2}}': '$2.24', '{{CPC_lineitem_2}}': '$0.99', '{{name_lineitem_2}}': 'LineItem 2'}\n",
      "Presentation updated successfully.\n"
     ]
    }
   ],
   "source": [
    "!python3 main2.py"
   ]
  },
  {
   "cell_type": "code",
   "execution_count": 40,
   "id": "dd753004-3229-4784-af03-ced5ffa5dfe5",
   "metadata": {},
   "outputs": [
    {
     "name": "stdout",
     "output_type": "stream",
     "text": [
      "Replacements: {'{{name}}': 'Albertsons', '{{impressions}}': '6,128,568', '{{impressions_lineitem_1}}': '6,128,568', '{{clicks}}': '11,510', '{{spend}}': '$13,182', '{{sales}}': '$104,748', '{{units}}': '8,471', '{{ROAS}}': '$7.95', '{{CPC}}': '$1.15', '{{snapshot date}}': '2025-03-01 - 2025-03-31', '{{clicks_lineitem_1}}': '11,510', '{{spend_lineitem_1}}': '$13,182', '{{sales_lineitem_1}}': '$104,748', '{{units_lineitem_1}}': '8,471', '{{ROAS_lineitem_1}}': '$7.95', '{{CPC_lineitem_1}}': '$1.15', '{{name_lineitem_1}}': 'LineItem 1', '{{impressions_lineitem_2}}': '12,802,133', '{{clicks_lineitem_2}}': '9,688', '{{spend_lineitem_2}}': '$10,312', '{{sales_lineitem_2}}': '$22,733', '{{units_lineitem_2}}': '4,155', '{{ROAS_lineitem_2}}': '$2.20', '{{CPC_lineitem_2}}': '$1.06', '{{name_lineitem_2}}': 'LineItem 2'}\n",
      "Replacements: {'{{name}}': 'Albertsons', '{{impressions}}': '5,088,805', '{{impressions_lineitem_1}}': '5,088,805', '{{clicks}}': '9,418', '{{spend}}': '$11,908', '{{sales}}': '$77,489', '{{units}}': '6,432', '{{ROAS}}': '$6.51', '{{CPC}}': '$1.26', '{{snapshot date}}': '2025-02-01 - 2025-02-28', '{{clicks_lineitem_1}}': '9,418', '{{spend_lineitem_1}}': '$11,908', '{{sales_lineitem_1}}': '$77,489', '{{units_lineitem_1}}': '6,432', '{{ROAS_lineitem_1}}': '$6.51', '{{CPC_lineitem_1}}': '$1.26', '{{name_lineitem_1}}': 'LineItem 1', '{{impressions_lineitem_2}}': '8,451,411', '{{clicks_lineitem_2}}': '9,606', '{{spend_lineitem_2}}': '$9,543', '{{sales_lineitem_2}}': '$21,354', '{{units_lineitem_2}}': '3,407', '{{ROAS_lineitem_2}}': '$2.24', '{{CPC_lineitem_2}}': '$0.99', '{{name_lineitem_2}}': 'LineItem 2'}\n",
      "Replacements: {'{{name}}': 'Albertsons', '{{impressions}}': '5,088,805', '{{impressions_lineitem_1}}': '5,088,805', '{{clicks}}': '9,418', '{{spend}}': '$11,908', '{{sales}}': '$77,489', '{{units}}': '6,432', '{{ROAS}}': '$6.51', '{{CPC}}': '$1.26', '{{snapshot date}}': '2025-02-01 - 2025-02-28', '{{clicks_lineitem_1}}': '9,418', '{{spend_lineitem_1}}': '$11,908', '{{sales_lineitem_1}}': '$77,489', '{{units_lineitem_1}}': '6,432', '{{ROAS_lineitem_1}}': '$6.51', '{{CPC_lineitem_1}}': '$1.26', '{{name_lineitem_1}}': 'LineItem 1', '{{impressions_lineitem_2}}': '8,451,411', '{{clicks_lineitem_2}}': '9,606', '{{spend_lineitem_2}}': '$9,543', '{{sales_lineitem_2}}': '$21,354', '{{units_lineitem_2}}': '3,407', '{{ROAS_lineitem_2}}': '$2.24', '{{CPC_lineitem_2}}': '$0.99', '{{name_lineitem_2}}': 'LineItem 2'}\n",
      "Presentation updated successfully.\n"
     ]
    }
   ],
   "source": [
    "!python3 main2.py"
   ]
  },
  {
   "cell_type": "code",
   "execution_count": 41,
   "id": "7ee3875a-afe0-4f9f-8575-1f6c0289130e",
   "metadata": {},
   "outputs": [
    {
     "name": "stdout",
     "output_type": "stream",
     "text": [
      "Replacements: {'{{name}}': 'Albertsons', '{{impressions}}': '6,128,568', '{{impressions_lineitem_1}}': '6,128,568', '{{clicks}}': '11,510', '{{spend}}': '$13,182', '{{sales}}': '$104,748', '{{units}}': '8,471', '{{ROAS}}': '$7.95', '{{CPC}}': '$1.15', '{{snapshot date}}': '2025-03-01 - 2025-03-31'}\n",
      "Replacements: {'{{name}}': 'Albertsons', '{{impressions}}': '5,088,805', '{{impressions_lineitem_1}}': '5,088,805', '{{clicks}}': '9,418', '{{spend}}': '$11,908', '{{sales}}': '$77,489', '{{units}}': '6,432', '{{ROAS}}': '$6.51', '{{CPC}}': '$1.26', '{{snapshot date}}': '2025-02-01 - 2025-02-28'}\n",
      "Replacements: {'{{name}}': 'Albertsons', '{{impressions}}': '5,088,805', '{{impressions_lineitem_1}}': '5,088,805', '{{clicks}}': '9,418', '{{spend}}': '$11,908', '{{sales}}': '$77,489', '{{units}}': '6,432', '{{ROAS}}': '$6.51', '{{CPC}}': '$1.26', '{{snapshot date}}': '2025-02-01 - 2025-02-28'}\n",
      "Presentation updated successfully.\n"
     ]
    }
   ],
   "source": [
    "!python3 main2.py"
   ]
  },
  {
   "cell_type": "code",
   "execution_count": 42,
   "id": "384715d1-ee05-482e-a648-73e8d1e94a71",
   "metadata": {},
   "outputs": [
    {
     "name": "stdout",
     "output_type": "stream",
     "text": [
      "Replacements: {'{{name}}': 'Albertsons', '{{impressions}}': '6,128,568', '{{impressions_lineitem_1}}': '6,128,568', '{{clicks}}': '11,510', '{{spend}}': '$13,182', '{{sales}}': '$104,748', '{{units}}': '8,471', '{{ROAS}}': '$7.95', '{{CPC}}': '$1.15', '{{snapshot date}}': '2025-03-01 - 2025-03-31'}\n",
      "Replacements: {'{{name}}': 'Albertsons', '{{impressions}}': '5,088,805', '{{impressions_lineitem_1}}': '5,088,805', '{{clicks}}': '9,418', '{{spend}}': '$11,908', '{{sales}}': '$77,489', '{{units}}': '6,432', '{{ROAS}}': '$6.51', '{{CPC}}': '$1.26', '{{snapshot date}}': '2025-02-01 - 2025-02-28'}\n",
      "Replacements: {'{{name}}': 'Albertsons', '{{impressions}}': '5,088,805', '{{impressions_lineitem_1}}': '5,088,805', '{{clicks}}': '9,418', '{{spend}}': '$11,908', '{{sales}}': '$77,489', '{{units}}': '6,432', '{{ROAS}}': '$6.51', '{{CPC}}': '$1.26', '{{snapshot date}}': '2025-02-01 - 2025-02-28'}\n",
      "Presentation updated successfully.\n"
     ]
    }
   ],
   "source": [
    "!python3 main2.py"
   ]
  },
  {
   "cell_type": "code",
   "execution_count": 43,
   "id": "90ecf9f3-0a32-45e5-bd3a-b71b9760f15a",
   "metadata": {},
   "outputs": [
    {
     "name": "stdout",
     "output_type": "stream",
     "text": [
      "Replacements: {'{{name}}': 'Albertsons', '{{impressions}}': '6,128,568', '{{impressions_lineitem_1}}': '6,128,568', '{{clicks}}': '11,510', '{{spend}}': '$13,182', '{{sales}}': '$104,748', '{{units}}': '8,471', '{{ROAS}}': '$7.95', '{{CPC}}': '$1.15', '{{snapshot date}}': '2025-03-01 - 2025-03-31'}\n",
      "Replacements: {'{{name}}': 'Albertsons', '{{impressions}}': '5,088,805', '{{impressions_lineitem_1}}': '5,088,805', '{{clicks}}': '9,418', '{{spend}}': '$11,908', '{{sales}}': '$77,489', '{{units}}': '6,432', '{{ROAS}}': '$6.51', '{{CPC}}': '$1.26', '{{snapshot date}}': '2025-02-01 - 2025-02-28'}\n",
      "Replacements: {'{{name}}': 'Albertsons', '{{impressions}}': '5,088,805', '{{impressions_lineitem_1}}': '5,088,805', '{{clicks}}': '9,418', '{{spend}}': '$11,908', '{{sales}}': '$77,489', '{{units}}': '6,432', '{{ROAS}}': '$6.51', '{{CPC}}': '$1.26', '{{snapshot date}}': '2025-02-01 - 2025-02-28'}\n",
      "Presentation updated successfully.\n"
     ]
    }
   ],
   "source": [
    "!python3 main2.py"
   ]
  },
  {
   "cell_type": "code",
   "execution_count": 44,
   "id": "081602ba-327e-4af1-9a74-db499abff5e6",
   "metadata": {},
   "outputs": [
    {
     "name": "stdout",
     "output_type": "stream",
     "text": [
      "Traceback (most recent call last):\n",
      "  File \u001b[35m\"/Users/j.ensley/Documents/PPTMaker/main2.py\"\u001b[0m, line \u001b[35m128\u001b[0m, in \u001b[35m<module>\u001b[0m\n",
      "    print(\"Replacements:\", \u001b[1;31mreplacements\u001b[0m),\n",
      "                           \u001b[1;31m^^^^^^^^^^^^\u001b[0m\n",
      "\u001b[1;35mNameError\u001b[0m: \u001b[35mname 'replacements' is not defined\u001b[0m\n"
     ]
    }
   ],
   "source": [
    "!python3 main2.py"
   ]
  },
  {
   "cell_type": "code",
   "execution_count": 45,
   "id": "40c915aa-6996-40da-8bfc-86e0fc175fe9",
   "metadata": {},
   "outputs": [
    {
     "name": "stdout",
     "output_type": "stream",
     "text": [
      "Replacements: {'{{name}}': 'Albertsons', '{{impressions}}': '6,128,568', '{{clicks}}': '11,510', '{{spend}}': '$13,182', '{{sales}}': '$104,748', '{{units}}': '8,471', '{{ROAS}}': '$7.95', '{{CPC}}': '$1.15', '{{snapshot date}}': '2025-03-01 - 2025-03-31', '{{impressions_lineitem_1}}': '6,128,568', '{{clicks_lineitem_1}}': '11,510', '{{spend_lineitem_1}}': '$13,182', '{{sales_lineitem_1}}': '$104,748', '{{units_lineitem_1}}': '8,471', '{{ROAS_lineitem_1}}': '$7.95', '{{CPC_lineitem_1}}': '$1.15', '{{name_lineitem_1}}': 'LineItem 1', '{{impressions_lineitem_2}}': '12,802,133', '{{clicks_lineitem_2}}': '9,688', '{{spend_lineitem_2}}': '$10,312', '{{sales_lineitem_2}}': '$22,733', '{{units_lineitem_2}}': '4,155', '{{ROAS_lineitem_2}}': '$2.20', '{{CPC_lineitem_2}}': '$1.06', '{{name_lineitem_2}}': 'LineItem 2'}\n",
      "Replacements: {'{{name}}': 'Albertsons', '{{impressions}}': '5,088,805', '{{clicks}}': '9,418', '{{spend}}': '$11,908', '{{sales}}': '$77,489', '{{units}}': '6,432', '{{ROAS}}': '$6.51', '{{CPC}}': '$1.26', '{{snapshot date}}': '2025-02-01 - 2025-02-28', '{{impressions_lineitem_1}}': '5,088,805', '{{clicks_lineitem_1}}': '9,418', '{{spend_lineitem_1}}': '$11,908', '{{sales_lineitem_1}}': '$77,489', '{{units_lineitem_1}}': '6,432', '{{ROAS_lineitem_1}}': '$6.51', '{{CPC_lineitem_1}}': '$1.26', '{{name_lineitem_1}}': 'LineItem 1', '{{impressions_lineitem_2}}': '8,451,411', '{{clicks_lineitem_2}}': '9,606', '{{spend_lineitem_2}}': '$9,543', '{{sales_lineitem_2}}': '$21,354', '{{units_lineitem_2}}': '3,407', '{{ROAS_lineitem_2}}': '$2.24', '{{CPC_lineitem_2}}': '$0.99', '{{name_lineitem_2}}': 'LineItem 2'}\n",
      "Replacements: {'{{name}}': 'Albertsons', '{{impressions}}': '5,088,805', '{{clicks}}': '9,418', '{{spend}}': '$11,908', '{{sales}}': '$77,489', '{{units}}': '6,432', '{{ROAS}}': '$6.51', '{{CPC}}': '$1.26', '{{snapshot date}}': '2025-02-01 - 2025-02-28', '{{impressions_lineitem_1}}': '5,088,805', '{{clicks_lineitem_1}}': '9,418', '{{spend_lineitem_1}}': '$11,908', '{{sales_lineitem_1}}': '$77,489', '{{units_lineitem_1}}': '6,432', '{{ROAS_lineitem_1}}': '$6.51', '{{CPC_lineitem_1}}': '$1.26', '{{name_lineitem_1}}': 'LineItem 1', '{{impressions_lineitem_2}}': '8,451,411', '{{clicks_lineitem_2}}': '9,606', '{{spend_lineitem_2}}': '$9,543', '{{sales_lineitem_2}}': '$21,354', '{{units_lineitem_2}}': '3,407', '{{ROAS_lineitem_2}}': '$2.24', '{{CPC_lineitem_2}}': '$0.99', '{{name_lineitem_2}}': 'LineItem 2'}\n",
      "Presentation updated successfully.\n"
     ]
    }
   ],
   "source": [
    "!python3 main2.py"
   ]
  },
  {
   "cell_type": "code",
   "execution_count": 46,
   "id": "4f36e65b-6912-4083-a493-f12b071b836e",
   "metadata": {},
   "outputs": [
    {
     "name": "stdout",
     "output_type": "stream",
     "text": [
      "Replacements: {'{{name}}': 'Albertsons', '{{impressions}}': '6,128,568', '{{clicks}}': '11,510', '{{spend}}': '$13,182', '{{sales}}': '$104,748', '{{units}}': '8,471', '{{ROAS}}': '$7.95', '{{CPC}}': '$1.15', '{{snapshot date}}': '2025-03-01 - 2025-03-31'}\n",
      "Replacements: {'{{name}}': 'Albertsons', '{{impressions}}': '5,088,805', '{{clicks}}': '9,418', '{{spend}}': '$11,908', '{{sales}}': '$77,489', '{{units}}': '6,432', '{{ROAS}}': '$6.51', '{{CPC}}': '$1.26', '{{snapshot date}}': '2025-02-01 - 2025-02-28'}\n",
      "Replacements: {'{{name}}': 'Albertsons', '{{impressions}}': '5,088,805', '{{clicks}}': '9,418', '{{spend}}': '$11,908', '{{sales}}': '$77,489', '{{units}}': '6,432', '{{ROAS}}': '$6.51', '{{CPC}}': '$1.26', '{{snapshot date}}': '2025-02-01 - 2025-02-28', '{{impressions_lineitem_1}}': '5,088,805', '{{clicks_lineitem_1}}': '9,418', '{{spend_lineitem_1}}': '$11,908', '{{sales_lineitem_1}}': '$77,489', '{{units_lineitem_1}}': '6,432', '{{ROAS_lineitem_1}}': '$6.51', '{{CPC_lineitem_1}}': '$1.26', '{{name_lineitem_1}}': 'LineItem 1', '{{impressions_lineitem_2}}': '8,451,411', '{{clicks_lineitem_2}}': '9,606', '{{spend_lineitem_2}}': '$9,543', '{{sales_lineitem_2}}': '$21,354', '{{units_lineitem_2}}': '3,407', '{{ROAS_lineitem_2}}': '$2.24', '{{CPC_lineitem_2}}': '$0.99', '{{name_lineitem_2}}': 'LineItem 2'}\n",
      "Presentation updated successfully.\n"
     ]
    }
   ],
   "source": [
    "!python3 main3.py"
   ]
  },
  {
   "cell_type": "code",
   "execution_count": 47,
   "id": "ef017106-6ab1-4702-af80-315cbdc7c88d",
   "metadata": {},
   "outputs": [
    {
     "name": "stdout",
     "output_type": "stream",
     "text": [
      "Replacements: {'{{name}}': 'Albertsons', '{{impressions}}': '6,128,568', '{{clicks}}': '11,510', '{{spend}}': '$13,182', '{{sales}}': '$104,748', '{{units}}': '8,471', '{{ROAS}}': '$7.95', '{{CPC}}': '$1.15', '{{snapshot date}}': '2025-03-01 - 2025-03-31'}\n",
      "Replacements: {'{{name}}': 'Albertsons', '{{impressions}}': '5,088,805', '{{clicks}}': '9,418', '{{spend}}': '$11,908', '{{sales}}': '$77,489', '{{units}}': '6,432', '{{ROAS}}': '$6.51', '{{CPC}}': '$1.26', '{{snapshot date}}': '2025-02-01 - 2025-02-28'}\n",
      "Replacements: {'{{name}}': 'Albertsons', '{{impressions}}': '5,088,805', '{{clicks}}': '9,418', '{{spend}}': '$11,908', '{{sales}}': '$77,489', '{{units}}': '6,432', '{{ROAS}}': '$6.51', '{{CPC}}': '$1.26', '{{snapshot date}}': '2025-02-01 - 2025-02-28'}\n",
      "Presentation updated successfully.\n"
     ]
    }
   ],
   "source": [
    "!python3 main3.py"
   ]
  },
  {
   "cell_type": "code",
   "execution_count": 48,
   "id": "281c0a98-3c10-4058-b52a-695315c6dc28",
   "metadata": {},
   "outputs": [
    {
     "name": "stdout",
     "output_type": "stream",
     "text": [
      "Replacements: {'{{name}}': 'Albertsons', '{{impressions}}': '18,930,701', '{{clicks}}': '21,198', '{{spend}}': '$23,494', '{{sales}}': '$127,482', '{{units}}': '12,626', '{{ROAS}}': '$5.43', '{{CPC}}': '$1.11', '{{snapshot date}}': '2025-03-01 - 2025-03-31'}\n",
      "Replacements: {'{{name}}': 'Albertsons', '{{impressions}}': '13,540,216', '{{clicks}}': '19,024', '{{spend}}': '$21,451', '{{sales}}': '$98,844', '{{units}}': '9,839', '{{ROAS}}': '$4.61', '{{CPC}}': '$1.13', '{{snapshot date}}': '2025-02-01 - 2025-02-28'}\n",
      "Replacements: {'{{name}}': 'Albertsons', '{{impressions}}': '13,540,216', '{{clicks}}': '19,024', '{{spend}}': '$21,451', '{{sales}}': '$98,844', '{{units}}': '9,839', '{{ROAS}}': '$4.61', '{{CPC}}': '$1.13', '{{snapshot date}}': '2025-02-01 - 2025-02-28'}\n",
      "Presentation updated successfully.\n"
     ]
    }
   ],
   "source": [
    "!python3 main3.py"
   ]
  },
  {
   "cell_type": "code",
   "execution_count": 49,
   "id": "ef7f6c6f-1cdf-4163-9aa0-b2c1a3696bc5",
   "metadata": {},
   "outputs": [
    {
     "name": "stdout",
     "output_type": "stream",
     "text": [
      "Replacements: {'{{name}}': 'Albertsons', '{{impressions}}': '18,930,701', '{{clicks}}': '21,198', '{{spend}}': '$23,494', '{{sales}}': '$127,482', '{{units}}': '12,626', '{{ROAS}}': '$5.43', '{{CPC}}': '$1.11', '{{snapshot date}}': '2025-03-01 - 2025-03-31'}\n",
      "Replacements: {'{{name}}': 'Albertsons', '{{impressions}}': '13,540,216', '{{clicks}}': '19,024', '{{spend}}': '$21,451', '{{sales}}': '$98,844', '{{units}}': '9,839', '{{ROAS}}': '$4.61', '{{CPC}}': '$1.13', '{{snapshot date}}': '2025-02-01 - 2025-02-28'}\n",
      "Replacements: {'{{name}}': 'Albertsons', '{{impressions}}': '5,088,805', '{{clicks}}': '9,418', '{{spend}}': '$11,908', '{{sales}}': '$77,489', '{{units}}': '6,432', '{{ROAS}}': '$6.51', '{{CPC}}': '$1.26', '{{snapshot date}}': '2025-02-01 - 2025-02-28', '{{impressions_lineitem_1}}': '5,088,805', '{{clicks_lineitem_1}}': '9,418', '{{spend_lineitem_1}}': '$11,908', '{{sales_lineitem_1}}': '$77,489', '{{units_lineitem_1}}': '6,432', '{{ROAS_lineitem_1}}': '$6.51', '{{CPC_lineitem_1}}': '$1.26', '{{name_lineitem_1}}': 'LineItem 1', '{{impressions_lineitem_2}}': '8,451,411', '{{clicks_lineitem_2}}': '9,606', '{{spend_lineitem_2}}': '$9,543', '{{sales_lineitem_2}}': '$21,354', '{{units_lineitem_2}}': '3,407', '{{ROAS_lineitem_2}}': '$2.24', '{{CPC_lineitem_2}}': '$0.99', '{{name_lineitem_2}}': 'LineItem 2'}\n",
      "Presentation updated successfully.\n"
     ]
    }
   ],
   "source": [
    "!python3 main3.py"
   ]
  },
  {
   "cell_type": "code",
   "execution_count": 50,
   "id": "04e53dfe-7df3-4c9e-b7c3-7b0f1f7615c1",
   "metadata": {},
   "outputs": [
    {
     "name": "stdout",
     "output_type": "stream",
     "text": [
      "Replacements: {'{{name}}': 'Albertsons', '{{impressions}}': '18,930,701', '{{clicks}}': '21,198', '{{spend}}': '$23,494', '{{sales}}': '$127,482', '{{units}}': '12,626', '{{ROAS}}': '$5.43', '{{CPC}}': '$1.11', '{{snapshot date}}': '2025-03-01 - 2025-03-31'}\n",
      "Replacements: {'{{name}}': 'Albertsons', '{{impressions}}': '13,540,216', '{{clicks}}': '19,024', '{{spend}}': '$21,451', '{{sales}}': '$98,844', '{{units}}': '9,839', '{{ROAS}}': '$4.61', '{{CPC}}': '$1.13', '{{snapshot date}}': '2025-02-01 - 2025-02-28'}\n",
      "Replacements: {'{{name}}': 'Albertsons', '{{impressions}}': '5,088,805', '{{clicks}}': '9,418', '{{spend}}': '$11,908', '{{sales}}': '$77,489', '{{units}}': '6,432', '{{ROAS}}': '$6.51', '{{CPC}}': '$1.26', '{{snapshot date}}': '2025-02-01 - 2025-02-28', '{{impressions_lineitem_1}}': '5,088,805', '{{clicks_lineitem_1}}': '9,418', '{{spend_lineitem_1}}': '$11,908', '{{sales_lineitem_1}}': '$77,489', '{{units_lineitem_1}}': '6,432', '{{ROAS_lineitem_1}}': '$6.51', '{{CPC_lineitem_1}}': '$1.26', '{{name_lineitem_1}}': 'LineItem 1', '{{impressions_lineitem_2}}': '8,451,411', '{{clicks_lineitem_2}}': '9,606', '{{spend_lineitem_2}}': '$9,543', '{{sales_lineitem_2}}': '$21,354', '{{units_lineitem_2}}': '3,407', '{{ROAS_lineitem_2}}': '$2.24', '{{CPC_lineitem_2}}': '$0.99', '{{name_lineitem_2}}': 'LineItem 2'}\n",
      "Presentation updated successfully.\n"
     ]
    }
   ],
   "source": [
    "!python3 main3.py"
   ]
  },
  {
   "cell_type": "code",
   "execution_count": 51,
   "id": "7990ccff-a212-426a-aa2d-86cb02195705",
   "metadata": {},
   "outputs": [
    {
     "name": "stdout",
     "output_type": "stream",
     "text": [
      "Replacements: {'{{name}}': 'Albertsons', '{{impressions}}': '18,930,701', '{{clicks}}': '21,198', '{{spend}}': '$23,494', '{{sales}}': '$127,482', '{{units}}': '12,626', '{{ROAS}}': '$5.43', '{{CPC}}': '$1.11', '{{snapshot date}}': '2025-03-01 - 2025-03-31'}\n",
      "Replacements: {'{{name}}': 'Albertsons', '{{impressions}}': '13,540,216', '{{clicks}}': '19,024', '{{spend}}': '$21,451', '{{sales}}': '$98,844', '{{units}}': '9,839', '{{ROAS}}': '$4.61', '{{CPC}}': '$1.13', '{{snapshot date}}': '2025-02-01 - 2025-02-28'}\n",
      "Replacements: {'{{name}}': 'Albertsons', '{{impressions}}': '6,128,568', '{{clicks}}': '11,510', '{{spend}}': '$13,182', '{{sales}}': '$104,748', '{{units}}': '8,471', '{{ROAS}}': '$7.95', '{{CPC}}': '$1.15', '{{snapshot date}}': '2025-03-01 - 2025-03-31', '{{impressions_lineitem_1}}': '6,128,568', '{{clicks_lineitem_1}}': '11,510', '{{spend_lineitem_1}}': '$13,182', '{{sales_lineitem_1}}': '$104,748', '{{units_lineitem_1}}': '8,471', '{{ROAS_lineitem_1}}': '$7.95', '{{CPC_lineitem_1}}': '$1.15', '{{name_lineitem_1}}': 'LineItem 1', '{{impressions_lineitem_2}}': '12,802,133', '{{clicks_lineitem_2}}': '9,688', '{{spend_lineitem_2}}': '$10,312', '{{sales_lineitem_2}}': '$22,733', '{{units_lineitem_2}}': '4,155', '{{ROAS_lineitem_2}}': '$2.20', '{{CPC_lineitem_2}}': '$1.06', '{{name_lineitem_2}}': 'LineItem 2'}\n",
      "Presentation updated successfully.\n"
     ]
    }
   ],
   "source": [
    "!python3 main3.py"
   ]
  },
  {
   "cell_type": "code",
   "execution_count": 52,
   "id": "bb81b349-4605-42f6-aadc-8dff75528d8f",
   "metadata": {},
   "outputs": [
    {
     "name": "stdout",
     "output_type": "stream",
     "text": [
      "Replacements: {'{{name}}': 'Albertsons', '{{impressions}}': '18,930,701', '{{clicks}}': '21,198', '{{spend}}': '$23,494', '{{sales}}': '$127,482', '{{units}}': '12,626', '{{ROAS}}': '$5.43', '{{CPC}}': '$1.11', '{{snapshot date}}': '2025-03-01 - 2025-03-31'}\n",
      "Replacements: {'{{name}}': 'Albertsons', '{{impressions}}': '13,540,216', '{{clicks}}': '19,024', '{{spend}}': '$21,451', '{{sales}}': '$98,844', '{{units}}': '9,839', '{{ROAS}}': '$4.61', '{{CPC}}': '$1.13', '{{snapshot date}}': '2025-02-01 - 2025-02-28'}\n",
      "Replacements: {'{{name}}': 'Albertsons', '{{impressions}}': '6,128,568', '{{clicks}}': '11,510', '{{spend}}': '$13,182', '{{sales}}': '$104,748', '{{units}}': '8,471', '{{ROAS}}': '$7.95', '{{CPC}}': '$1.15', '{{snapshot date}}': '2025-03-01 - 2025-03-31', '{{impressions_lineitem_1}}': '6,128,568', '{{clicks_lineitem_1}}': '11,510', '{{spend_lineitem_1}}': '$13,182', '{{sales_lineitem_1}}': '$104,748', '{{units_lineitem_1}}': '8,471', '{{ROAS_lineitem_1}}': '$7.95', '{{CPC_lineitem_1}}': '$1.15', '{{name_lineitem_1}}': \"Pilgrim's_Pilgrims SPA 2024__June-December Just Bare_XQ73169400521685\", '{{impressions_lineitem_2}}': '12,802,133', '{{clicks_lineitem_2}}': '9,688', '{{spend_lineitem_2}}': '$10,312', '{{sales_lineitem_2}}': '$22,733', '{{units_lineitem_2}}': '4,155', '{{ROAS_lineitem_2}}': '$2.20', '{{CPC_lineitem_2}}': '$1.06', '{{name_lineitem_2}}': \"Pilgrim's_Pilgrims SPA 2024__June-December Pilgrims_XQ73169400521685\"}\n",
      "Presentation updated successfully.\n"
     ]
    }
   ],
   "source": [
    "!python3 main3.py"
   ]
  },
  {
   "cell_type": "code",
   "execution_count": 53,
   "id": "1cbe5b39-eee2-44fd-a94d-fd22cbb295f3",
   "metadata": {},
   "outputs": [
    {
     "name": "stdout",
     "output_type": "stream",
     "text": [
      "Replacements: {'{{name}}': 'Albertsons', '{{impressions}}': '18,930,701', '{{clicks}}': '21,198', '{{spend}}': '$23,494', '{{sales}}': '$127,482', '{{units}}': '12,626', '{{ROAS}}': '$5.43', '{{CPC}}': '$1.11', '{{snapshot date}}': '2025-03-01 - 2025-03-31'}\n",
      "Replacements: {'{{name}}': 'Albertsons', '{{impressions}}': '13,540,216', '{{clicks}}': '19,024', '{{spend}}': '$21,451', '{{sales}}': '$98,844', '{{units}}': '9,839', '{{ROAS}}': '$4.61', '{{CPC}}': '$1.13', '{{snapshot date}}': '2025-02-01 - 2025-02-28'}\n",
      "Replacements: {'{{name}}': 'Albertsons', '{{impressions}}': '6,128,568', '{{clicks}}': '11,510', '{{spend}}': '$13,182', '{{sales}}': '$104,748', '{{units}}': '8,471', '{{ROAS}}': '$7.95', '{{CPC}}': '$1.15', '{{snapshot date}}': '2025-03-01 - 2025-03-31', '{{impressions_lineitem_1}}': '6,128,568', '{{clicks_lineitem_1}}': '11,510', '{{spend_lineitem_1}}': '$13,182', '{{sales_lineitem_1}}': '$104,748', '{{units_lineitem_1}}': '8,471', '{{ROAS_lineitem_1}}': '$7.95', '{{CPC_lineitem_1}}': '$1.15', '{{name_lineitem_1}}': \"Pilgrim's_Pilgrims SPA 2024__June-December Just Bare_XQ73169400521685\", '{{impressions_lineitem_2}}': '12,802,133', '{{clicks_lineitem_2}}': '9,688', '{{spend_lineitem_2}}': '$10,312', '{{sales_lineitem_2}}': '$22,733', '{{units_lineitem_2}}': '4,155', '{{ROAS_lineitem_2}}': '$2.20', '{{CPC_lineitem_2}}': '$1.06', '{{name_lineitem_2}}': \"Pilgrim's_Pilgrims SPA 2024__June-December Pilgrims_XQ73169400521685\"}\n",
      "Presentation updated successfully.\n"
     ]
    }
   ],
   "source": [
    "!python3 main3.py"
   ]
  },
  {
   "cell_type": "code",
   "execution_count": 54,
   "id": "508b0d15-e073-462c-ae7b-b909321ebbbc",
   "metadata": {},
   "outputs": [
    {
     "name": "stdout",
     "output_type": "stream",
     "text": [
      "  File \u001b[35m\"/Users/j.ensley/Documents/PPTMaker/main3.py\"\u001b[0m, line \u001b[35m65\u001b[0m\n",
      "    \"brand_name\": Pilgrim\u001b[1;31m'\u001b[0ms,\n",
      "                         \u001b[1;31m^\u001b[0m\n",
      "\u001b[1;35mSyntaxError\u001b[0m: \u001b[35munterminated string literal (detected at line 65)\u001b[0m\n"
     ]
    }
   ],
   "source": [
    "!python3 main3.py"
   ]
  },
  {
   "cell_type": "code",
   "execution_count": 55,
   "id": "f740e614-fc27-44cd-9793-b633c9f2325d",
   "metadata": {},
   "outputs": [
    {
     "ename": "SyntaxError",
     "evalue": "invalid syntax (960112672.py, line 1)",
     "output_type": "error",
     "traceback": [
      "  \u001b[36mCell\u001b[39m\u001b[36m \u001b[39m\u001b[32mIn[55]\u001b[39m\u001b[32m, line 1\u001b[39m\n\u001b[31m    \u001b[39m\u001b[31mpython3 main3.py\u001b[39m\n            ^\n\u001b[31mSyntaxError\u001b[39m\u001b[31m:\u001b[39m invalid syntax\n"
     ]
    }
   ],
   "source": [
    "python3 main3.py"
   ]
  },
  {
   "cell_type": "code",
   "execution_count": 56,
   "id": "82f14eb1-32f7-402d-8a7b-0d5565849c07",
   "metadata": {},
   "outputs": [
    {
     "name": "stdout",
     "output_type": "stream",
     "text": [
      "Replacements: {'{{name}}': 'Albertsons', '{{impressions}}': '18,930,701', '{{clicks}}': '21,198', '{{spend}}': '$23,494', '{{sales}}': '$127,482', '{{units}}': '12,626', '{{ROAS}}': '$5.43', '{{CPC}}': '$1.11', '{{snapshot date}}': '2025-03-01 - 2025-03-31', '{{BRAND NAME}}': 'Unknown'}\n",
      "Replacements: {'{{name}}': 'Albertsons', '{{impressions}}': '13,540,216', '{{clicks}}': '19,024', '{{spend}}': '$21,451', '{{sales}}': '$98,844', '{{units}}': '9,839', '{{ROAS}}': '$4.61', '{{CPC}}': '$1.13', '{{snapshot date}}': '2025-02-01 - 2025-02-28', '{{BRAND NAME}}': 'Unknown'}\n",
      "Replacements: {'{{name}}': 'Albertsons', '{{impressions}}': '6,128,568', '{{clicks}}': '11,510', '{{spend}}': '$13,182', '{{sales}}': '$104,748', '{{units}}': '8,471', '{{ROAS}}': '$7.95', '{{CPC}}': '$1.15', '{{snapshot date}}': '2025-03-01 - 2025-03-31', '{{BRAND NAME}}': 'Unknown', '{{impressions_lineitem_1}}': '6,128,568', '{{clicks_lineitem_1}}': '11,510', '{{spend_lineitem_1}}': '$13,182', '{{sales_lineitem_1}}': '$104,748', '{{units_lineitem_1}}': '8,471', '{{ROAS_lineitem_1}}': '$7.95', '{{CPC_lineitem_1}}': '$1.15', '{{name_lineitem_1}}': \"Pilgrim's_Pilgrims SPA 2024__June-December Just Bare_XQ73169400521685\", '{{impressions_lineitem_2}}': '12,802,133', '{{clicks_lineitem_2}}': '9,688', '{{spend_lineitem_2}}': '$10,312', '{{sales_lineitem_2}}': '$22,733', '{{units_lineitem_2}}': '4,155', '{{ROAS_lineitem_2}}': '$2.20', '{{CPC_lineitem_2}}': '$1.06', '{{name_lineitem_2}}': \"Pilgrim's_Pilgrims SPA 2024__June-December Pilgrims_XQ73169400521685\"}\n",
      "Presentation updated successfully.\n"
     ]
    }
   ],
   "source": [
    "!python3 main3.py"
   ]
  },
  {
   "cell_type": "code",
   "execution_count": 57,
   "id": "47bb04e7-6266-4d27-a941-9cf73da37da0",
   "metadata": {},
   "outputs": [
    {
     "name": "stdout",
     "output_type": "stream",
     "text": [
      "Replacements: {'{{name}}': 'Albertsons', '{{impressions}}': '18,930,701', '{{clicks}}': '21,198', '{{spend}}': '$23,494', '{{sales}}': '$127,482', '{{units}}': '12,626', '{{ROAS}}': '$5.43', '{{CPC}}': '$1.11', '{{snapshot date}}': '2025-03-01 - 2025-03-31', '{{BRAND NAME}}': None}\n",
      "Traceback (most recent call last):\n",
      "  File \u001b[35m\"/Users/j.ensley/Documents/PPTMaker/main3.py\"\u001b[0m, line \u001b[35m151\u001b[0m, in \u001b[35m<module>\u001b[0m\n",
      "    \u001b[31mfill_slide\u001b[0m\u001b[1;31m(prs, 0, \"2025-03-01\", \"2025-03-31\", use_line_items=False)\u001b[0m\n",
      "    \u001b[31m~~~~~~~~~~\u001b[0m\u001b[1;31m^^^^^^^^^^^^^^^^^^^^^^^^^^^^^^^^^^^^^^^^^^^^^^^^^^^^^^^^^^\u001b[0m\n",
      "  File \u001b[35m\"/Users/j.ensley/Documents/PPTMaker/main3.py\"\u001b[0m, line \u001b[35m142\u001b[0m, in \u001b[35mfill_slide\u001b[0m\n",
      "    \u001b[31mreplace_text_in_shape\u001b[0m\u001b[1;31m(shape, replacements)\u001b[0m\n",
      "    \u001b[31m~~~~~~~~~~~~~~~~~~~~~\u001b[0m\u001b[1;31m^^^^^^^^^^^^^^^^^^^^^\u001b[0m\n",
      "  File \u001b[35m\"/Users/j.ensley/Documents/PPTMaker/main3.py\"\u001b[0m, line \u001b[35m93\u001b[0m, in \u001b[35mreplace_text_in_shape\u001b[0m\n",
      "    run.text = \u001b[31mrun.text.replace\u001b[0m\u001b[1;31m(key, value)\u001b[0m\n",
      "               \u001b[31m~~~~~~~~~~~~~~~~\u001b[0m\u001b[1;31m^^^^^^^^^^^^\u001b[0m\n",
      "\u001b[1;35mTypeError\u001b[0m: \u001b[35mreplace() argument 2 must be str, not None\u001b[0m\n"
     ]
    }
   ],
   "source": [
    "!python3 main3.py"
   ]
  },
  {
   "cell_type": "code",
   "execution_count": 58,
   "id": "1b453cdf-2cc2-4a3b-8d30-1a3df8d61ef5",
   "metadata": {},
   "outputs": [
    {
     "name": "stdout",
     "output_type": "stream",
     "text": [
      "Traceback (most recent call last):\n",
      "  File \u001b[35m\"/Users/j.ensley/Documents/PPTMaker/main3.py\"\u001b[0m, line \u001b[35m151\u001b[0m, in \u001b[35m<module>\u001b[0m\n",
      "    \u001b[31mfill_slide\u001b[0m\u001b[1;31m(prs, 0, \"2025-03-01\", \"2025-03-31\", use_line_items=False)\u001b[0m\n",
      "    \u001b[31m~~~~~~~~~~\u001b[0m\u001b[1;31m^^^^^^^^^^^^^^^^^^^^^^^^^^^^^^^^^^^^^^^^^^^^^^^^^^^^^^^^^^\u001b[0m\n",
      "  File \u001b[35m\"/Users/j.ensley/Documents/PPTMaker/main3.py\"\u001b[0m, line \u001b[35m108\u001b[0m, in \u001b[35mfill_slide\u001b[0m\n",
      "    data = get_data(start_date, end_date, line_item_filter)\n",
      "  File \u001b[35m\"/Users/j.ensley/Documents/PPTMaker/main3.py\"\u001b[0m, line \u001b[35m77\u001b[0m, in \u001b[35mget_data\u001b[0m\n",
      "    payload = get_payload(start_date, end_date, line_item_filter)\n",
      "  File \u001b[35m\"/Users/j.ensley/Documents/PPTMaker/main3.py\"\u001b[0m, line \u001b[35m65\u001b[0m, in \u001b[35mget_payload\u001b[0m\n",
      "    \"brand_name\": \u001b[1;31mPilgrims\u001b[0m,\n",
      "                  \u001b[1;31m^^^^^^^^\u001b[0m\n",
      "\u001b[1;35mNameError\u001b[0m: \u001b[35mname 'Pilgrims' is not defined\u001b[0m\n"
     ]
    }
   ],
   "source": [
    "!python3 main3.py"
   ]
  },
  {
   "cell_type": "code",
   "execution_count": 59,
   "id": "d5ee41a7-bc66-4ecd-a3bc-ef42f468cb05",
   "metadata": {},
   "outputs": [
    {
     "name": "stdout",
     "output_type": "stream",
     "text": [
      "Traceback (most recent call last):\n",
      "  File \u001b[35m\"/Users/j.ensley/Documents/PPTMaker/main3.py\"\u001b[0m, line \u001b[35m151\u001b[0m, in \u001b[35m<module>\u001b[0m\n",
      "    \u001b[31mfill_slide\u001b[0m\u001b[1;31m(prs, 0, \"2025-03-01\", \"2025-03-31\", use_line_items=False)\u001b[0m\n",
      "    \u001b[31m~~~~~~~~~~\u001b[0m\u001b[1;31m^^^^^^^^^^^^^^^^^^^^^^^^^^^^^^^^^^^^^^^^^^^^^^^^^^^^^^^^^^\u001b[0m\n",
      "  File \u001b[35m\"/Users/j.ensley/Documents/PPTMaker/main3.py\"\u001b[0m, line \u001b[35m108\u001b[0m, in \u001b[35mfill_slide\u001b[0m\n",
      "    data = get_data(start_date, end_date, line_item_filter)\n",
      "  File \u001b[35m\"/Users/j.ensley/Documents/PPTMaker/main3.py\"\u001b[0m, line \u001b[35m77\u001b[0m, in \u001b[35mget_data\u001b[0m\n",
      "    payload = get_payload(start_date, end_date, line_item_filter)\n",
      "  File \u001b[35m\"/Users/j.ensley/Documents/PPTMaker/main3.py\"\u001b[0m, line \u001b[35m65\u001b[0m, in \u001b[35mget_payload\u001b[0m\n",
      "    \"brand_name\": \u001b[1;31mPilgrims\u001b[0m\n",
      "                  \u001b[1;31m^^^^^^^^\u001b[0m\n",
      "\u001b[1;35mNameError\u001b[0m: \u001b[35mname 'Pilgrims' is not defined\u001b[0m\n"
     ]
    }
   ],
   "source": [
    "!python3 main3.py"
   ]
  },
  {
   "cell_type": "code",
   "execution_count": 60,
   "id": "7d4b1d34-708f-4807-a23b-9d1ba675845f",
   "metadata": {},
   "outputs": [
    {
     "name": "stdout",
     "output_type": "stream",
     "text": [
      "Replacements: {'{{name}}': 'Albertsons', '{{impressions}}': '18,930,701', '{{clicks}}': '21,198', '{{spend}}': '$23,494', '{{sales}}': '$127,482', '{{units}}': '12,626', '{{ROAS}}': '$5.43', '{{CPC}}': '$1.11', '{{snapshot date}}': '2025-03-01 - 2025-03-31'}\n",
      "Replacements: {'{{name}}': 'Albertsons', '{{impressions}}': '13,540,216', '{{clicks}}': '19,024', '{{spend}}': '$21,451', '{{sales}}': '$98,844', '{{units}}': '9,839', '{{ROAS}}': '$4.61', '{{CPC}}': '$1.13', '{{snapshot date}}': '2025-02-01 - 2025-02-28'}\n",
      "Replacements: {'{{name}}': 'Albertsons', '{{impressions}}': '6,128,568', '{{clicks}}': '11,510', '{{spend}}': '$13,182', '{{sales}}': '$104,748', '{{units}}': '8,471', '{{ROAS}}': '$7.95', '{{CPC}}': '$1.15', '{{snapshot date}}': '2025-03-01 - 2025-03-31', '{{impressions_lineitem_1}}': '6,128,568', '{{clicks_lineitem_1}}': '11,510', '{{spend_lineitem_1}}': '$13,182', '{{sales_lineitem_1}}': '$104,748', '{{units_lineitem_1}}': '8,471', '{{ROAS_lineitem_1}}': '$7.95', '{{CPC_lineitem_1}}': '$1.15', '{{name_lineitem_1}}': \"Pilgrim's_Pilgrims SPA 2024__June-December Just Bare_XQ73169400521685\", '{{impressions_lineitem_2}}': '12,802,133', '{{clicks_lineitem_2}}': '9,688', '{{spend_lineitem_2}}': '$10,312', '{{sales_lineitem_2}}': '$22,733', '{{units_lineitem_2}}': '4,155', '{{ROAS_lineitem_2}}': '$2.20', '{{CPC_lineitem_2}}': '$1.06', '{{name_lineitem_2}}': \"Pilgrim's_Pilgrims SPA 2024__June-December Pilgrims_XQ73169400521685\"}\n",
      "Presentation updated successfully.\n"
     ]
    }
   ],
   "source": [
    "!python3 main3.py"
   ]
  },
  {
   "cell_type": "code",
   "execution_count": 61,
   "id": "3bc11453-51a2-4a67-a539-0d3e1b5ac475",
   "metadata": {},
   "outputs": [
    {
     "name": "stdout",
     "output_type": "stream",
     "text": [
      "Replacements: {'{{name}}': 'Albertsons', '{{impressions}}': '18,930,701', '{{clicks}}': '21,198', '{{spend}}': '$23,494', '{{sales}}': '$127,482', '{{units}}': '12,626', '{{ROAS}}': '$5.43', '{{CPC}}': '$1.11', '{{snapshot date}}': '2025-03-01 - 2025-03-31', '{{BRAND NAME}}': \"Pilgrim's\"}\n",
      "Replacements: {'{{name}}': 'Albertsons', '{{impressions}}': '13,540,216', '{{clicks}}': '19,024', '{{spend}}': '$21,451', '{{sales}}': '$98,844', '{{units}}': '9,839', '{{ROAS}}': '$4.61', '{{CPC}}': '$1.13', '{{snapshot date}}': '2025-02-01 - 2025-02-28', '{{BRAND NAME}}': \"Pilgrim's\"}\n",
      "Replacements: {'{{name}}': 'Albertsons', '{{impressions}}': '6,128,568', '{{clicks}}': '11,510', '{{spend}}': '$13,182', '{{sales}}': '$104,748', '{{units}}': '8,471', '{{ROAS}}': '$7.95', '{{CPC}}': '$1.15', '{{snapshot date}}': '2025-03-01 - 2025-03-31', '{{BRAND NAME}}': \"Pilgrim's\", '{{impressions_lineitem_1}}': '6,128,568', '{{clicks_lineitem_1}}': '11,510', '{{spend_lineitem_1}}': '$13,182', '{{sales_lineitem_1}}': '$104,748', '{{units_lineitem_1}}': '8,471', '{{ROAS_lineitem_1}}': '$7.95', '{{CPC_lineitem_1}}': '$1.15', '{{name_lineitem_1}}': \"Pilgrim's_Pilgrims SPA 2024__June-December Just Bare_XQ73169400521685\", '{{impressions_lineitem_2}}': '12,802,133', '{{clicks_lineitem_2}}': '9,688', '{{spend_lineitem_2}}': '$10,312', '{{sales_lineitem_2}}': '$22,733', '{{units_lineitem_2}}': '4,155', '{{ROAS_lineitem_2}}': '$2.20', '{{CPC_lineitem_2}}': '$1.06', '{{name_lineitem_2}}': \"Pilgrim's_Pilgrims SPA 2024__June-December Pilgrims_XQ73169400521685\"}\n",
      "Presentation updated successfully.\n"
     ]
    }
   ],
   "source": [
    "!python3 main3.py"
   ]
  },
  {
   "cell_type": "code",
   "execution_count": 62,
   "id": "6c905d7d-f9ba-4fb6-8df6-a7e99b65b46e",
   "metadata": {},
   "outputs": [
    {
     "name": "stdout",
     "output_type": "stream",
     "text": [
      "Replacements: {'{{name}}': 'Albertsons', '{{impressions}}': '18,930,701', '{{clicks}}': '21,198', '{{spend}}': '$23,494', '{{sales}}': '$127,482', '{{units}}': '12,626', '{{ROAS}}': '$5.43', '{{CPC}}': '$1.11', '{{snapshot date}}': '2025-03-01 - 2025-03-31', '{{BRAND NAME}}': \"Pilgrim's\"}\n",
      "Replacements: {'{{name}}': 'Albertsons', '{{impressions}}': '13,540,216', '{{clicks}}': '19,024', '{{spend}}': '$21,451', '{{sales}}': '$98,844', '{{units}}': '9,839', '{{ROAS}}': '$4.61', '{{CPC}}': '$1.13', '{{snapshot date}}': '2025-02-01 - 2025-02-28', '{{BRAND NAME}}': \"Pilgrim's\"}\n",
      "Replacements: {'{{name}}': 'Albertsons', '{{impressions}}': '6,128,568', '{{clicks}}': '11,510', '{{spend}}': '$13,182', '{{sales}}': '$104,748', '{{units}}': '8,471', '{{ROAS}}': '$7.95', '{{CPC}}': '$1.15', '{{snapshot date}}': '2025-03-01 - 2025-03-31', '{{BRAND NAME}}': \"Pilgrim's\", '{{impressions_lineitem_1}}': '6,128,568', '{{clicks_lineitem_1}}': '11,510', '{{spend_lineitem_1}}': '$13,182', '{{sales_lineitem_1}}': '$104,748', '{{units_lineitem_1}}': '8,471', '{{ROAS_lineitem_1}}': '$7.95', '{{CPC_lineitem_1}}': '$1.15', '{{name_lineitem_1}}': \"Pilgrim's_Pilgrims SPA 2024__June-December Just Bare_XQ73169400521685\", '{{impressions_lineitem_2}}': '12,802,133', '{{clicks_lineitem_2}}': '9,688', '{{spend_lineitem_2}}': '$10,312', '{{sales_lineitem_2}}': '$22,733', '{{units_lineitem_2}}': '4,155', '{{ROAS_lineitem_2}}': '$2.20', '{{CPC_lineitem_2}}': '$1.06', '{{name_lineitem_2}}': \"Pilgrim's_Pilgrims SPA 2024__June-December Pilgrims_XQ73169400521685\"}\n",
      "Presentation updated successfully.\n"
     ]
    }
   ],
   "source": [
    "!python3 main3.py"
   ]
  },
  {
   "cell_type": "code",
   "execution_count": 63,
   "id": "e44cfde1-5480-4402-afb6-615fcce18aaa",
   "metadata": {},
   "outputs": [
    {
     "name": "stdout",
     "output_type": "stream",
     "text": [
      "Replacements: {'{{name}}': 'Albertsons', '{{impressions}}': '18,930,701', '{{clicks}}': '21,198', '{{spend}}': '$23,494', '{{sales}}': '$127,482', '{{units}}': '12,626', '{{ROAS}}': '$5.43', '{{CPC}}': '$1.11', '{{snapshot date}}': '2025-03-01 - 2025-03-31', '{{BRAND NAME}}': \"Pilgrim's\"}\n",
      "Replacements: {'{{name}}': 'Albertsons', '{{impressions}}': '13,540,216', '{{clicks}}': '19,024', '{{spend}}': '$21,451', '{{sales}}': '$98,844', '{{units}}': '9,839', '{{ROAS}}': '$4.61', '{{CPC}}': '$1.13', '{{snapshot date}}': '2025-02-01 - 2025-02-28', '{{BRAND NAME}}': \"Pilgrim's\"}\n",
      "Replacements: {'{{name}}': 'Albertsons', '{{impressions}}': '6,128,568', '{{clicks}}': '11,510', '{{spend}}': '$13,182', '{{sales}}': '$104,748', '{{units}}': '8,471', '{{ROAS}}': '$7.95', '{{CPC}}': '$1.15', '{{snapshot date}}': '2025-03-01 - 2025-03-31', '{{BRAND NAME}}': \"Pilgrim's\", '{{impressions_lineitem_1}}': '6,128,568', '{{clicks_lineitem_1}}': '11,510', '{{spend_lineitem_1}}': '$13,182', '{{sales_lineitem_1}}': '$104,748', '{{units_lineitem_1}}': '8,471', '{{ROAS_lineitem_1}}': '$7.95', '{{CPC_lineitem_1}}': '$1.15', '{{name_lineitem_1}}': \"Pilgrim's_Pilgrims SPA 2024__June-December Just Bare_XQ73169400521685\", '{{impressions_lineitem_2}}': '12,802,133', '{{clicks_lineitem_2}}': '9,688', '{{spend_lineitem_2}}': '$10,312', '{{sales_lineitem_2}}': '$22,733', '{{units_lineitem_2}}': '4,155', '{{ROAS_lineitem_2}}': '$2.20', '{{CPC_lineitem_2}}': '$1.06', '{{name_lineitem_2}}': \"Pilgrim's_Pilgrims SPA 2024__June-December Pilgrims_XQ73169400521685\"}\n",
      "Replacements: {'{{name}}': 'Albertsons', '{{impressions}}': '18,930,701', '{{clicks}}': '21,198', '{{spend}}': '$23,494', '{{sales}}': '$127,482', '{{units}}': '12,626', '{{ROAS}}': '$5.43', '{{CPC}}': '$1.11', '{{snapshot date}}': '2025-03-01 - 2025-03-31', '{{BRAND NAME}}': \"Pilgrim's\"}\n",
      "Presentation updated successfully.\n"
     ]
    }
   ],
   "source": [
    "!python3 main3.py"
   ]
  },
  {
   "cell_type": "code",
   "execution_count": 64,
   "id": "77a84c9a-c56d-4d02-93c5-a2339953f10c",
   "metadata": {},
   "outputs": [
    {
     "name": "stdout",
     "output_type": "stream",
     "text": [
      "Replacements: {'{{name}}': 'Albertsons', '{{impressions}}': '18,930,701', '{{clicks}}': '21,198', '{{spend}}': '$23,494', '{{sales}}': '$127,482', '{{units}}': '12,626', '{{ROAS}}': '$5.43', '{{CPC}}': '$1.11', '{{snapshot date}}': '2025-03-01 - 2025-03-31', '{{BRAND NAME}}': \"Pilgrim's\"}\n",
      "Replacements: {'{{name}}': 'Albertsons', '{{impressions}}': '13,540,216', '{{clicks}}': '19,024', '{{spend}}': '$21,451', '{{sales}}': '$98,844', '{{units}}': '9,839', '{{ROAS}}': '$4.61', '{{CPC}}': '$1.13', '{{snapshot date}}': '2025-02-01 - 2025-02-28', '{{BRAND NAME}}': \"Pilgrim's\"}\n",
      "Replacements: {'{{name}}': 'Albertsons', '{{impressions}}': '6,128,568', '{{clicks}}': '11,510', '{{spend}}': '$13,182', '{{sales}}': '$104,748', '{{units}}': '8,471', '{{ROAS}}': '$7.95', '{{CPC}}': '$1.15', '{{snapshot date}}': '2025-03-01 - 2025-03-31', '{{BRAND NAME}}': \"Pilgrim's\", '{{impressions_lineitem_1}}': '6,128,568', '{{clicks_lineitem_1}}': '11,510', '{{spend_lineitem_1}}': '$13,182', '{{sales_lineitem_1}}': '$104,748', '{{units_lineitem_1}}': '8,471', '{{ROAS_lineitem_1}}': '$7.95', '{{CPC_lineitem_1}}': '$1.15', '{{name_lineitem_1}}': \"Pilgrim's_Pilgrims SPA 2024__June-December Just Bare_XQ73169400521685\", '{{impressions_lineitem_2}}': '12,802,133', '{{clicks_lineitem_2}}': '9,688', '{{spend_lineitem_2}}': '$10,312', '{{sales_lineitem_2}}': '$22,733', '{{units_lineitem_2}}': '4,155', '{{ROAS_lineitem_2}}': '$2.20', '{{CPC_lineitem_2}}': '$1.06', '{{name_lineitem_2}}': \"Pilgrim's_Pilgrims SPA 2024__June-December Pilgrims_XQ73169400521685\"}\n",
      "Replacements: {'{{name}}': 'Albertsons', '{{impressions}}': '18,930,701', '{{clicks}}': '21,198', '{{spend}}': '$23,494', '{{sales}}': '$127,482', '{{units}}': '12,626', '{{ROAS}}': '$5.43', '{{CPC}}': '$1.11', '{{snapshot date}}': '2025-03-01 - 2025-03-31', '{{BRAND NAME}}': \"Pilgrim's\"}\n",
      "Traceback (most recent call last):\n",
      "  File \u001b[35m\"/Library/Frameworks/Python.framework/Versions/3.13/lib/python3.13/site-packages/pptx/slide.py\"\u001b[0m, line \u001b[35m254\u001b[0m, in \u001b[35m__getitem__\u001b[0m\n",
      "    sldId = \u001b[31mself._sldIdLst.sldId_lst\u001b[0m\u001b[1;31m[idx]\u001b[0m\n",
      "            \u001b[31m~~~~~~~~~~~~~~~~~~~~~~~~\u001b[0m\u001b[1;31m^^^^^\u001b[0m\n",
      "\u001b[1;35mIndexError\u001b[0m: \u001b[35mlist index out of range\u001b[0m\n",
      "\n",
      "During handling of the above exception, another exception occurred:\n",
      "\n",
      "Traceback (most recent call last):\n",
      "  File \u001b[35m\"/Users/j.ensley/Documents/PPTMaker/main3.py\"\u001b[0m, line \u001b[35m167\u001b[0m, in \u001b[35m<module>\u001b[0m\n",
      "    \u001b[31mfill_slide\u001b[0m\u001b[1;31m(prs, 3, \"2025-03-01\", \"2025-03-31\", use_line_items=False, by_keyword=True)\u001b[0m\n",
      "    \u001b[31m~~~~~~~~~~\u001b[0m\u001b[1;31m^^^^^^^^^^^^^^^^^^^^^^^^^^^^^^^^^^^^^^^^^^^^^^^^^^^^^^^^^^^^^^^^^^^^^^^^^^^\u001b[0m\n",
      "  File \u001b[35m\"/Users/j.ensley/Documents/PPTMaker/main3.py\"\u001b[0m, line \u001b[35m148\u001b[0m, in \u001b[35mfill_slide\u001b[0m\n",
      "    slide = \u001b[31mprs.slides\u001b[0m\u001b[1;31m[slide_index]\u001b[0m\n",
      "            \u001b[31m~~~~~~~~~~\u001b[0m\u001b[1;31m^^^^^^^^^^^^^\u001b[0m\n",
      "  File \u001b[35m\"/Library/Frameworks/Python.framework/Versions/3.13/lib/python3.13/site-packages/pptx/slide.py\"\u001b[0m, line \u001b[35m256\u001b[0m, in \u001b[35m__getitem__\u001b[0m\n",
      "    raise IndexError(\"slide index out of range\")\n",
      "\u001b[1;35mIndexError\u001b[0m: \u001b[35mslide index out of range\u001b[0m\n"
     ]
    }
   ],
   "source": [
    "!python3 main3.py"
   ]
  },
  {
   "cell_type": "code",
   "execution_count": 65,
   "id": "df878c40-56f4-4e4c-8211-f5eaf694ec21",
   "metadata": {},
   "outputs": [
    {
     "name": "stdout",
     "output_type": "stream",
     "text": [
      "Replacements: {'{{name}}': 'Albertsons', '{{impressions}}': '18,930,701', '{{clicks}}': '21,198', '{{spend}}': '$23,494', '{{sales}}': '$127,482', '{{units}}': '12,626', '{{ROAS}}': '$5.43', '{{CPC}}': '$1.11', '{{snapshot date}}': '2025-03-01 - 2025-03-31', '{{BRAND NAME}}': \"Pilgrim's\"}\n",
      "Replacements: {'{{name}}': 'Albertsons', '{{impressions}}': '13,540,216', '{{clicks}}': '19,024', '{{spend}}': '$21,451', '{{sales}}': '$98,844', '{{units}}': '9,839', '{{ROAS}}': '$4.61', '{{CPC}}': '$1.13', '{{snapshot date}}': '2025-02-01 - 2025-02-28', '{{BRAND NAME}}': \"Pilgrim's\"}\n",
      "Replacements: {'{{name}}': 'Albertsons', '{{impressions}}': '6,128,568', '{{clicks}}': '11,510', '{{spend}}': '$13,182', '{{sales}}': '$104,748', '{{units}}': '8,471', '{{ROAS}}': '$7.95', '{{CPC}}': '$1.15', '{{snapshot date}}': '2025-03-01 - 2025-03-31', '{{BRAND NAME}}': \"Pilgrim's\", '{{impressions_lineitem_1}}': '6,128,568', '{{clicks_lineitem_1}}': '11,510', '{{spend_lineitem_1}}': '$13,182', '{{sales_lineitem_1}}': '$104,748', '{{units_lineitem_1}}': '8,471', '{{ROAS_lineitem_1}}': '$7.95', '{{CPC_lineitem_1}}': '$1.15', '{{name_lineitem_1}}': \"Pilgrim's_Pilgrims SPA 2024__June-December Just Bare_XQ73169400521685\", '{{impressions_lineitem_2}}': '12,802,133', '{{clicks_lineitem_2}}': '9,688', '{{spend_lineitem_2}}': '$10,312', '{{sales_lineitem_2}}': '$22,733', '{{units_lineitem_2}}': '4,155', '{{ROAS_lineitem_2}}': '$2.20', '{{CPC_lineitem_2}}': '$1.06', '{{name_lineitem_2}}': \"Pilgrim's_Pilgrims SPA 2024__June-December Pilgrims_XQ73169400521685\"}\n",
      "Replacements: {'{{name}}': 'Albertsons', '{{impressions}}': '18,930,701', '{{clicks}}': '21,198', '{{spend}}': '$23,494', '{{sales}}': '$127,482', '{{units}}': '12,626', '{{ROAS}}': '$5.43', '{{CPC}}': '$1.11', '{{snapshot date}}': '2025-03-01 - 2025-03-31', '{{BRAND NAME}}': \"Pilgrim's\"}\n",
      "Presentation updated successfully.\n"
     ]
    }
   ],
   "source": [
    "!python3 main3.py"
   ]
  },
  {
   "cell_type": "code",
   "execution_count": 67,
   "id": "b783c8ca-043a-4a76-997e-86512c18e25e",
   "metadata": {},
   "outputs": [
    {
     "name": "stdout",
     "output_type": "stream",
     "text": [
      "^C\n",
      "Traceback (most recent call last):\n",
      "  File \u001b[35m\"/Users/j.ensley/Documents/PPTMaker/main3.py\"\u001b[0m, line \u001b[35m160\u001b[0m, in \u001b[35m<module>\u001b[0m\n",
      "    \u001b[31mfill_slide\u001b[0m\u001b[1;31m(prs, 0, \"2025-03-01\", \"2025-03-31\", use_line_items=False, by_keyword=False)\u001b[0m\n",
      "    \u001b[31m~~~~~~~~~~\u001b[0m\u001b[1;31m^^^^^^^^^^^^^^^^^^^^^^^^^^^^^^^^^^^^^^^^^^^^^^^^^^^^^^^^^^^^^^^^^^^^^^^^^^^^\u001b[0m\n",
      "  File \u001b[35m\"/Users/j.ensley/Documents/PPTMaker/main3.py\"\u001b[0m, line \u001b[35m115\u001b[0m, in \u001b[35mfill_slide\u001b[0m\n",
      "    data = get_data(start_date, end_date, line_item_filter, by_keyword)\n",
      "  File \u001b[35m\"/Users/j.ensley/Documents/PPTMaker/main3.py\"\u001b[0m, line \u001b[35m85\u001b[0m, in \u001b[35mget_data\u001b[0m\n",
      "    response = requests.post(url, headers=headers, json=payload)\n",
      "  File \u001b[35m\"/Library/Frameworks/Python.framework/Versions/3.13/lib/python3.13/site-packages/requests/api.py\"\u001b[0m, line \u001b[35m115\u001b[0m, in \u001b[35mpost\u001b[0m\n",
      "    return request(\"post\", url, data=data, json=json, **kwargs)\n",
      "  File \u001b[35m\"/Library/Frameworks/Python.framework/Versions/3.13/lib/python3.13/site-packages/requests/api.py\"\u001b[0m, line \u001b[35m59\u001b[0m, in \u001b[35mrequest\u001b[0m\n",
      "    return \u001b[31msession.request\u001b[0m\u001b[1;31m(method=method, url=url, **kwargs)\u001b[0m\n",
      "           \u001b[31m~~~~~~~~~~~~~~~\u001b[0m\u001b[1;31m^^^^^^^^^^^^^^^^^^^^^^^^^^^^^^^^^^\u001b[0m\n",
      "  File \u001b[35m\"/Library/Frameworks/Python.framework/Versions/3.13/lib/python3.13/site-packages/requests/sessions.py\"\u001b[0m, line \u001b[35m589\u001b[0m, in \u001b[35mrequest\u001b[0m\n",
      "    resp = self.send(prep, **send_kwargs)\n",
      "  File \u001b[35m\"/Library/Frameworks/Python.framework/Versions/3.13/lib/python3.13/site-packages/requests/sessions.py\"\u001b[0m, line \u001b[35m703\u001b[0m, in \u001b[35msend\u001b[0m\n",
      "    r = adapter.send(request, **kwargs)\n",
      "  File \u001b[35m\"/Library/Frameworks/Python.framework/Versions/3.13/lib/python3.13/site-packages/requests/adapters.py\"\u001b[0m, line \u001b[35m667\u001b[0m, in \u001b[35msend\u001b[0m\n",
      "    resp = conn.urlopen(\n",
      "        method=request.method,\n",
      "    ...<9 lines>...\n",
      "        chunked=chunked,\n",
      "    )\n",
      "  File \u001b[35m\"/Library/Frameworks/Python.framework/Versions/3.13/lib/python3.13/site-packages/urllib3/connectionpool.py\"\u001b[0m, line \u001b[35m787\u001b[0m, in \u001b[35murlopen\u001b[0m\n",
      "    response = self._make_request(\n",
      "        conn,\n",
      "    ...<10 lines>...\n",
      "        **response_kw,\n",
      "    )\n",
      "  File \u001b[35m\"/Library/Frameworks/Python.framework/Versions/3.13/lib/python3.13/site-packages/urllib3/connectionpool.py\"\u001b[0m, line \u001b[35m534\u001b[0m, in \u001b[35m_make_request\u001b[0m\n",
      "    response = conn.getresponse()\n",
      "  File \u001b[35m\"/Library/Frameworks/Python.framework/Versions/3.13/lib/python3.13/site-packages/urllib3/connection.py\"\u001b[0m, line \u001b[35m516\u001b[0m, in \u001b[35mgetresponse\u001b[0m\n",
      "    httplib_response = super().getresponse()\n",
      "  File \u001b[35m\"/Library/Frameworks/Python.framework/Versions/3.13/lib/python3.13/http/client.py\"\u001b[0m, line \u001b[35m1430\u001b[0m, in \u001b[35mgetresponse\u001b[0m\n",
      "    \u001b[31mresponse.begin\u001b[0m\u001b[1;31m()\u001b[0m\n",
      "    \u001b[31m~~~~~~~~~~~~~~\u001b[0m\u001b[1;31m^^\u001b[0m\n",
      "  File \u001b[35m\"/Library/Frameworks/Python.framework/Versions/3.13/lib/python3.13/http/client.py\"\u001b[0m, line \u001b[35m331\u001b[0m, in \u001b[35mbegin\u001b[0m\n",
      "    version, status, reason = \u001b[31mself._read_status\u001b[0m\u001b[1;31m()\u001b[0m\n",
      "                              \u001b[31m~~~~~~~~~~~~~~~~~\u001b[0m\u001b[1;31m^^\u001b[0m\n",
      "  File \u001b[35m\"/Library/Frameworks/Python.framework/Versions/3.13/lib/python3.13/http/client.py\"\u001b[0m, line \u001b[35m292\u001b[0m, in \u001b[35m_read_status\u001b[0m\n",
      "    line = str(\u001b[31mself.fp.readline\u001b[0m\u001b[1;31m(_MAXLINE + 1)\u001b[0m, \"iso-8859-1\")\n",
      "               \u001b[31m~~~~~~~~~~~~~~~~\u001b[0m\u001b[1;31m^^^^^^^^^^^^^^\u001b[0m\n",
      "  File \u001b[35m\"/Library/Frameworks/Python.framework/Versions/3.13/lib/python3.13/socket.py\"\u001b[0m, line \u001b[35m719\u001b[0m, in \u001b[35mreadinto\u001b[0m\n",
      "    return \u001b[31mself._sock.recv_into\u001b[0m\u001b[1;31m(b)\u001b[0m\n",
      "           \u001b[31m~~~~~~~~~~~~~~~~~~~~\u001b[0m\u001b[1;31m^^^\u001b[0m\n",
      "  File \u001b[35m\"/Library/Frameworks/Python.framework/Versions/3.13/lib/python3.13/ssl.py\"\u001b[0m, line \u001b[35m1304\u001b[0m, in \u001b[35mrecv_into\u001b[0m\n",
      "    return \u001b[31mself.read\u001b[0m\u001b[1;31m(nbytes, buffer)\u001b[0m\n",
      "           \u001b[31m~~~~~~~~~\u001b[0m\u001b[1;31m^^^^^^^^^^^^^^^^\u001b[0m\n",
      "  File \u001b[35m\"/Library/Frameworks/Python.framework/Versions/3.13/lib/python3.13/ssl.py\"\u001b[0m, line \u001b[35m1138\u001b[0m, in \u001b[35mread\u001b[0m\n",
      "    return \u001b[31mself._sslobj.read\u001b[0m\u001b[1;31m(len, buffer)\u001b[0m\n",
      "           \u001b[31m~~~~~~~~~~~~~~~~~\u001b[0m\u001b[1;31m^^^^^^^^^^^^^\u001b[0m\n",
      "\u001b[1;35mKeyboardInterrupt\u001b[0m\n"
     ]
    }
   ],
   "source": [
    "!python3 main3.py"
   ]
  },
  {
   "cell_type": "code",
   "execution_count": 68,
   "id": "27e1f233-5a15-4bc5-8684-a1061bb22148",
   "metadata": {},
   "outputs": [
    {
     "name": "stdout",
     "output_type": "stream",
     "text": [
      "Replacements: {'{{name}}': 'Albertsons', '{{impressions}}': '18,930,701', '{{clicks}}': '21,198', '{{spend}}': '$23,494', '{{sales}}': '$127,482', '{{units}}': '12,626', '{{ROAS}}': '$5.43', '{{CPC}}': '$1.11', '{{snapshot date}}': '2025-03-01 - 2025-03-31', '{{BRAND NAME}}': \"Pilgrim's\"}\n",
      "Replacements: {'{{name}}': 'Albertsons', '{{impressions}}': '13,540,216', '{{clicks}}': '19,024', '{{spend}}': '$21,451', '{{sales}}': '$98,844', '{{units}}': '9,839', '{{ROAS}}': '$4.61', '{{CPC}}': '$1.13', '{{snapshot date}}': '2025-02-01 - 2025-02-28', '{{BRAND NAME}}': \"Pilgrim's\"}\n",
      "Replacements: {'{{name}}': 'Albertsons', '{{impressions}}': '6,128,568', '{{clicks}}': '11,510', '{{spend}}': '$13,182', '{{sales}}': '$104,748', '{{units}}': '8,471', '{{ROAS}}': '$7.95', '{{CPC}}': '$1.15', '{{snapshot date}}': '2025-03-01 - 2025-03-31', '{{BRAND NAME}}': \"Pilgrim's\", '{{impressions_lineitem_1}}': '6,128,568', '{{clicks_lineitem_1}}': '11,510', '{{spend_lineitem_1}}': '$13,182', '{{sales_lineitem_1}}': '$104,748', '{{units_lineitem_1}}': '8,471', '{{ROAS_lineitem_1}}': '$7.95', '{{CPC_lineitem_1}}': '$1.15', '{{name_lineitem_1}}': \"Pilgrim's_Pilgrims SPA 2024__June-December Just Bare_XQ73169400521685\", '{{impressions_lineitem_2}}': '12,802,133', '{{clicks_lineitem_2}}': '9,688', '{{spend_lineitem_2}}': '$10,312', '{{sales_lineitem_2}}': '$22,733', '{{units_lineitem_2}}': '4,155', '{{ROAS_lineitem_2}}': '$2.20', '{{CPC_lineitem_2}}': '$1.06', '{{name_lineitem_2}}': \"Pilgrim's_Pilgrims SPA 2024__June-December Pilgrims_XQ73169400521685\"}\n",
      "Replacements: {'{{name}}': 'Albertsons', '{{impressions}}': '672,281', '{{clicks}}': '3,923', '{{spend}}': '$4,274', '{{sales}}': '$16,573', '{{units}}': '1,562', '{{ROAS}}': '$3.88', '{{CPC}}': '$1.09', '{{snapshot date}}': '2025-03-01 - 2025-03-31', '{{BRAND NAME}}': \"Pilgrim's\"}\n",
      "Presentation updated successfully.\n"
     ]
    }
   ],
   "source": [
    "!python3 main3.py"
   ]
  },
  {
   "cell_type": "code",
   "execution_count": 69,
   "id": "82978a12-f998-4912-83dc-c36bafbedbc0",
   "metadata": {},
   "outputs": [
    {
     "name": "stdout",
     "output_type": "stream",
     "text": [
      "Traceback (most recent call last):\n",
      "  File \u001b[35m\"/Users/j.ensley/Documents/PPTMaker/main3.py\"\u001b[0m, line \u001b[35m161\u001b[0m, in \u001b[35m<module>\u001b[0m\n",
      "    \u001b[31mfill_slide\u001b[0m\u001b[1;31m(prs, 0, \"2025-03-01\", \"2025-03-31\", use_line_items=False, by_keyword=False)\u001b[0m\n",
      "    \u001b[31m~~~~~~~~~~\u001b[0m\u001b[1;31m^^^^^^^^^^^^^^^^^^^^^^^^^^^^^^^^^^^^^^^^^^^^^^^^^^^^^^^^^^^^^^^^^^^^^^^^^^^^\u001b[0m\n",
      "\u001b[1;35mTypeError\u001b[0m: \u001b[35mfill_slide() got an unexpected keyword argument 'by_keyword'. Did you mean 'use_keywords'?\u001b[0m\n"
     ]
    }
   ],
   "source": [
    "!python3 main3.py"
   ]
  },
  {
   "cell_type": "code",
   "execution_count": 70,
   "id": "0b7e1c64-73c3-4043-8f8a-1df0ac944877",
   "metadata": {},
   "outputs": [
    {
     "name": "stdout",
     "output_type": "stream",
     "text": [
      "Traceback (most recent call last):\n",
      "  File \u001b[35m\"/Users/j.ensley/Documents/PPTMaker/main3.py\"\u001b[0m, line \u001b[35m161\u001b[0m, in \u001b[35m<module>\u001b[0m\n",
      "    \u001b[31mfill_slide\u001b[0m\u001b[1;31m(prs, 0, \"2025-03-01\", \"2025-03-31\", use_line_items=False, use_keyword=False)\u001b[0m\n",
      "    \u001b[31m~~~~~~~~~~\u001b[0m\u001b[1;31m^^^^^^^^^^^^^^^^^^^^^^^^^^^^^^^^^^^^^^^^^^^^^^^^^^^^^^^^^^^^^^^^^^^^^^^^^^^^^\u001b[0m\n",
      "\u001b[1;35mTypeError\u001b[0m: \u001b[35mfill_slide() got an unexpected keyword argument 'use_keyword'. Did you mean 'use_keywords'?\u001b[0m\n"
     ]
    }
   ],
   "source": [
    "!python3 main3.py"
   ]
  },
  {
   "cell_type": "code",
   "execution_count": 71,
   "id": "76d35a70-455a-43dd-bac9-e681ed9e493c",
   "metadata": {},
   "outputs": [
    {
     "name": "stdout",
     "output_type": "stream",
     "text": [
      "Traceback (most recent call last):\n",
      "  File \u001b[35m\"/Users/j.ensley/Documents/PPTMaker/main3.py\"\u001b[0m, line \u001b[35m161\u001b[0m, in \u001b[35m<module>\u001b[0m\n",
      "    \u001b[31mfill_slide\u001b[0m\u001b[1;31m(prs, 0, \"2025-03-01\", \"2025-03-31\", use_line_items=False, use_keywords=False)\u001b[0m\n",
      "    \u001b[31m~~~~~~~~~~\u001b[0m\u001b[1;31m^^^^^^^^^^^^^^^^^^^^^^^^^^^^^^^^^^^^^^^^^^^^^^^^^^^^^^^^^^^^^^^^^^^^^^^^^^^^^^\u001b[0m\n",
      "  File \u001b[35m\"/Users/j.ensley/Documents/PPTMaker/main3.py\"\u001b[0m, line \u001b[35m115\u001b[0m, in \u001b[35mfill_slide\u001b[0m\n",
      "    data = get_data(start_date, end_date, line_item_filter, \u001b[1;31mby_keyword\u001b[0m)\n",
      "                                                            \u001b[1;31m^^^^^^^^^^\u001b[0m\n",
      "\u001b[1;35mNameError\u001b[0m: \u001b[35mname 'by_keyword' is not defined. Did you mean: 'use_keywords'?\u001b[0m\n"
     ]
    }
   ],
   "source": [
    "!python3 main3.py"
   ]
  },
  {
   "cell_type": "code",
   "execution_count": 72,
   "id": "7f5a2a96-596c-4a0d-8518-5da03205d747",
   "metadata": {},
   "outputs": [
    {
     "name": "stdout",
     "output_type": "stream",
     "text": [
      "Traceback (most recent call last):\n",
      "  File \u001b[35m\"/Users/j.ensley/Documents/PPTMaker/main3.py\"\u001b[0m, line \u001b[35m161\u001b[0m, in \u001b[35m<module>\u001b[0m\n",
      "    \u001b[31mfill_slide\u001b[0m\u001b[1;31m(prs, 0, \"2025-03-01\", \"2025-03-31\", use_line_items=False, by_keyword=False)\u001b[0m\n",
      "    \u001b[31m~~~~~~~~~~\u001b[0m\u001b[1;31m^^^^^^^^^^^^^^^^^^^^^^^^^^^^^^^^^^^^^^^^^^^^^^^^^^^^^^^^^^^^^^^^^^^^^^^^^^^^\u001b[0m\n",
      "\u001b[1;35mTypeError\u001b[0m: \u001b[35mfill_slide() got an unexpected keyword argument 'by_keyword'. Did you mean 'use_keywords'?\u001b[0m\n"
     ]
    }
   ],
   "source": [
    "!python3 main3.py"
   ]
  },
  {
   "cell_type": "code",
   "execution_count": 73,
   "id": "4d337340-1f5c-449a-9903-cbb87b10119e",
   "metadata": {},
   "outputs": [
    {
     "name": "stdout",
     "output_type": "stream",
     "text": [
      "Replacements: {'{{name}}': 'Albertsons', '{{impressions}}': '18,930,701', '{{clicks}}': '21,198', '{{spend}}': '$23,494', '{{sales}}': '$127,482', '{{units}}': '12,626', '{{ROAS}}': '$5.43', '{{CPC}}': '$1.11', '{{snapshot date}}': '2025-03-01 - 2025-03-31', '{{keyword}}': None, '{{BRAND NAME}}': \"Pilgrim's\"}\n",
      "Replacements: {'{{name}}': 'Albertsons', '{{impressions}}': '13,540,216', '{{clicks}}': '19,024', '{{spend}}': '$21,451', '{{sales}}': '$98,844', '{{units}}': '9,839', '{{ROAS}}': '$4.61', '{{CPC}}': '$1.13', '{{snapshot date}}': '2025-02-01 - 2025-02-28', '{{keyword}}': None, '{{BRAND NAME}}': \"Pilgrim's\"}\n",
      "Replacements: {'{{name}}': 'Albertsons', '{{impressions}}': '6,128,568', '{{clicks}}': '11,510', '{{spend}}': '$13,182', '{{sales}}': '$104,748', '{{units}}': '8,471', '{{ROAS}}': '$7.95', '{{CPC}}': '$1.15', '{{snapshot date}}': '2025-03-01 - 2025-03-31', '{{keyword}}': None, '{{BRAND NAME}}': \"Pilgrim's\", '{{impressions_lineitem_1}}': '6,128,568', '{{clicks_lineitem_1}}': '11,510', '{{spend_lineitem_1}}': '$13,182', '{{sales_lineitem_1}}': '$104,748', '{{units_lineitem_1}}': '8,471', '{{ROAS_lineitem_1}}': '$7.95', '{{CPC_lineitem_1}}': '$1.15', '{{name_lineitem_1}}': \"Pilgrim's_Pilgrims SPA 2024__June-December Just Bare_XQ73169400521685\", '{{impressions_lineitem_2}}': '12,802,133', '{{clicks_lineitem_2}}': '9,688', '{{spend_lineitem_2}}': '$10,312', '{{sales_lineitem_2}}': '$22,733', '{{units_lineitem_2}}': '4,155', '{{ROAS_lineitem_2}}': '$2.20', '{{CPC_lineitem_2}}': '$1.06', '{{name_lineitem_2}}': \"Pilgrim's_Pilgrims SPA 2024__June-December Pilgrims_XQ73169400521685\"}\n",
      "Replacements: {'{{name}}': 'Albertsons', '{{impressions}}': '672,281', '{{clicks}}': '3,923', '{{spend}}': '$4,274', '{{sales}}': '$16,573', '{{units}}': '1,562', '{{ROAS}}': '$3.88', '{{CPC}}': '$1.09', '{{snapshot date}}': '2025-03-01 - 2025-03-31', '{{keyword}}': 'chicken', '{{BRAND NAME}}': \"Pilgrim's\"}\n",
      "Presentation updated successfully.\n"
     ]
    }
   ],
   "source": [
    "!python3 main3.py"
   ]
  },
  {
   "cell_type": "code",
   "execution_count": 74,
   "id": "7d914d7f-a24c-4a2b-a24e-bd1a0e58d1bf",
   "metadata": {},
   "outputs": [
    {
     "name": "stdout",
     "output_type": "stream",
     "text": [
      "Replacements: {'{{name}}': 'Albertsons', '{{impressions}}': '18,930,701', '{{clicks}}': '21,198', '{{spend}}': '$23,494', '{{sales}}': '$127,482', '{{units}}': '12,626', '{{ROAS}}': '$5.43', '{{CPC}}': '$1.11', '{{snapshot date}}': '2025-03-01 - 2025-03-31', '{{keyword}}': None, '{{BRAND NAME}}': \"Pilgrim's\"}\n",
      "Replacements: {'{{name}}': 'Albertsons', '{{impressions}}': '13,540,216', '{{clicks}}': '19,024', '{{spend}}': '$21,451', '{{sales}}': '$98,844', '{{units}}': '9,839', '{{ROAS}}': '$4.61', '{{CPC}}': '$1.13', '{{snapshot date}}': '2025-02-01 - 2025-02-28', '{{keyword}}': None, '{{BRAND NAME}}': \"Pilgrim's\"}\n",
      "Replacements: {'{{name}}': 'Albertsons', '{{impressions}}': '6,128,568', '{{clicks}}': '11,510', '{{spend}}': '$13,182', '{{sales}}': '$104,748', '{{units}}': '8,471', '{{ROAS}}': '$7.95', '{{CPC}}': '$1.15', '{{snapshot date}}': '2025-03-01 - 2025-03-31', '{{keyword}}': None, '{{BRAND NAME}}': \"Pilgrim's\", '{{impressions_lineitem_1}}': '6,128,568', '{{clicks_lineitem_1}}': '11,510', '{{spend_lineitem_1}}': '$13,182', '{{sales_lineitem_1}}': '$104,748', '{{units_lineitem_1}}': '8,471', '{{ROAS_lineitem_1}}': '$7.95', '{{CPC_lineitem_1}}': '$1.15', '{{name_lineitem_1}}': \"Pilgrim's_Pilgrims SPA 2024__June-December Just Bare_XQ73169400521685\", '{{impressions_lineitem_2}}': '12,802,133', '{{clicks_lineitem_2}}': '9,688', '{{spend_lineitem_2}}': '$10,312', '{{sales_lineitem_2}}': '$22,733', '{{units_lineitem_2}}': '4,155', '{{ROAS_lineitem_2}}': '$2.20', '{{CPC_lineitem_2}}': '$1.06', '{{name_lineitem_2}}': \"Pilgrim's_Pilgrims SPA 2024__June-December Pilgrims_XQ73169400521685\"}\n",
      "Traceback (most recent call last):\n",
      "  File \u001b[35m\"/Users/j.ensley/Documents/PPTMaker/main3.py\"\u001b[0m, line \u001b[35m180\u001b[0m, in \u001b[35m<module>\u001b[0m\n",
      "    \u001b[31mfill_slide\u001b[0m\u001b[1;31m(prs, 3, \"2025-03-01\", \"2025-03-31\", use_line_items=False, by_keyword=True)\u001b[0m\n",
      "    \u001b[31m~~~~~~~~~~\u001b[0m\u001b[1;31m^^^^^^^^^^^^^^^^^^^^^^^^^^^^^^^^^^^^^^^^^^^^^^^^^^^^^^^^^^^^^^^^^^^^^^^^^^^\u001b[0m\n",
      "  File \u001b[35m\"/Users/j.ensley/Documents/PPTMaker/main3.py\"\u001b[0m, line \u001b[35m149\u001b[0m, in \u001b[35mfill_slide\u001b[0m\n",
      "    replacements[f\"{{{{keyword{idx}}}}}\"] = f\"\u001b[1;31m{keywordRow.get('keyword', 0):,}\u001b[0m\"\n",
      "                                              \u001b[1;31m^^^^^^^^^^^^^^^^^^^^^^^^^^^^^^^^\u001b[0m\n",
      "\u001b[1;35mValueError\u001b[0m: \u001b[35mCannot specify ',' with 's'.\u001b[0m\n"
     ]
    }
   ],
   "source": [
    "!python3 main3.py"
   ]
  },
  {
   "cell_type": "code",
   "execution_count": 75,
   "id": "fa36b940-c2c9-49b8-8021-51608453b131",
   "metadata": {},
   "outputs": [
    {
     "name": "stdout",
     "output_type": "stream",
     "text": [
      "Replacements: {'{{name}}': 'Albertsons', '{{impressions}}': '18,930,701', '{{clicks}}': '21,198', '{{spend}}': '$23,494', '{{sales}}': '$127,482', '{{units}}': '12,626', '{{ROAS}}': '$5.43', '{{CPC}}': '$1.11', '{{snapshot date}}': '2025-03-01 - 2025-03-31', '{{keyword}}': None, '{{BRAND NAME}}': \"Pilgrim's\"}\n",
      "Replacements: {'{{name}}': 'Albertsons', '{{impressions}}': '13,540,216', '{{clicks}}': '19,024', '{{spend}}': '$21,451', '{{sales}}': '$98,844', '{{units}}': '9,839', '{{ROAS}}': '$4.61', '{{CPC}}': '$1.13', '{{snapshot date}}': '2025-02-01 - 2025-02-28', '{{keyword}}': None, '{{BRAND NAME}}': \"Pilgrim's\"}\n",
      "Replacements: {'{{name}}': 'Albertsons', '{{impressions}}': '6,128,568', '{{clicks}}': '11,510', '{{spend}}': '$13,182', '{{sales}}': '$104,748', '{{units}}': '8,471', '{{ROAS}}': '$7.95', '{{CPC}}': '$1.15', '{{snapshot date}}': '2025-03-01 - 2025-03-31', '{{keyword}}': None, '{{BRAND NAME}}': \"Pilgrim's\", '{{impressions_lineitem_1}}': '6,128,568', '{{clicks_lineitem_1}}': '11,510', '{{spend_lineitem_1}}': '$13,182', '{{sales_lineitem_1}}': '$104,748', '{{units_lineitem_1}}': '8,471', '{{ROAS_lineitem_1}}': '$7.95', '{{CPC_lineitem_1}}': '$1.15', '{{name_lineitem_1}}': \"Pilgrim's_Pilgrims SPA 2024__June-December Just Bare_XQ73169400521685\", '{{impressions_lineitem_2}}': '12,802,133', '{{clicks_lineitem_2}}': '9,688', '{{spend_lineitem_2}}': '$10,312', '{{sales_lineitem_2}}': '$22,733', '{{units_lineitem_2}}': '4,155', '{{ROAS_lineitem_2}}': '$2.20', '{{CPC_lineitem_2}}': '$1.06', '{{name_lineitem_2}}': \"Pilgrim's_Pilgrims SPA 2024__June-December Pilgrims_XQ73169400521685\"}\n",
      "Traceback (most recent call last):\n",
      "  File \u001b[35m\"/Users/j.ensley/Documents/PPTMaker/main3.py\"\u001b[0m, line \u001b[35m180\u001b[0m, in \u001b[35m<module>\u001b[0m\n",
      "    \u001b[31mfill_slide\u001b[0m\u001b[1;31m(prs, 3, \"2025-03-01\", \"2025-03-31\", use_line_items=False, by_keyword=True)\u001b[0m\n",
      "    \u001b[31m~~~~~~~~~~\u001b[0m\u001b[1;31m^^^^^^^^^^^^^^^^^^^^^^^^^^^^^^^^^^^^^^^^^^^^^^^^^^^^^^^^^^^^^^^^^^^^^^^^^^^\u001b[0m\n",
      "  File \u001b[35m\"/Users/j.ensley/Documents/PPTMaker/main3.py\"\u001b[0m, line \u001b[35m149\u001b[0m, in \u001b[35mfill_slide\u001b[0m\n",
      "    replacements[f\"{{{{keyword{idx}}}}}\"] = f\"\u001b[1;31m{keywordRow.get('keyword'):,}\u001b[0m\"\n",
      "                                              \u001b[1;31m^^^^^^^^^^^^^^^^^^^^^^^^^^^^^\u001b[0m\n",
      "\u001b[1;35mValueError\u001b[0m: \u001b[35mCannot specify ',' with 's'.\u001b[0m\n"
     ]
    }
   ],
   "source": [
    "!python3 main3.py"
   ]
  },
  {
   "cell_type": "code",
   "execution_count": 76,
   "id": "cb67814d-dbd0-41d7-8aca-ecf757e0ffa0",
   "metadata": {},
   "outputs": [
    {
     "name": "stdout",
     "output_type": "stream",
     "text": [
      "Replacements: {'{{name}}': 'Albertsons', '{{impressions}}': '18,930,701', '{{clicks}}': '21,198', '{{spend}}': '$23,494', '{{sales}}': '$127,482', '{{units}}': '12,626', '{{ROAS}}': '$5.43', '{{CPC}}': '$1.11', '{{snapshot date}}': '2025-03-01 - 2025-03-31', '{{keyword}}': None, '{{BRAND NAME}}': \"Pilgrim's\"}\n",
      "Replacements: {'{{name}}': 'Albertsons', '{{impressions}}': '13,540,216', '{{clicks}}': '19,024', '{{spend}}': '$21,451', '{{sales}}': '$98,844', '{{units}}': '9,839', '{{ROAS}}': '$4.61', '{{CPC}}': '$1.13', '{{snapshot date}}': '2025-02-01 - 2025-02-28', '{{keyword}}': None, '{{BRAND NAME}}': \"Pilgrim's\"}\n",
      "Replacements: {'{{name}}': 'Albertsons', '{{impressions}}': '6,128,568', '{{clicks}}': '11,510', '{{spend}}': '$13,182', '{{sales}}': '$104,748', '{{units}}': '8,471', '{{ROAS}}': '$7.95', '{{CPC}}': '$1.15', '{{snapshot date}}': '2025-03-01 - 2025-03-31', '{{keyword}}': None, '{{BRAND NAME}}': \"Pilgrim's\", '{{impressions_lineitem_1}}': '6,128,568', '{{clicks_lineitem_1}}': '11,510', '{{spend_lineitem_1}}': '$13,182', '{{sales_lineitem_1}}': '$104,748', '{{units_lineitem_1}}': '8,471', '{{ROAS_lineitem_1}}': '$7.95', '{{CPC_lineitem_1}}': '$1.15', '{{name_lineitem_1}}': \"Pilgrim's_Pilgrims SPA 2024__June-December Just Bare_XQ73169400521685\", '{{impressions_lineitem_2}}': '12,802,133', '{{clicks_lineitem_2}}': '9,688', '{{spend_lineitem_2}}': '$10,312', '{{sales_lineitem_2}}': '$22,733', '{{units_lineitem_2}}': '4,155', '{{ROAS_lineitem_2}}': '$2.20', '{{CPC_lineitem_2}}': '$1.06', '{{name_lineitem_2}}': \"Pilgrim's_Pilgrims SPA 2024__June-December Pilgrims_XQ73169400521685\"}\n",
      "Replacements: {'{{name}}': 'Albertsons', '{{impressions}}': '672,281', '{{clicks}}': '3,923', '{{spend}}': '$4,274', '{{sales}}': '$16,573', '{{units}}': '1,562', '{{ROAS}}': '$3.88', '{{CPC}}': '$1.09', '{{snapshot date}}': '2025-03-01 - 2025-03-31', '{{keyword}}': 'chicken', '{{BRAND NAME}}': \"Pilgrim's\", '{{keyword1}}': 'chicken', '{{impressions_lineitem_1}}': '672,281', '{{clicks_lineitem_1}}': '3,923', '{{spend_lineitem_1}}': '$4,274', '{{sales_lineitem_1}}': '$16,573', '{{units_lineitem_1}}': '1,562', '{{ROAS_lineitem_1}}': '$3.88', '{{CPC_lineitem_1}}': '$1.09', '{{name_lineitem_1}}': 'LineItem 1', '{{keyword2}}': 'breast chicken', '{{impressions_lineitem_2}}': '400,880', '{{clicks_lineitem_2}}': '2,702', '{{spend_lineitem_2}}': '$2,865', '{{sales_lineitem_2}}': '$6,471', '{{units_lineitem_2}}': '579', '{{ROAS_lineitem_2}}': '$2.26', '{{CPC_lineitem_2}}': '$1.06', '{{name_lineitem_2}}': 'LineItem 2'}\n",
      "Presentation updated successfully.\n"
     ]
    }
   ],
   "source": [
    "!python3 main3.py"
   ]
  },
  {
   "cell_type": "code",
   "execution_count": 77,
   "id": "2bb21cbb-cefc-43ef-b575-c13a35394475",
   "metadata": {},
   "outputs": [
    {
     "name": "stdout",
     "output_type": "stream",
     "text": [
      "Replacements: {'{{name}}': 'Albertsons', '{{impressions}}': '18,930,701', '{{clicks}}': '21,198', '{{spend}}': '$23,494', '{{sales}}': '$127,482', '{{units}}': '12,626', '{{ROAS}}': '$5.43', '{{CPC}}': '$1.11', '{{snapshot date}}': '2025-03-01 - 2025-03-31', '{{keyword}}': None, '{{BRAND NAME}}': \"Pilgrim's\"}\n",
      "Replacements: {'{{name}}': 'Albertsons', '{{impressions}}': '13,540,216', '{{clicks}}': '19,024', '{{spend}}': '$21,451', '{{sales}}': '$98,844', '{{units}}': '9,839', '{{ROAS}}': '$4.61', '{{CPC}}': '$1.13', '{{snapshot date}}': '2025-02-01 - 2025-02-28', '{{keyword}}': None, '{{BRAND NAME}}': \"Pilgrim's\"}\n",
      "Replacements: {'{{name}}': 'Albertsons', '{{impressions}}': '6,128,568', '{{clicks}}': '11,510', '{{spend}}': '$13,182', '{{sales}}': '$104,748', '{{units}}': '8,471', '{{ROAS}}': '$7.95', '{{CPC}}': '$1.15', '{{snapshot date}}': '2025-03-01 - 2025-03-31', '{{keyword}}': None, '{{BRAND NAME}}': \"Pilgrim's\", '{{impressions_lineitem_1}}': '6,128,568', '{{clicks_lineitem_1}}': '11,510', '{{spend_lineitem_1}}': '$13,182', '{{sales_lineitem_1}}': '$104,748', '{{units_lineitem_1}}': '8,471', '{{ROAS_lineitem_1}}': '$7.95', '{{CPC_lineitem_1}}': '$1.15', '{{name_lineitem_1}}': \"Pilgrim's_Pilgrims SPA 2024__June-December Just Bare_XQ73169400521685\", '{{impressions_lineitem_2}}': '12,802,133', '{{clicks_lineitem_2}}': '9,688', '{{spend_lineitem_2}}': '$10,312', '{{sales_lineitem_2}}': '$22,733', '{{units_lineitem_2}}': '4,155', '{{ROAS_lineitem_2}}': '$2.20', '{{CPC_lineitem_2}}': '$1.06', '{{name_lineitem_2}}': \"Pilgrim's_Pilgrims SPA 2024__June-December Pilgrims_XQ73169400521685\"}\n",
      "Replacements: {'{{name}}': 'Albertsons', '{{impressions}}': '672,281', '{{clicks}}': '3,923', '{{spend}}': '$4,274', '{{sales}}': '$16,573', '{{units}}': '1,562', '{{ROAS}}': '$3.88', '{{CPC}}': '$1.09', '{{snapshot date}}': '2025-03-01 - 2025-03-31', '{{keyword}}': 'chicken', '{{BRAND NAME}}': \"Pilgrim's\", '{{keyword1}}': 'chicken', '{{impressions_lineitem_1}}': '672,281', '{{clicks_lineitem_1}}': '3,923', '{{spend_lineitem_1}}': '$4,274', '{{sales_lineitem_1}}': '$16,573', '{{units_lineitem_1}}': '1,562', '{{ROAS_lineitem_1}}': '$3.88', '{{CPC_lineitem_1}}': '$1.09', '{{keyword2}}': 'breast chicken', '{{impressions_lineitem_2}}': '400,880', '{{clicks_lineitem_2}}': '2,702', '{{spend_lineitem_2}}': '$2,865', '{{sales_lineitem_2}}': '$6,471', '{{units_lineitem_2}}': '579', '{{ROAS_lineitem_2}}': '$2.26', '{{CPC_lineitem_2}}': '$1.06', '{{keyword3}}': 'chicken nugget', '{{impressions_lineitem_3}}': '140,753', '{{clicks_lineitem_3}}': '2,954', '{{spend_lineitem_3}}': '$3,187', '{{sales_lineitem_3}}': '$14,608', '{{units_lineitem_3}}': '1,629', '{{ROAS_lineitem_3}}': '$4.58', '{{CPC_lineitem_3}}': '$1.08', '{{keyword4}}': 'chicken tender', '{{impressions_lineitem_4}}': '57,778', '{{clicks_lineitem_4}}': '1,214', '{{spend_lineitem_4}}': '$1,390', '{{sales_lineitem_4}}': '$8,450', '{{units_lineitem_4}}': '691', '{{ROAS_lineitem_4}}': '$6.08', '{{CPC_lineitem_4}}': '$1.15', '{{keyword5}}': 'chicken patty', '{{impressions_lineitem_5}}': '26,472', '{{clicks_lineitem_5}}': '378', '{{spend_lineitem_5}}': '$415', '{{sales_lineitem_5}}': '$2,026', '{{units_lineitem_5}}': '174', '{{ROAS_lineitem_5}}': '$4.88', '{{CPC_lineitem_5}}': '$1.10', '{{keyword6}}': 'nugget', '{{impressions_lineitem_6}}': '20,221', '{{clicks_lineitem_6}}': '484', '{{spend_lineitem_6}}': '$501', '{{sales_lineitem_6}}': '$1,443', '{{units_lineitem_6}}': '258', '{{ROAS_lineitem_6}}': '$2.88', '{{CPC_lineitem_6}}': '$1.04', '{{keyword7}}': 'chicken frozen', '{{impressions_lineitem_7}}': '18,713', '{{clicks_lineitem_7}}': '486', '{{spend_lineitem_7}}': '$541', '{{sales_lineitem_7}}': '$3,369', '{{units_lineitem_7}}': '305', '{{ROAS_lineitem_7}}': '$6.22', '{{CPC_lineitem_7}}': '$1.12', '{{keyword8}}': 'chicken strip', '{{impressions_lineitem_8}}': '18,197', '{{clicks_lineitem_8}}': '505', '{{spend_lineitem_8}}': '$577', '{{sales_lineitem_8}}': '$3,626', '{{units_lineitem_8}}': '297', '{{ROAS_lineitem_8}}': '$6.28', '{{CPC_lineitem_8}}': '$1.14', '{{keyword9}}': 'bare chicken', '{{impressions_lineitem_9}}': '9,276', '{{clicks_lineitem_9}}': '822', '{{spend_lineitem_9}}': '$939', '{{sales_lineitem_9}}': '$7,658', '{{units_lineitem_9}}': '622', '{{ROAS_lineitem_9}}': '$8.15', '{{CPC_lineitem_9}}': '$1.14', '{{keyword10}}': 'chicken frozen nugget', '{{impressions_lineitem_10}}': '7,736', '{{clicks_lineitem_10}}': '171', '{{spend_lineitem_10}}': '$180', '{{sales_lineitem_10}}': '$623', '{{units_lineitem_10}}': '90', '{{ROAS_lineitem_10}}': '$3.44', '{{CPC_lineitem_10}}': '$1.06', '{{keyword11}}': 'breast chicken frozen', '{{impressions_lineitem_11}}': '6,975', '{{clicks_lineitem_11}}': '93', '{{spend_lineitem_11}}': '$106', '{{sales_lineitem_11}}': '$598', '{{units_lineitem_11}}': '49', '{{ROAS_lineitem_11}}': '$5.59', '{{CPC_lineitem_11}}': '$1.15', '{{keyword12}}': 'bare chicken just', '{{impressions_lineitem_12}}': '6,798', '{{clicks_lineitem_12}}': '583', '{{spend_lineitem_12}}': '$670', '{{sales_lineitem_12}}': '$4,297', '{{units_lineitem_12}}': '356', '{{ROAS_lineitem_12}}': '$6.41', '{{CPC_lineitem_12}}': '$1.15', '{{keyword13}}': 'chicken salad', '{{impressions_lineitem_13}}': '6,660', '{{clicks_lineitem_13}}': '77', '{{spend_lineitem_13}}': '$80', '{{sales_lineitem_13}}': '$75', '{{units_lineitem_13}}': '16', '{{ROAS_lineitem_13}}': '$0.94', '{{CPC_lineitem_13}}': '$1.05', '{{keyword14}}': 'bare just', '{{impressions_lineitem_14}}': '5,191', '{{clicks_lineitem_14}}': '562', '{{spend_lineitem_14}}': '$642', '{{sales_lineitem_14}}': '$3,753', '{{units_lineitem_14}}': '306', '{{ROAS_lineitem_14}}': '$5.84', '{{CPC_lineitem_14}}': '$1.14'}\n",
      "Presentation updated successfully.\n"
     ]
    }
   ],
   "source": [
    "!python3 main3.py"
   ]
  },
  {
   "cell_type": "code",
   "execution_count": 78,
   "id": "d7187df7-8c7b-4448-8379-a32897963ced",
   "metadata": {},
   "outputs": [
    {
     "name": "stdout",
     "output_type": "stream",
     "text": [
      "Replacements: {'{{name}}': 'Albertsons', '{{impressions}}': '18,930,701', '{{clicks}}': '21,198', '{{spend}}': '$23,494', '{{sales}}': '$127,482', '{{units}}': '12,626', '{{ROAS}}': '$5.43', '{{CPC}}': '$1.11', '{{snapshot date}}': '2025-03-01 - 2025-03-31', '{{keyword}}': None, '{{BRAND NAME}}': \"Pilgrim's\"}\n",
      "Replacements: {'{{name}}': 'Albertsons', '{{impressions}}': '13,540,216', '{{clicks}}': '19,024', '{{spend}}': '$21,451', '{{sales}}': '$98,844', '{{units}}': '9,839', '{{ROAS}}': '$4.61', '{{CPC}}': '$1.13', '{{snapshot date}}': '2025-02-01 - 2025-02-28', '{{keyword}}': None, '{{BRAND NAME}}': \"Pilgrim's\"}\n",
      "Replacements: {'{{name}}': 'Albertsons', '{{impressions}}': '6,128,568', '{{clicks}}': '11,510', '{{spend}}': '$13,182', '{{sales}}': '$104,748', '{{units}}': '8,471', '{{ROAS}}': '$7.95', '{{CPC}}': '$1.15', '{{snapshot date}}': '2025-03-01 - 2025-03-31', '{{keyword}}': None, '{{BRAND NAME}}': \"Pilgrim's\", '{{impressions_lineitem_1}}': '6,128,568', '{{clicks_lineitem_1}}': '11,510', '{{spend_lineitem_1}}': '$13,182', '{{sales_lineitem_1}}': '$104,748', '{{units_lineitem_1}}': '8,471', '{{ROAS_lineitem_1}}': '$7.95', '{{CPC_lineitem_1}}': '$1.15', '{{name_lineitem_1}}': \"Pilgrim's_Pilgrims SPA 2024__June-December Just Bare_XQ73169400521685\", '{{impressions_lineitem_2}}': '12,802,133', '{{clicks_lineitem_2}}': '9,688', '{{spend_lineitem_2}}': '$10,312', '{{sales_lineitem_2}}': '$22,733', '{{units_lineitem_2}}': '4,155', '{{ROAS_lineitem_2}}': '$2.20', '{{CPC_lineitem_2}}': '$1.06', '{{name_lineitem_2}}': \"Pilgrim's_Pilgrims SPA 2024__June-December Pilgrims_XQ73169400521685\"}\n",
      "Replacements: {'{{name}}': 'Albertsons', '{{impressions}}': '672,281', '{{clicks}}': '3,923', '{{spend}}': '$4,274', '{{sales}}': '$16,573', '{{units}}': '1,562', '{{ROAS}}': '$3.88', '{{CPC}}': '$1.09', '{{snapshot date}}': '2025-03-01 - 2025-03-31', '{{keyword}}': 'chicken', '{{BRAND NAME}}': \"Pilgrim's\", '{{keyword0}}': 'chicken', '{{impressions_lineitem_0}}': '672,281', '{{clicks_lineitem_0}}': '3,923', '{{spend_lineitem_0}}': '$4,274', '{{sales_lineitem_0}}': '$16,573', '{{units_lineitem_0}}': '1,562', '{{ROAS_lineitem_0}}': '$3.88', '{{CPC_lineitem_0}}': '$1.09', '{{keyword1}}': 'breast chicken', '{{impressions_lineitem_1}}': '400,880', '{{clicks_lineitem_1}}': '2,702', '{{spend_lineitem_1}}': '$2,865', '{{sales_lineitem_1}}': '$6,471', '{{units_lineitem_1}}': '579', '{{ROAS_lineitem_1}}': '$2.26', '{{CPC_lineitem_1}}': '$1.06', '{{keyword2}}': 'chicken nugget', '{{impressions_lineitem_2}}': '140,753', '{{clicks_lineitem_2}}': '2,954', '{{spend_lineitem_2}}': '$3,187', '{{sales_lineitem_2}}': '$14,608', '{{units_lineitem_2}}': '1,629', '{{ROAS_lineitem_2}}': '$4.58', '{{CPC_lineitem_2}}': '$1.08', '{{keyword3}}': 'chicken tender', '{{impressions_lineitem_3}}': '57,778', '{{clicks_lineitem_3}}': '1,214', '{{spend_lineitem_3}}': '$1,390', '{{sales_lineitem_3}}': '$8,450', '{{units_lineitem_3}}': '691', '{{ROAS_lineitem_3}}': '$6.08', '{{CPC_lineitem_3}}': '$1.15', '{{keyword4}}': 'chicken patty', '{{impressions_lineitem_4}}': '26,472', '{{clicks_lineitem_4}}': '378', '{{spend_lineitem_4}}': '$415', '{{sales_lineitem_4}}': '$2,026', '{{units_lineitem_4}}': '174', '{{ROAS_lineitem_4}}': '$4.88', '{{CPC_lineitem_4}}': '$1.10', '{{keyword5}}': 'nugget', '{{impressions_lineitem_5}}': '20,221', '{{clicks_lineitem_5}}': '484', '{{spend_lineitem_5}}': '$501', '{{sales_lineitem_5}}': '$1,443', '{{units_lineitem_5}}': '258', '{{ROAS_lineitem_5}}': '$2.88', '{{CPC_lineitem_5}}': '$1.04', '{{keyword6}}': 'chicken frozen', '{{impressions_lineitem_6}}': '18,713', '{{clicks_lineitem_6}}': '486', '{{spend_lineitem_6}}': '$541', '{{sales_lineitem_6}}': '$3,369', '{{units_lineitem_6}}': '305', '{{ROAS_lineitem_6}}': '$6.22', '{{CPC_lineitem_6}}': '$1.12', '{{keyword7}}': 'chicken strip', '{{impressions_lineitem_7}}': '18,197', '{{clicks_lineitem_7}}': '505', '{{spend_lineitem_7}}': '$577', '{{sales_lineitem_7}}': '$3,626', '{{units_lineitem_7}}': '297', '{{ROAS_lineitem_7}}': '$6.28', '{{CPC_lineitem_7}}': '$1.14', '{{keyword8}}': 'bare chicken', '{{impressions_lineitem_8}}': '9,276', '{{clicks_lineitem_8}}': '822', '{{spend_lineitem_8}}': '$939', '{{sales_lineitem_8}}': '$7,658', '{{units_lineitem_8}}': '622', '{{ROAS_lineitem_8}}': '$8.15', '{{CPC_lineitem_8}}': '$1.14', '{{keyword9}}': 'chicken frozen nugget', '{{impressions_lineitem_9}}': '7,736', '{{clicks_lineitem_9}}': '171', '{{spend_lineitem_9}}': '$180', '{{sales_lineitem_9}}': '$623', '{{units_lineitem_9}}': '90', '{{ROAS_lineitem_9}}': '$3.44', '{{CPC_lineitem_9}}': '$1.06', '{{keyword10}}': 'breast chicken frozen', '{{impressions_lineitem_10}}': '6,975', '{{clicks_lineitem_10}}': '93', '{{spend_lineitem_10}}': '$106', '{{sales_lineitem_10}}': '$598', '{{units_lineitem_10}}': '49', '{{ROAS_lineitem_10}}': '$5.59', '{{CPC_lineitem_10}}': '$1.15', '{{keyword11}}': 'bare chicken just', '{{impressions_lineitem_11}}': '6,798', '{{clicks_lineitem_11}}': '583', '{{spend_lineitem_11}}': '$670', '{{sales_lineitem_11}}': '$4,297', '{{units_lineitem_11}}': '356', '{{ROAS_lineitem_11}}': '$6.41', '{{CPC_lineitem_11}}': '$1.15', '{{keyword12}}': 'chicken salad', '{{impressions_lineitem_12}}': '6,660', '{{clicks_lineitem_12}}': '77', '{{spend_lineitem_12}}': '$80', '{{sales_lineitem_12}}': '$75', '{{units_lineitem_12}}': '16', '{{ROAS_lineitem_12}}': '$0.94', '{{CPC_lineitem_12}}': '$1.05', '{{keyword13}}': 'bare just', '{{impressions_lineitem_13}}': '5,191', '{{clicks_lineitem_13}}': '562', '{{spend_lineitem_13}}': '$642', '{{sales_lineitem_13}}': '$3,753', '{{units_lineitem_13}}': '306', '{{ROAS_lineitem_13}}': '$5.84', '{{CPC_lineitem_13}}': '$1.14'}\n",
      "Presentation updated successfully.\n"
     ]
    }
   ],
   "source": [
    "!python3 main3.py"
   ]
  },
  {
   "cell_type": "code",
   "execution_count": 79,
   "id": "8e78febd-7cfe-4683-9101-9f223847a422",
   "metadata": {},
   "outputs": [
    {
     "name": "stdout",
     "output_type": "stream",
     "text": [
      "Replacements: {'{{name}}': 'Albertsons', '{{impressions}}': '18,930,701', '{{clicks}}': '21,198', '{{spend}}': '$23,494', '{{sales}}': '$127,482', '{{units}}': '12,626', '{{ROAS}}': '$5.43', '{{CPC}}': '$1.11', '{{snapshot date}}': '2025-03-01 - 2025-03-31', '{{keyword}}': None, '{{BRAND NAME}}': \"Pilgrim's\"}\n",
      "Replacements: {'{{name}}': 'Albertsons', '{{impressions}}': '13,540,216', '{{clicks}}': '19,024', '{{spend}}': '$21,451', '{{sales}}': '$98,844', '{{units}}': '9,839', '{{ROAS}}': '$4.61', '{{CPC}}': '$1.13', '{{snapshot date}}': '2025-02-01 - 2025-02-28', '{{keyword}}': None, '{{BRAND NAME}}': \"Pilgrim's\"}\n",
      "Replacements: {'{{name}}': 'Albertsons', '{{impressions}}': '6,128,568', '{{clicks}}': '11,510', '{{spend}}': '$13,182', '{{sales}}': '$104,748', '{{units}}': '8,471', '{{ROAS}}': '$7.95', '{{CPC}}': '$1.15', '{{snapshot date}}': '2025-03-01 - 2025-03-31', '{{keyword}}': None, '{{BRAND NAME}}': \"Pilgrim's\", '{{impressions_lineitem_1}}': '6,128,568', '{{clicks_lineitem_1}}': '11,510', '{{spend_lineitem_1}}': '$13,182', '{{sales_lineitem_1}}': '$104,748', '{{units_lineitem_1}}': '8,471', '{{ROAS_lineitem_1}}': '$7.95', '{{CPC_lineitem_1}}': '$1.15', '{{name_lineitem_1}}': \"Pilgrim's_Pilgrims SPA 2024__June-December Just Bare_XQ73169400521685\", '{{impressions_lineitem_2}}': '12,802,133', '{{clicks_lineitem_2}}': '9,688', '{{spend_lineitem_2}}': '$10,312', '{{sales_lineitem_2}}': '$22,733', '{{units_lineitem_2}}': '4,155', '{{ROAS_lineitem_2}}': '$2.20', '{{CPC_lineitem_2}}': '$1.06', '{{name_lineitem_2}}': \"Pilgrim's_Pilgrims SPA 2024__June-December Pilgrims_XQ73169400521685\"}\n",
      "Replacements: {'{{name}}': 'Albertsons', '{{impressions}}': '672,281', '{{clicks}}': '3,923', '{{spend}}': '$4,274', '{{sales}}': '$16,573', '{{units}}': '1,562', '{{ROAS}}': '$3.88', '{{CPC}}': '$1.09', '{{snapshot date}}': '2025-03-01 - 2025-03-31', '{{keyword}}': 'chicken', '{{BRAND NAME}}': \"Pilgrim's\", '{{keyword_1}}': 'chicken', '{{impressions_keyword_1}}': '672,281', '{{clicks_keyword_1}}': '3,923', '{{spend_keyword_1}}': '$4,274', '{{sales_keyword_1}}': '$16,573', '{{units_keyword_1}}': '1,562', '{{ROAS_keyword_1}}': '$3.88', '{{CPC_keyword_1}}': '$1.09', '{{keyword_2}}': 'breast chicken', '{{impressions_keyword_2}}': '400,880', '{{clicks_keyword_2}}': '2,702', '{{spend_keyword_2}}': '$2,865', '{{sales_keyword_2}}': '$6,471', '{{units_keyword_2}}': '579', '{{ROAS_keyword_2}}': '$2.26', '{{CPC_keyword_2}}': '$1.06', '{{keyword_3}}': 'chicken nugget', '{{impressions_keyword_3}}': '140,753', '{{clicks_keyword_3}}': '2,954', '{{spend_keyword_3}}': '$3,187', '{{sales_keyword_3}}': '$14,608', '{{units_keyword_3}}': '1,629', '{{ROAS_keyword_3}}': '$4.58', '{{CPC_keyword_3}}': '$1.08', '{{keyword_4}}': 'chicken tender', '{{impressions_keyword_4}}': '57,778', '{{clicks_keyword_4}}': '1,214', '{{spend_keyword_4}}': '$1,390', '{{sales_keyword_4}}': '$8,450', '{{units_keyword_4}}': '691', '{{ROAS_keyword_4}}': '$6.08', '{{CPC_keyword_4}}': '$1.15', '{{keyword_5}}': 'chicken patty', '{{impressions_keyword_5}}': '26,472', '{{clicks_keyword_5}}': '378', '{{spend_keyword_5}}': '$415', '{{sales_keyword_5}}': '$2,026', '{{units_keyword_5}}': '174', '{{ROAS_keyword_5}}': '$4.88', '{{CPC_keyword_5}}': '$1.10', '{{keyword_6}}': 'nugget', '{{impressions_keyword_6}}': '20,221', '{{clicks_keyword_6}}': '484', '{{spend_keyword_6}}': '$501', '{{sales_keyword_6}}': '$1,443', '{{units_keyword_6}}': '258', '{{ROAS_keyword_6}}': '$2.88', '{{CPC_keyword_6}}': '$1.04', '{{keyword_7}}': 'chicken frozen', '{{impressions_keyword_7}}': '18,713', '{{clicks_keyword_7}}': '486', '{{spend_keyword_7}}': '$541', '{{sales_keyword_7}}': '$3,369', '{{units_keyword_7}}': '305', '{{ROAS_keyword_7}}': '$6.22', '{{CPC_keyword_7}}': '$1.12', '{{keyword_8}}': 'chicken strip', '{{impressions_keyword_8}}': '18,197', '{{clicks_keyword_8}}': '505', '{{spend_keyword_8}}': '$577', '{{sales_keyword_8}}': '$3,626', '{{units_keyword_8}}': '297', '{{ROAS_keyword_8}}': '$6.28', '{{CPC_keyword_8}}': '$1.14', '{{keyword_9}}': 'bare chicken', '{{impressions_keyword_9}}': '9,276', '{{clicks_keyword_9}}': '822', '{{spend_keyword_9}}': '$939', '{{sales_keyword_9}}': '$7,658', '{{units_keyword_9}}': '622', '{{ROAS_keyword_9}}': '$8.15', '{{CPC_keyword_9}}': '$1.14', '{{keyword_10}}': 'chicken frozen nugget', '{{impressions_keyword_10}}': '7,736', '{{clicks_keyword_10}}': '171', '{{spend_keyword_10}}': '$180', '{{sales_keyword_10}}': '$623', '{{units_keyword_10}}': '90', '{{ROAS_keyword_10}}': '$3.44', '{{CPC_keyword_10}}': '$1.06', '{{keyword_11}}': 'breast chicken frozen', '{{impressions_keyword_11}}': '6,975', '{{clicks_keyword_11}}': '93', '{{spend_keyword_11}}': '$106', '{{sales_keyword_11}}': '$598', '{{units_keyword_11}}': '49', '{{ROAS_keyword_11}}': '$5.59', '{{CPC_keyword_11}}': '$1.15', '{{keyword_12}}': 'bare chicken just', '{{impressions_keyword_12}}': '6,798', '{{clicks_keyword_12}}': '583', '{{spend_keyword_12}}': '$670', '{{sales_keyword_12}}': '$4,297', '{{units_keyword_12}}': '356', '{{ROAS_keyword_12}}': '$6.41', '{{CPC_keyword_12}}': '$1.15', '{{keyword_13}}': 'chicken salad', '{{impressions_keyword_13}}': '6,660', '{{clicks_keyword_13}}': '77', '{{spend_keyword_13}}': '$80', '{{sales_keyword_13}}': '$75', '{{units_keyword_13}}': '16', '{{ROAS_keyword_13}}': '$0.94', '{{CPC_keyword_13}}': '$1.05', '{{keyword_14}}': 'bare just', '{{impressions_keyword_14}}': '5,191', '{{clicks_keyword_14}}': '562', '{{spend_keyword_14}}': '$642', '{{sales_keyword_14}}': '$3,753', '{{units_keyword_14}}': '306', '{{ROAS_keyword_14}}': '$5.84', '{{CPC_keyword_14}}': '$1.14'}\n",
      "Presentation updated successfully.\n"
     ]
    }
   ],
   "source": [
    "!python3 main3.py"
   ]
  },
  {
   "cell_type": "code",
   "execution_count": 80,
   "id": "c867fe9e-778a-419a-a0b0-984fb142fa43",
   "metadata": {},
   "outputs": [
    {
     "name": "stdout",
     "output_type": "stream",
     "text": [
      "Replacements: {'{{name}}': 'Albertsons', '{{impressions}}': '18,930,701', '{{clicks}}': '21,198', '{{spend}}': '$23,494', '{{sales}}': '$127,482', '{{units}}': '12,626', '{{ROAS}}': '$5.43', '{{CPC}}': '$1.11', '{{snapshot date}}': '2025-03-01 - 2025-03-31', '{{keyword}}': None, '{{BRAND NAME}}': \"Pilgrim's\"}\n",
      "Replacements: {'{{name}}': 'Albertsons', '{{impressions}}': '13,540,216', '{{clicks}}': '19,024', '{{spend}}': '$21,451', '{{sales}}': '$98,844', '{{units}}': '9,839', '{{ROAS}}': '$4.61', '{{CPC}}': '$1.13', '{{snapshot date}}': '2025-02-01 - 2025-02-28', '{{keyword}}': None, '{{BRAND NAME}}': \"Pilgrim's\"}\n",
      "Replacements: {'{{name}}': 'Albertsons', '{{impressions}}': '6,128,568', '{{clicks}}': '11,510', '{{spend}}': '$13,182', '{{sales}}': '$104,748', '{{units}}': '8,471', '{{ROAS}}': '$7.95', '{{CPC}}': '$1.15', '{{snapshot date}}': '2025-03-01 - 2025-03-31', '{{keyword}}': None, '{{BRAND NAME}}': \"Pilgrim's\", '{{impressions_lineitem_1}}': '6,128,568', '{{clicks_lineitem_1}}': '11,510', '{{spend_lineitem_1}}': '$13,182', '{{sales_lineitem_1}}': '$104,748', '{{units_lineitem_1}}': '8,471', '{{ROAS_lineitem_1}}': '$7.95', '{{CPC_lineitem_1}}': '$1.15', '{{name_lineitem_1}}': \"Pilgrim's_Pilgrims SPA 2024__June-December Just Bare_XQ73169400521685\", '{{impressions_lineitem_2}}': '12,802,133', '{{clicks_lineitem_2}}': '9,688', '{{spend_lineitem_2}}': '$10,312', '{{sales_lineitem_2}}': '$22,733', '{{units_lineitem_2}}': '4,155', '{{ROAS_lineitem_2}}': '$2.20', '{{CPC_lineitem_2}}': '$1.06', '{{name_lineitem_2}}': \"Pilgrim's_Pilgrims SPA 2024__June-December Pilgrims_XQ73169400521685\"}\n",
      "Replacements: {'{{name}}': 'Albertsons', '{{impressions}}': '672,281', '{{clicks}}': '3,923', '{{spend}}': '$4,274', '{{sales}}': '$16,573', '{{units}}': '1,562', '{{ROAS}}': '$3.88', '{{CPC}}': '$1.09', '{{snapshot date}}': '2025-03-01 - 2025-03-31', '{{keyword}}': 'chicken', '{{BRAND NAME}}': \"Pilgrim's\", '{{keyword_1}}': 'chicken', '{{impressions_keyword_1}}': '672,281', '{{clicks_keyword_1}}': '3,923', '{{spend_keyword_1}}': '$4,274', '{{sales_keyword_1}}': '$16,573', '{{units_keyword_1}}': '1,562', '{{ROAS_keyword_1}}': '$3.88', '{{CPC_keyword_1}}': '$1.09', '{{keyword_2}}': 'breast chicken', '{{impressions_keyword_2}}': '400,880', '{{clicks_keyword_2}}': '2,702', '{{spend_keyword_2}}': '$2,865', '{{sales_keyword_2}}': '$6,471', '{{units_keyword_2}}': '579', '{{ROAS_keyword_2}}': '$2.26', '{{CPC_keyword_2}}': '$1.06', '{{keyword_3}}': 'chicken nugget', '{{impressions_keyword_3}}': '140,753', '{{clicks_keyword_3}}': '2,954', '{{spend_keyword_3}}': '$3,187', '{{sales_keyword_3}}': '$14,608', '{{units_keyword_3}}': '1,629', '{{ROAS_keyword_3}}': '$4.58', '{{CPC_keyword_3}}': '$1.08', '{{keyword_4}}': 'chicken tender', '{{impressions_keyword_4}}': '57,778', '{{clicks_keyword_4}}': '1,214', '{{spend_keyword_4}}': '$1,390', '{{sales_keyword_4}}': '$8,450', '{{units_keyword_4}}': '691', '{{ROAS_keyword_4}}': '$6.08', '{{CPC_keyword_4}}': '$1.15', '{{keyword_5}}': 'chicken patty', '{{impressions_keyword_5}}': '26,472', '{{clicks_keyword_5}}': '378', '{{spend_keyword_5}}': '$415', '{{sales_keyword_5}}': '$2,026', '{{units_keyword_5}}': '174', '{{ROAS_keyword_5}}': '$4.88', '{{CPC_keyword_5}}': '$1.10', '{{keyword_6}}': 'nugget', '{{impressions_keyword_6}}': '20,221', '{{clicks_keyword_6}}': '484', '{{spend_keyword_6}}': '$501', '{{sales_keyword_6}}': '$1,443', '{{units_keyword_6}}': '258', '{{ROAS_keyword_6}}': '$2.88', '{{CPC_keyword_6}}': '$1.04', '{{keyword_7}}': 'chicken frozen', '{{impressions_keyword_7}}': '18,713', '{{clicks_keyword_7}}': '486', '{{spend_keyword_7}}': '$541', '{{sales_keyword_7}}': '$3,369', '{{units_keyword_7}}': '305', '{{ROAS_keyword_7}}': '$6.22', '{{CPC_keyword_7}}': '$1.12', '{{keyword_8}}': 'chicken strip', '{{impressions_keyword_8}}': '18,197', '{{clicks_keyword_8}}': '505', '{{spend_keyword_8}}': '$577', '{{sales_keyword_8}}': '$3,626', '{{units_keyword_8}}': '297', '{{ROAS_keyword_8}}': '$6.28', '{{CPC_keyword_8}}': '$1.14', '{{keyword_9}}': 'bare chicken', '{{impressions_keyword_9}}': '9,276', '{{clicks_keyword_9}}': '822', '{{spend_keyword_9}}': '$939', '{{sales_keyword_9}}': '$7,658', '{{units_keyword_9}}': '622', '{{ROAS_keyword_9}}': '$8.15', '{{CPC_keyword_9}}': '$1.14', '{{keyword_10}}': 'chicken frozen nugget', '{{impressions_keyword_10}}': '7,736', '{{clicks_keyword_10}}': '171', '{{spend_keyword_10}}': '$180', '{{sales_keyword_10}}': '$623', '{{units_keyword_10}}': '90', '{{ROAS_keyword_10}}': '$3.44', '{{CPC_keyword_10}}': '$1.06', '{{keyword_11}}': 'breast chicken frozen', '{{impressions_keyword_11}}': '6,975', '{{clicks_keyword_11}}': '93', '{{spend_keyword_11}}': '$106', '{{sales_keyword_11}}': '$598', '{{units_keyword_11}}': '49', '{{ROAS_keyword_11}}': '$5.59', '{{CPC_keyword_11}}': '$1.15', '{{keyword_12}}': 'bare chicken just', '{{impressions_keyword_12}}': '6,798', '{{clicks_keyword_12}}': '583', '{{spend_keyword_12}}': '$670', '{{sales_keyword_12}}': '$4,297', '{{units_keyword_12}}': '356', '{{ROAS_keyword_12}}': '$6.41', '{{CPC_keyword_12}}': '$1.15', '{{keyword_13}}': 'chicken salad', '{{impressions_keyword_13}}': '6,660', '{{clicks_keyword_13}}': '77', '{{spend_keyword_13}}': '$80', '{{sales_keyword_13}}': '$75', '{{units_keyword_13}}': '16', '{{ROAS_keyword_13}}': '$0.94', '{{CPC_keyword_13}}': '$1.05', '{{keyword_14}}': 'bare just', '{{impressions_keyword_14}}': '5,191', '{{clicks_keyword_14}}': '562', '{{spend_keyword_14}}': '$642', '{{sales_keyword_14}}': '$3,753', '{{units_keyword_14}}': '306', '{{ROAS_keyword_14}}': '$5.84', '{{CPC_keyword_14}}': '$1.14'}\n",
      "Presentation updated successfully.\n"
     ]
    }
   ],
   "source": [
    "!python3 main3.py"
   ]
  },
  {
   "cell_type": "code",
   "execution_count": 81,
   "id": "62cded44-f09c-4e23-b82f-a828c1ec40e8",
   "metadata": {},
   "outputs": [
    {
     "name": "stdout",
     "output_type": "stream",
     "text": [
      "Replacements: {'{{name}}': 'Albertsons', '{{impressions}}': '18,930,701', '{{clicks}}': '21,198', '{{spend}}': '$23,494', '{{sales}}': '$127,482', '{{units}}': '12,626', '{{ROAS}}': '$5.43', '{{CPC}}': '$1.11', '{{snapshot date}}': '2025-03-01 - 2025-03-31', '{{keyword}}': None, '{{BRAND NAME}}': \"Pilgrim's\"}\n",
      "Replacements: {'{{name}}': 'Albertsons', '{{impressions}}': '13,540,216', '{{clicks}}': '19,024', '{{spend}}': '$21,451', '{{sales}}': '$98,844', '{{units}}': '9,839', '{{ROAS}}': '$4.61', '{{CPC}}': '$1.13', '{{snapshot date}}': '2025-02-01 - 2025-02-28', '{{keyword}}': None, '{{BRAND NAME}}': \"Pilgrim's\"}\n",
      "Replacements: {'{{name}}': 'Albertsons', '{{impressions}}': '6,128,568', '{{clicks}}': '11,510', '{{spend}}': '$13,182', '{{sales}}': '$104,748', '{{units}}': '8,471', '{{ROAS}}': '$7.95', '{{CPC}}': '$1.15', '{{snapshot date}}': '2025-03-01 - 2025-03-31', '{{keyword}}': None, '{{BRAND NAME}}': \"Pilgrim's\", '{{impressions_lineitem_1}}': '6,128,568', '{{clicks_lineitem_1}}': '11,510', '{{spend_lineitem_1}}': '$13,182', '{{sales_lineitem_1}}': '$104,748', '{{units_lineitem_1}}': '8,471', '{{ROAS_lineitem_1}}': '$7.95', '{{CPC_lineitem_1}}': '$1.15', '{{name_lineitem_1}}': \"Pilgrim's_Pilgrims SPA 2024__June-December Just Bare_XQ73169400521685\", '{{impressions_lineitem_2}}': '12,802,133', '{{clicks_lineitem_2}}': '9,688', '{{spend_lineitem_2}}': '$10,312', '{{sales_lineitem_2}}': '$22,733', '{{units_lineitem_2}}': '4,155', '{{ROAS_lineitem_2}}': '$2.20', '{{CPC_lineitem_2}}': '$1.06', '{{name_lineitem_2}}': \"Pilgrim's_Pilgrims SPA 2024__June-December Pilgrims_XQ73169400521685\"}\n",
      "Replacements: {'{{name}}': 'Albertsons', '{{impressions}}': '672,281', '{{clicks}}': '3,923', '{{spend}}': '$4,274', '{{sales}}': '$16,573', '{{units}}': '1,562', '{{ROAS}}': '$3.88', '{{CPC}}': '$1.09', '{{snapshot date}}': '2025-03-01 - 2025-03-31', '{{keyword}}': 'chicken', '{{BRAND NAME}}': \"Pilgrim's\", '{{keyword_1}}': 'chicken', '{{impressions_keyword_1}}': '672,281', '{{clicks_keyword_1}}': '3,923', '{{spend_keyword_1}}': '$4,274', '{{sales_keyword_1}}': '$16,573', '{{units_keyword_1}}': '1,562', '{{ROAS_keyword_1}}': '$3.88', '{{CPC_keyword_1}}': '$1.09', '{{keyword_2}}': 'chicken nugget', '{{impressions_keyword_2}}': '140,753', '{{clicks_keyword_2}}': '2,954', '{{spend_keyword_2}}': '$3,187', '{{sales_keyword_2}}': '$14,608', '{{units_keyword_2}}': '1,629', '{{ROAS_keyword_2}}': '$4.58', '{{CPC_keyword_2}}': '$1.08', '{{keyword_3}}': 'chicken tender', '{{impressions_keyword_3}}': '57,778', '{{clicks_keyword_3}}': '1,214', '{{spend_keyword_3}}': '$1,390', '{{sales_keyword_3}}': '$8,450', '{{units_keyword_3}}': '691', '{{ROAS_keyword_3}}': '$6.08', '{{CPC_keyword_3}}': '$1.15', '{{keyword_4}}': 'bare chicken', '{{impressions_keyword_4}}': '9,276', '{{clicks_keyword_4}}': '822', '{{spend_keyword_4}}': '$939', '{{sales_keyword_4}}': '$7,658', '{{units_keyword_4}}': '622', '{{ROAS_keyword_4}}': '$8.15', '{{CPC_keyword_4}}': '$1.14', '{{keyword_5}}': 'breast chicken', '{{impressions_keyword_5}}': '400,880', '{{clicks_keyword_5}}': '2,702', '{{spend_keyword_5}}': '$2,865', '{{sales_keyword_5}}': '$6,471', '{{units_keyword_5}}': '579', '{{ROAS_keyword_5}}': '$2.26', '{{CPC_keyword_5}}': '$1.06', '{{keyword_6}}': 'bare chicken just', '{{impressions_keyword_6}}': '6,798', '{{clicks_keyword_6}}': '583', '{{spend_keyword_6}}': '$670', '{{sales_keyword_6}}': '$4,297', '{{units_keyword_6}}': '356', '{{ROAS_keyword_6}}': '$6.41', '{{CPC_keyword_6}}': '$1.15', '{{keyword_7}}': 'bare just', '{{impressions_keyword_7}}': '5,191', '{{clicks_keyword_7}}': '562', '{{spend_keyword_7}}': '$642', '{{sales_keyword_7}}': '$3,753', '{{units_keyword_7}}': '306', '{{ROAS_keyword_7}}': '$5.84', '{{CPC_keyword_7}}': '$1.14', '{{keyword_8}}': 'chicken strip', '{{impressions_keyword_8}}': '18,197', '{{clicks_keyword_8}}': '505', '{{spend_keyword_8}}': '$577', '{{sales_keyword_8}}': '$3,626', '{{units_keyword_8}}': '297', '{{ROAS_keyword_8}}': '$6.28', '{{CPC_keyword_8}}': '$1.14', '{{keyword_9}}': 'chicken frozen', '{{impressions_keyword_9}}': '18,713', '{{clicks_keyword_9}}': '486', '{{spend_keyword_9}}': '$541', '{{sales_keyword_9}}': '$3,369', '{{units_keyword_9}}': '305', '{{ROAS_keyword_9}}': '$6.22', '{{CPC_keyword_9}}': '$1.12', '{{keyword_10}}': 'chicken patty', '{{impressions_keyword_10}}': '26,472', '{{clicks_keyword_10}}': '378', '{{spend_keyword_10}}': '$415', '{{sales_keyword_10}}': '$2,026', '{{units_keyword_10}}': '174', '{{ROAS_keyword_10}}': '$4.88', '{{CPC_keyword_10}}': '$1.10', '{{keyword_11}}': 'nugget', '{{impressions_keyword_11}}': '20,221', '{{clicks_keyword_11}}': '484', '{{spend_keyword_11}}': '$501', '{{sales_keyword_11}}': '$1,443', '{{units_keyword_11}}': '258', '{{ROAS_keyword_11}}': '$2.88', '{{CPC_keyword_11}}': '$1.04', '{{keyword_12}}': 'chicken frozen tender', '{{impressions_keyword_12}}': '3,469', '{{clicks_keyword_12}}': '141', '{{spend_keyword_12}}': '$161', '{{sales_keyword_12}}': '$931', '{{units_keyword_12}}': '77', '{{ROAS_keyword_12}}': '$5.78', '{{CPC_keyword_12}}': '$1.14', '{{keyword_13}}': 'chicken thigh', '{{impressions_keyword_13}}': '2,844', '{{clicks_keyword_13}}': '131', '{{spend_keyword_13}}': '$150', '{{sales_keyword_13}}': '$899', '{{units_keyword_13}}': '66', '{{ROAS_keyword_13}}': '$5.97', '{{CPC_keyword_13}}': '$1.15', '{{keyword_14}}': 'chicken pilgrim', '{{impressions_keyword_14}}': '2,527', '{{clicks_keyword_14}}': '271', '{{spend_keyword_14}}': '$270', '{{sales_keyword_14}}': '$797', '{{units_keyword_14}}': '181', '{{ROAS_keyword_14}}': '$2.95', '{{CPC_keyword_14}}': '$1.00', '{{keyword_15}}': 'bare chicken nugget', '{{impressions_keyword_15}}': '1,036', '{{clicks_keyword_15}}': '102', '{{spend_keyword_15}}': '$117', '{{sales_keyword_15}}': '$781', '{{units_keyword_15}}': '63', '{{ROAS_keyword_15}}': '$6.67', '{{CPC_keyword_15}}': '$1.15'}\n",
      "Presentation updated successfully.\n"
     ]
    }
   ],
   "source": [
    "!python3 main3.py"
   ]
  },
  {
   "cell_type": "code",
   "execution_count": 82,
   "id": "e0ceb378-a79a-40b2-930b-15c434574166",
   "metadata": {},
   "outputs": [
    {
     "name": "stdout",
     "output_type": "stream",
     "text": [
      "Replacements: {'{{name}}': 'Albertsons', '{{impressions}}': '18,930,701', '{{clicks}}': '21,198', '{{spend}}': '$23,494', '{{sales}}': '$127,482', '{{units}}': '12,626', '{{ROAS}}': '$5.43', '{{CPC}}': '$1.11', '{{snapshot date}}': '2025-03-01 - 2025-03-31', '{{keyword}}': None, '{{BRAND NAME}}': \"Pilgrim's\"}\n",
      "Replacements: {'{{name}}': 'Albertsons', '{{impressions}}': '13,540,216', '{{clicks}}': '19,024', '{{spend}}': '$21,451', '{{sales}}': '$98,844', '{{units}}': '9,839', '{{ROAS}}': '$4.61', '{{CPC}}': '$1.13', '{{snapshot date}}': '2025-02-01 - 2025-02-28', '{{keyword}}': None, '{{BRAND NAME}}': \"Pilgrim's\"}\n",
      "Replacements: {'{{name}}': 'Albertsons', '{{impressions}}': '6,128,568', '{{clicks}}': '11,510', '{{spend}}': '$13,182', '{{sales}}': '$104,748', '{{units}}': '8,471', '{{ROAS}}': '$7.95', '{{CPC}}': '$1.15', '{{snapshot date}}': '2025-03-01 - 2025-03-31', '{{keyword}}': None, '{{BRAND NAME}}': \"Pilgrim's\", '{{impressions_lineitem_1}}': '6,128,568', '{{clicks_lineitem_1}}': '11,510', '{{spend_lineitem_1}}': '$13,182', '{{sales_lineitem_1}}': '$104,748', '{{units_lineitem_1}}': '8,471', '{{ROAS_lineitem_1}}': '$7.95', '{{CPC_lineitem_1}}': '$1.15', '{{name_lineitem_1}}': \"Pilgrim's_Pilgrims SPA 2024__June-December Just Bare_XQ73169400521685\", '{{impressions_lineitem_2}}': '12,802,133', '{{clicks_lineitem_2}}': '9,688', '{{spend_lineitem_2}}': '$10,312', '{{sales_lineitem_2}}': '$22,733', '{{units_lineitem_2}}': '4,155', '{{ROAS_lineitem_2}}': '$2.20', '{{CPC_lineitem_2}}': '$1.06', '{{name_lineitem_2}}': \"Pilgrim's_Pilgrims SPA 2024__June-December Pilgrims_XQ73169400521685\"}\n",
      "Replacements: {'{{name}}': 'Albertsons', '{{impressions}}': '672,281', '{{clicks}}': '3,923', '{{spend}}': '$4,274', '{{sales}}': '$16,573', '{{units}}': '1,562', '{{ROAS}}': '$3.88', '{{CPC}}': '$1.09', '{{snapshot date}}': '2025-03-01 - 2025-03-31', '{{keyword}}': 'chicken', '{{BRAND NAME}}': \"Pilgrim's\", '{{keyword_1}}': 'chicken', '{{impressions_keyword_1}}': '672,281', '{{clicks_keyword_1}}': '3,923', '{{spend_keyword_1}}': '$4,274', '{{sales_keyword_1}}': '$16,573', '{{units_keyword_1}}': '1,562', '{{ROAS_keyword_1}}': '$3.88', '{{CPC_keyword_1}}': '$1.09', '{{keyword_2}}': 'chicken nugget', '{{impressions_keyword_2}}': '140,753', '{{clicks_keyword_2}}': '2,954', '{{spend_keyword_2}}': '$3,187', '{{sales_keyword_2}}': '$14,608', '{{units_keyword_2}}': '1,629', '{{ROAS_keyword_2}}': '$4.58', '{{CPC_keyword_2}}': '$1.08', '{{keyword_3}}': 'breast chicken', '{{impressions_keyword_3}}': '400,880', '{{clicks_keyword_3}}': '2,702', '{{spend_keyword_3}}': '$2,865', '{{sales_keyword_3}}': '$6,471', '{{units_keyword_3}}': '579', '{{ROAS_keyword_3}}': '$2.26', '{{CPC_keyword_3}}': '$1.06', '{{keyword_4}}': 'chicken tender', '{{impressions_keyword_4}}': '57,778', '{{clicks_keyword_4}}': '1,214', '{{spend_keyword_4}}': '$1,390', '{{sales_keyword_4}}': '$8,450', '{{units_keyword_4}}': '691', '{{ROAS_keyword_4}}': '$6.08', '{{CPC_keyword_4}}': '$1.15', '{{keyword_5}}': 'bare chicken', '{{impressions_keyword_5}}': '9,276', '{{clicks_keyword_5}}': '822', '{{spend_keyword_5}}': '$939', '{{sales_keyword_5}}': '$7,658', '{{units_keyword_5}}': '622', '{{ROAS_keyword_5}}': '$8.15', '{{CPC_keyword_5}}': '$1.14', '{{keyword_6}}': 'bare chicken just', '{{impressions_keyword_6}}': '6,798', '{{clicks_keyword_6}}': '583', '{{spend_keyword_6}}': '$670', '{{sales_keyword_6}}': '$4,297', '{{units_keyword_6}}': '356', '{{ROAS_keyword_6}}': '$6.41', '{{CPC_keyword_6}}': '$1.15', '{{keyword_7}}': 'bare just', '{{impressions_keyword_7}}': '5,191', '{{clicks_keyword_7}}': '562', '{{spend_keyword_7}}': '$642', '{{sales_keyword_7}}': '$3,753', '{{units_keyword_7}}': '306', '{{ROAS_keyword_7}}': '$5.84', '{{CPC_keyword_7}}': '$1.14', '{{keyword_8}}': 'chicken strip', '{{impressions_keyword_8}}': '18,197', '{{clicks_keyword_8}}': '505', '{{spend_keyword_8}}': '$577', '{{sales_keyword_8}}': '$3,626', '{{units_keyword_8}}': '297', '{{ROAS_keyword_8}}': '$6.28', '{{CPC_keyword_8}}': '$1.14', '{{keyword_9}}': 'chicken frozen', '{{impressions_keyword_9}}': '18,713', '{{clicks_keyword_9}}': '486', '{{spend_keyword_9}}': '$541', '{{sales_keyword_9}}': '$3,369', '{{units_keyword_9}}': '305', '{{ROAS_keyword_9}}': '$6.22', '{{CPC_keyword_9}}': '$1.12', '{{keyword_10}}': 'nugget', '{{impressions_keyword_10}}': '20,221', '{{clicks_keyword_10}}': '484', '{{spend_keyword_10}}': '$501', '{{sales_keyword_10}}': '$1,443', '{{units_keyword_10}}': '258', '{{ROAS_keyword_10}}': '$2.88', '{{CPC_keyword_10}}': '$1.04', '{{keyword_11}}': 'chicken patty', '{{impressions_keyword_11}}': '26,472', '{{clicks_keyword_11}}': '378', '{{spend_keyword_11}}': '$415', '{{sales_keyword_11}}': '$2,026', '{{units_keyword_11}}': '174', '{{ROAS_keyword_11}}': '$4.88', '{{CPC_keyword_11}}': '$1.10', '{{keyword_12}}': 'chicken pilgrim', '{{impressions_keyword_12}}': '2,527', '{{clicks_keyword_12}}': '271', '{{spend_keyword_12}}': '$270', '{{sales_keyword_12}}': '$797', '{{units_keyword_12}}': '181', '{{ROAS_keyword_12}}': '$2.95', '{{CPC_keyword_12}}': '$1.00', '{{keyword_13}}': 'chicken nugget pilgrim', '{{impressions_keyword_13}}': '2,000', '{{clicks_keyword_13}}': '264', '{{spend_keyword_13}}': '$268', '{{sales_keyword_13}}': '$579', '{{units_keyword_13}}': '116', '{{ROAS_keyword_13}}': '$2.16', '{{CPC_keyword_13}}': '$1.02', '{{keyword_14}}': 'chicken free gluten nugget', '{{impressions_keyword_14}}': '3,410', '{{clicks_keyword_14}}': '241', '{{spend_keyword_14}}': '$247', '{{sales_keyword_14}}': '$81', '{{units_keyword_14}}': '13', '{{ROAS_keyword_14}}': '$0.33', '{{CPC_keyword_14}}': '$1.03', '{{keyword_15}}': 'chicken frozen nugget', '{{impressions_keyword_15}}': '7,736', '{{clicks_keyword_15}}': '171', '{{spend_keyword_15}}': '$180', '{{sales_keyword_15}}': '$623', '{{units_keyword_15}}': '90', '{{ROAS_keyword_15}}': '$3.44', '{{CPC_keyword_15}}': '$1.06'}\n",
      "Presentation updated successfully.\n"
     ]
    }
   ],
   "source": [
    "!python3 main3.py"
   ]
  },
  {
   "cell_type": "code",
   "execution_count": 83,
   "id": "79d7d571-d815-4093-b30b-2455a2cd4d7f",
   "metadata": {},
   "outputs": [
    {
     "name": "stdout",
     "output_type": "stream",
     "text": [
      "Replacements: {'{{name}}': 'Albertsons', '{{impressions}}': '18,930,701', '{{clicks}}': '21,198', '{{spend}}': '$23,494', '{{sales}}': '$127,482', '{{units}}': '12,626', '{{ROAS}}': '$5.43', '{{CPC}}': '$1.11', '{{snapshot date}}': '2025-03-01 - 2025-03-31', '{{keyword}}': None, '{{BRAND NAME}}': \"Pilgrim's\"}\n",
      "Replacements: {'{{name}}': 'Albertsons', '{{impressions}}': '13,540,216', '{{clicks}}': '19,024', '{{spend}}': '$21,451', '{{sales}}': '$98,844', '{{units}}': '9,839', '{{ROAS}}': '$4.61', '{{CPC}}': '$1.13', '{{snapshot date}}': '2025-02-01 - 2025-02-28', '{{keyword}}': None, '{{BRAND NAME}}': \"Pilgrim's\"}\n",
      "Replacements: {'{{name}}': 'Albertsons', '{{impressions}}': '6,128,568', '{{clicks}}': '11,510', '{{spend}}': '$13,182', '{{sales}}': '$104,748', '{{units}}': '8,471', '{{ROAS}}': '$7.95', '{{CPC}}': '$1.15', '{{snapshot date}}': '2025-03-01 - 2025-03-31', '{{keyword}}': None, '{{BRAND NAME}}': \"Pilgrim's\", '{{impressions_lineitem_1}}': '6,128,568', '{{clicks_lineitem_1}}': '11,510', '{{spend_lineitem_1}}': '$13,182', '{{sales_lineitem_1}}': '$104,748', '{{units_lineitem_1}}': '8,471', '{{ROAS_lineitem_1}}': '$7.95', '{{CPC_lineitem_1}}': '$1.15', '{{name_lineitem_1}}': \"Pilgrim's_Pilgrims SPA 2024__June-December Just Bare_XQ73169400521685\", '{{impressions_lineitem_2}}': '12,802,133', '{{clicks_lineitem_2}}': '9,688', '{{spend_lineitem_2}}': '$10,312', '{{sales_lineitem_2}}': '$22,733', '{{units_lineitem_2}}': '4,155', '{{ROAS_lineitem_2}}': '$2.20', '{{CPC_lineitem_2}}': '$1.06', '{{name_lineitem_2}}': \"Pilgrim's_Pilgrims SPA 2024__June-December Pilgrims_XQ73169400521685\"}\n",
      "Replacements: {'{{name}}': 'Albertsons', '{{impressions}}': '672,281', '{{clicks}}': '3,923', '{{spend}}': '$4,274', '{{sales}}': '$16,573', '{{units}}': '1,562', '{{ROAS}}': '$3.88', '{{CPC}}': '$1.09', '{{snapshot date}}': '2025-03-01 - 2025-03-31', '{{keyword}}': 'chicken', '{{BRAND NAME}}': \"Pilgrim's\", '{{keyword_1}}': 'chicken', '{{impressions_keyword_1}}': '672,281', '{{clicks_keyword_1}}': '3,923', '{{spend_keyword_1}}': '$4,274', '{{sales_keyword_1}}': '$16,573', '{{units_keyword_1}}': '1,562', '{{ROAS_keyword_1}}': '$3.88', '{{CPC_keyword_1}}': '$1.09', '{{keyword_2}}': 'chicken nugget', '{{impressions_keyword_2}}': '140,753', '{{clicks_keyword_2}}': '2,954', '{{spend_keyword_2}}': '$3,187', '{{sales_keyword_2}}': '$14,608', '{{units_keyword_2}}': '1,629', '{{ROAS_keyword_2}}': '$4.58', '{{CPC_keyword_2}}': '$1.08', '{{keyword_3}}': 'breast chicken', '{{impressions_keyword_3}}': '400,880', '{{clicks_keyword_3}}': '2,702', '{{spend_keyword_3}}': '$2,865', '{{sales_keyword_3}}': '$6,471', '{{units_keyword_3}}': '579', '{{ROAS_keyword_3}}': '$2.26', '{{CPC_keyword_3}}': '$1.06', '{{keyword_4}}': 'chicken tender', '{{impressions_keyword_4}}': '57,778', '{{clicks_keyword_4}}': '1,214', '{{spend_keyword_4}}': '$1,390', '{{sales_keyword_4}}': '$8,450', '{{units_keyword_4}}': '691', '{{ROAS_keyword_4}}': '$6.08', '{{CPC_keyword_4}}': '$1.15', '{{keyword_5}}': 'bare chicken', '{{impressions_keyword_5}}': '9,276', '{{clicks_keyword_5}}': '822', '{{spend_keyword_5}}': '$939', '{{sales_keyword_5}}': '$7,658', '{{units_keyword_5}}': '622', '{{ROAS_keyword_5}}': '$8.15', '{{CPC_keyword_5}}': '$1.14', '{{keyword_6}}': 'bare chicken just', '{{impressions_keyword_6}}': '6,798', '{{clicks_keyword_6}}': '583', '{{spend_keyword_6}}': '$670', '{{sales_keyword_6}}': '$4,297', '{{units_keyword_6}}': '356', '{{ROAS_keyword_6}}': '$6.41', '{{CPC_keyword_6}}': '$1.15', '{{keyword_7}}': 'bare just', '{{impressions_keyword_7}}': '5,191', '{{clicks_keyword_7}}': '562', '{{spend_keyword_7}}': '$642', '{{sales_keyword_7}}': '$3,753', '{{units_keyword_7}}': '306', '{{ROAS_keyword_7}}': '$5.84', '{{CPC_keyword_7}}': '$1.14', '{{keyword_8}}': 'chicken strip', '{{impressions_keyword_8}}': '18,197', '{{clicks_keyword_8}}': '505', '{{spend_keyword_8}}': '$577', '{{sales_keyword_8}}': '$3,626', '{{units_keyword_8}}': '297', '{{ROAS_keyword_8}}': '$6.28', '{{CPC_keyword_8}}': '$1.14', '{{keyword_9}}': 'chicken frozen', '{{impressions_keyword_9}}': '18,713', '{{clicks_keyword_9}}': '486', '{{spend_keyword_9}}': '$541', '{{sales_keyword_9}}': '$3,369', '{{units_keyword_9}}': '305', '{{ROAS_keyword_9}}': '$6.22', '{{CPC_keyword_9}}': '$1.12', '{{keyword_10}}': 'nugget', '{{impressions_keyword_10}}': '20,221', '{{clicks_keyword_10}}': '484', '{{spend_keyword_10}}': '$501', '{{sales_keyword_10}}': '$1,443', '{{units_keyword_10}}': '258', '{{ROAS_keyword_10}}': '$2.88', '{{CPC_keyword_10}}': '$1.04', '{{keyword_11}}': 'chicken patty', '{{impressions_keyword_11}}': '26,472', '{{clicks_keyword_11}}': '378', '{{spend_keyword_11}}': '$415', '{{sales_keyword_11}}': '$2,026', '{{units_keyword_11}}': '174', '{{ROAS_keyword_11}}': '$4.88', '{{CPC_keyword_11}}': '$1.10', '{{keyword_12}}': 'chicken pilgrim', '{{impressions_keyword_12}}': '2,527', '{{clicks_keyword_12}}': '271', '{{spend_keyword_12}}': '$270', '{{sales_keyword_12}}': '$797', '{{units_keyword_12}}': '181', '{{ROAS_keyword_12}}': '$2.95', '{{CPC_keyword_12}}': '$1.00', '{{keyword_13}}': 'chicken nugget pilgrim', '{{impressions_keyword_13}}': '2,000', '{{clicks_keyword_13}}': '264', '{{spend_keyword_13}}': '$268', '{{sales_keyword_13}}': '$579', '{{units_keyword_13}}': '116', '{{ROAS_keyword_13}}': '$2.16', '{{CPC_keyword_13}}': '$1.02', '{{keyword_14}}': 'chicken free gluten nugget', '{{impressions_keyword_14}}': '3,410', '{{clicks_keyword_14}}': '241', '{{spend_keyword_14}}': '$247', '{{sales_keyword_14}}': '$81', '{{units_keyword_14}}': '13', '{{ROAS_keyword_14}}': '$0.33', '{{CPC_keyword_14}}': '$1.03', '{{keyword_15}}': 'chicken frozen nugget', '{{impressions_keyword_15}}': '7,736', '{{clicks_keyword_15}}': '171', '{{spend_keyword_15}}': '$180', '{{sales_keyword_15}}': '$623', '{{units_keyword_15}}': '90', '{{ROAS_keyword_15}}': '$3.44', '{{CPC_keyword_15}}': '$1.06'}\n",
      "Presentation updated successfully.\n"
     ]
    }
   ],
   "source": [
    "!python3 main3.py"
   ]
  },
  {
   "cell_type": "code",
   "execution_count": 85,
   "id": "517f66f9-d4ac-4f4b-b068-f77740e63d5a",
   "metadata": {},
   "outputs": [
    {
     "name": "stdout",
     "output_type": "stream",
     "text": [
      "Replacements: {'{{name}}': 'Albertsons', '{{impressions}}': '113,786,566', '{{clicks}}': '96,863', '{{spend}}': '$108,160', '{{sales}}': '$500,067', '{{units}}': '53,356', '{{ROAS}}': '$4.62', '{{CPC}}': '$1.12', '{{snapshot date}}': '2025-01-01 - 2025-05-1', '{{keyword}}': None, '{{BRAND NAME}}': \"Pilgrim's\"}\n",
      "Replacements: {'{{name}}': 'Albertsons', '{{impressions}}': '44,215,403', '{{clicks}}': '29,913', '{{spend}}': '$33,313', '{{sales}}': '$149,683', '{{units}}': '17,006', '{{ROAS}}': '$4.49', '{{CPC}}': '$1.11', '{{snapshot date}}': '2025-04-01 - 2025-04-30', '{{keyword}}': None, '{{BRAND NAME}}': \"Pilgrim's\"}\n",
      "Replacements: {'{{name}}': 'Albertsons', '{{impressions}}': '7,579,456', '{{clicks}}': '10,932', '{{spend}}': '$12,718', '{{sales}}': '$108,746', '{{units}}': '8,555', '{{ROAS}}': '$8.55', '{{CPC}}': '$1.16', '{{snapshot date}}': '2025-04-01 - 2025-04-30', '{{keyword}}': None, '{{BRAND NAME}}': \"Pilgrim's\", '{{impressions_lineitem_1}}': '7,579,456', '{{clicks_lineitem_1}}': '10,932', '{{spend_lineitem_1}}': '$12,718', '{{sales_lineitem_1}}': '$108,746', '{{units_lineitem_1}}': '8,555', '{{ROAS_lineitem_1}}': '$8.55', '{{CPC_lineitem_1}}': '$1.16', '{{name_lineitem_1}}': \"Pilgrim's_Pilgrims SPA 2024__June-December Just Bare_XQ73169400521685\", '{{impressions_lineitem_2}}': '36,635,947', '{{clicks_lineitem_2}}': '18,981', '{{spend_lineitem_2}}': '$20,595', '{{sales_lineitem_2}}': '$40,937', '{{units_lineitem_2}}': '8,451', '{{ROAS_lineitem_2}}': '$1.99', '{{CPC_lineitem_2}}': '$1.09', '{{name_lineitem_2}}': \"Pilgrim's_Pilgrims SPA 2024__June-December Pilgrims_XQ73169400521685\"}\n",
      "Replacements: {'{{name}}': 'Albertsons', '{{impressions}}': '138,580', '{{clicks}}': '3,424', '{{spend}}': '$3,529', '{{sales}}': '$11,832', '{{units}}': '1,895', '{{ROAS}}': '$3.35', '{{CPC}}': '$1.03', '{{snapshot date}}': '2025-04-01 - 2025-04-30', '{{keyword}}': 'chicken nugget', '{{BRAND NAME}}': \"Pilgrim's\", '{{keyword_1}}': 'chicken nugget', '{{impressions_keyword_1}}': '138,580', '{{clicks_keyword_1}}': '3,424', '{{spend_keyword_1}}': '$3,529', '{{sales_keyword_1}}': '$11,832', '{{units_keyword_1}}': '1,895', '{{ROAS_keyword_1}}': '$3.35', '{{CPC_keyword_1}}': '$1.03', '{{keyword_2}}': 'breast chicken', '{{impressions_keyword_2}}': '319,100', '{{clicks_keyword_2}}': '2,782', '{{spend_keyword_2}}': '$3,096', '{{sales_keyword_2}}': '$8,695', '{{units_keyword_2}}': '764', '{{ROAS_keyword_2}}': '$2.81', '{{CPC_keyword_2}}': '$1.11', '{{keyword_3}}': 'chicken', '{{impressions_keyword_3}}': '354,433', '{{clicks_keyword_3}}': '2,123', '{{spend_keyword_3}}': '$2,137', '{{sales_keyword_3}}': '$6,839', '{{units_keyword_3}}': '854', '{{ROAS_keyword_3}}': '$3.20', '{{CPC_keyword_3}}': '$1.01', '{{keyword_4}}': 'chicken tender', '{{impressions_keyword_4}}': '64,177', '{{clicks_keyword_4}}': '1,417', '{{spend_keyword_4}}': '$1,629', '{{sales_keyword_4}}': '$10,408', '{{units_keyword_4}}': '806', '{{ROAS_keyword_4}}': '$6.39', '{{CPC_keyword_4}}': '$1.15', '{{keyword_5}}': 'bare chicken', '{{impressions_keyword_5}}': '14,397', '{{clicks_keyword_5}}': '1,110', '{{spend_keyword_5}}': '$1,329', '{{sales_keyword_5}}': '$10,083', '{{units_keyword_5}}': '783', '{{ROAS_keyword_5}}': '$7.58', '{{CPC_keyword_5}}': '$1.20', '{{keyword_6}}': 'bare chicken just', '{{impressions_keyword_6}}': '11,723', '{{clicks_keyword_6}}': '926', '{{spend_keyword_6}}': '$1,068', '{{sales_keyword_6}}': '$6,417', '{{units_keyword_6}}': '510', '{{ROAS_keyword_6}}': '$6.01', '{{CPC_keyword_6}}': '$1.15', '{{keyword_7}}': 'chicken strip', '{{impressions_keyword_7}}': '18,666', '{{clicks_keyword_7}}': '694', '{{spend_keyword_7}}': '$838', '{{sales_keyword_7}}': '$5,018', '{{units_keyword_7}}': '393', '{{ROAS_keyword_7}}': '$5.99', '{{CPC_keyword_7}}': '$1.21', '{{keyword_8}}': 'nugget', '{{impressions_keyword_8}}': '25,024', '{{clicks_keyword_8}}': '757', '{{spend_keyword_8}}': '$809', '{{sales_keyword_8}}': '$2,102', '{{units_keyword_8}}': '423', '{{ROAS_keyword_8}}': '$2.60', '{{CPC_keyword_8}}': '$1.07', '{{keyword_9}}': 'bare just', '{{impressions_keyword_9}}': '5,829', '{{clicks_keyword_9}}': '544', '{{spend_keyword_9}}': '$627', '{{sales_keyword_9}}': '$4,114', '{{units_keyword_9}}': '325', '{{ROAS_keyword_9}}': '$6.56', '{{CPC_keyword_9}}': '$1.15', '{{keyword_10}}': 'chicken frozen nugget', '{{impressions_keyword_10}}': '12,074', '{{clicks_keyword_10}}': '370', '{{spend_keyword_10}}': '$413', '{{sales_keyword_10}}': '$1,445', '{{units_keyword_10}}': '183', '{{ROAS_keyword_10}}': '$3.50', '{{CPC_keyword_10}}': '$1.12', '{{keyword_11}}': 'chicken pilgrim', '{{impressions_keyword_11}}': '4,346', '{{clicks_keyword_11}}': '410', '{{spend_keyword_11}}': '$403', '{{sales_keyword_11}}': '$741', '{{units_keyword_11}}': '176', '{{ROAS_keyword_11}}': '$1.84', '{{CPC_keyword_11}}': '$0.98', '{{keyword_12}}': 'chicken nugget pilgrim', '{{impressions_keyword_12}}': '3,173', '{{clicks_keyword_12}}': '327', '{{spend_keyword_12}}': '$322', '{{sales_keyword_12}}': '$782', '{{units_keyword_12}}': '172', '{{ROAS_keyword_12}}': '$2.42', '{{CPC_keyword_12}}': '$0.99', '{{keyword_13}}': 'chicken thigh', '{{impressions_keyword_13}}': '2,936', '{{clicks_keyword_13}}': '249', '{{spend_keyword_13}}': '$291', '{{sales_keyword_13}}': '$1,705', '{{units_keyword_13}}': '143', '{{ROAS_keyword_13}}': '$5.85', '{{CPC_keyword_13}}': '$1.17', '{{keyword_14}}': 'chicken free gluten nugget', '{{impressions_keyword_14}}': '3,776', '{{clicks_keyword_14}}': '292', '{{spend_keyword_14}}': '$289', '{{sales_keyword_14}}': '$110', '{{units_keyword_14}}': '19', '{{ROAS_keyword_14}}': '$0.38', '{{CPC_keyword_14}}': '$0.99', '{{keyword_15}}': 'chicken patty', '{{impressions_keyword_15}}': '28,494', '{{clicks_keyword_15}}': '234', '{{spend_keyword_15}}': '$240', '{{sales_keyword_15}}': '$457', '{{units_keyword_15}}': '76', '{{ROAS_keyword_15}}': '$1.90', '{{CPC_keyword_15}}': '$1.03'}\n",
      "Presentation updated successfully.\n"
     ]
    }
   ],
   "source": [
    "!python3 main3.py"
   ]
  },
  {
   "cell_type": "code",
   "execution_count": 86,
   "id": "47fb9538-e5cf-48a5-ab06-83b9536f4094",
   "metadata": {},
   "outputs": [
    {
     "name": "stdout",
     "output_type": "stream",
     "text": [
      "Traceback (most recent call last):\n",
      "  File \u001b[35m\"/Users/j.ensley/Documents/PPTMaker/main3.py\"\u001b[0m, line \u001b[35m199\u001b[0m, in \u001b[35m<module>\u001b[0m\n",
      "    \u001b[31mfill_slide\u001b[0m\u001b[1;31m(prs, 0, \"2025-01-01\", \"2025-05-1\", use_line_items=False, by_keyword=False, by_category=False)\u001b[0m\n",
      "    \u001b[31m~~~~~~~~~~\u001b[0m\u001b[1;31m^^^^^^^^^^^^^^^^^^^^^^^^^^^^^^^^^^^^^^^^^^^^^^^^^^^^^^^^^^^^^^^^^^^^^^^^^^^^^^^^^^^^^^^^^^^^^^\u001b[0m\n",
      "  File \u001b[35m\"/Users/j.ensley/Documents/PPTMaker/main3.py\"\u001b[0m, line \u001b[35m129\u001b[0m, in \u001b[35mfill_slide\u001b[0m\n",
      "    data = get_data(start_date, end_date, line_item_filter, by_keyword, by_category)\n",
      "\u001b[1;35mTypeError\u001b[0m: \u001b[35mget_data() takes from 2 to 4 positional arguments but 5 were given\u001b[0m\n"
     ]
    }
   ],
   "source": [
    "!python3 main3.py"
   ]
  },
  {
   "cell_type": "code",
   "execution_count": 87,
   "id": "1085502f-caa1-4272-bc9a-f8fb364acc24",
   "metadata": {},
   "outputs": [
    {
     "name": "stdout",
     "output_type": "stream",
     "text": [
      "Traceback (most recent call last):\n",
      "  File \u001b[35m\"/Users/j.ensley/Documents/PPTMaker/main3.py\"\u001b[0m, line \u001b[35m199\u001b[0m, in \u001b[35m<module>\u001b[0m\n",
      "    \u001b[31mfill_slide\u001b[0m\u001b[1;31m(prs, 0, \"2025-01-01\", \"2025-05-1\", use_line_items=False, by_keyword=False, by_category=False)\u001b[0m\n",
      "    \u001b[31m~~~~~~~~~~\u001b[0m\u001b[1;31m^^^^^^^^^^^^^^^^^^^^^^^^^^^^^^^^^^^^^^^^^^^^^^^^^^^^^^^^^^^^^^^^^^^^^^^^^^^^^^^^^^^^^^^^^^^^^^\u001b[0m\n",
      "  File \u001b[35m\"/Users/j.ensley/Documents/PPTMaker/main3.py\"\u001b[0m, line \u001b[35m129\u001b[0m, in \u001b[35mfill_slide\u001b[0m\n",
      "    data = get_data(start_date, end_date, line_item_filter, by_keyword, by_category)\n",
      "\u001b[1;35mTypeError\u001b[0m: \u001b[35mget_data() takes from 2 to 4 positional arguments but 5 were given\u001b[0m\n"
     ]
    }
   ],
   "source": [
    "!python3 main3.py"
   ]
  },
  {
   "cell_type": "code",
   "execution_count": 88,
   "id": "40484d53-4820-46e1-b7fe-d6aac41b5284",
   "metadata": {},
   "outputs": [
    {
     "name": "stdout",
     "output_type": "stream",
     "text": [
      "Traceback (most recent call last):\n",
      "  File \u001b[35m\"/Users/j.ensley/Documents/PPTMaker/main3.py\"\u001b[0m, line \u001b[35m199\u001b[0m, in \u001b[35m<module>\u001b[0m\n",
      "    \u001b[31mfill_slide\u001b[0m\u001b[1;31m(prs, 0, \"2025-01-01\", \"2025-05-1\", use_line_items=False, by_keyword=False, by_category=False)\u001b[0m\n",
      "    \u001b[31m~~~~~~~~~~\u001b[0m\u001b[1;31m^^^^^^^^^^^^^^^^^^^^^^^^^^^^^^^^^^^^^^^^^^^^^^^^^^^^^^^^^^^^^^^^^^^^^^^^^^^^^^^^^^^^^^^^^^^^^^\u001b[0m\n",
      "  File \u001b[35m\"/Users/j.ensley/Documents/PPTMaker/main3.py\"\u001b[0m, line \u001b[35m129\u001b[0m, in \u001b[35mfill_slide\u001b[0m\n",
      "    data = get_data(start_date, end_date, line_item_filter, by_keyword, by_category)\n",
      "\u001b[1;35mTypeError\u001b[0m: \u001b[35mget_data() takes from 2 to 4 positional arguments but 5 were given\u001b[0m\n"
     ]
    }
   ],
   "source": [
    "!python3 main3.py"
   ]
  },
  {
   "cell_type": "code",
   "execution_count": 89,
   "id": "925847cc-9a9a-41ec-bd45-d314045b1bba",
   "metadata": {},
   "outputs": [
    {
     "name": "stdout",
     "output_type": "stream",
     "text": [
      "Replacements: {'{{name}}': 'Albertsons', '{{impressions}}': '114,010,707', '{{clicks}}': '97,168', '{{spend}}': '$108,495', '{{sales}}': '$500,370', '{{units}}': '53,384', '{{ROAS}}': '$4.61', '{{CPC}}': '$1.12', '{{snapshot date}}': '2025-01-01 - 2025-05-1', '{{keyword}}': None, '{{BRAND NAME}}': \"Pilgrim's\"}\n",
      "Replacements: {'{{name}}': 'Albertsons', '{{impressions}}': '44,215,403', '{{clicks}}': '29,913', '{{spend}}': '$33,313', '{{sales}}': '$149,251', '{{units}}': '16,954', '{{ROAS}}': '$4.48', '{{CPC}}': '$1.11', '{{snapshot date}}': '2025-04-01 - 2025-04-30', '{{keyword}}': None, '{{BRAND NAME}}': \"Pilgrim's\"}\n",
      "Replacements: {'{{name}}': 'Albertsons', '{{impressions}}': '7,579,456', '{{clicks}}': '10,932', '{{spend}}': '$12,718', '{{sales}}': '$108,430', '{{units}}': '8,528', '{{ROAS}}': '$8.53', '{{CPC}}': '$1.16', '{{snapshot date}}': '2025-04-01 - 2025-04-30', '{{keyword}}': None, '{{BRAND NAME}}': \"Pilgrim's\", '{{impressions_lineitem_1}}': '7,579,456', '{{clicks_lineitem_1}}': '10,932', '{{spend_lineitem_1}}': '$12,718', '{{sales_lineitem_1}}': '$108,430', '{{units_lineitem_1}}': '8,528', '{{ROAS_lineitem_1}}': '$8.53', '{{CPC_lineitem_1}}': '$1.16', '{{name_lineitem_1}}': \"Pilgrim's_Pilgrims SPA 2024__June-December Just Bare_XQ73169400521685\", '{{impressions_lineitem_2}}': '36,635,947', '{{clicks_lineitem_2}}': '18,981', '{{spend_lineitem_2}}': '$20,595', '{{sales_lineitem_2}}': '$40,821', '{{units_lineitem_2}}': '8,426', '{{ROAS_lineitem_2}}': '$1.98', '{{CPC_lineitem_2}}': '$1.09', '{{name_lineitem_2}}': \"Pilgrim's_Pilgrims SPA 2024__June-December Pilgrims_XQ73169400521685\"}\n",
      "Replacements: {'{{name}}': 'Albertsons', '{{impressions}}': '167,209', '{{clicks}}': '1,400', '{{spend}}': '$1,619', '{{sales}}': '$10,412', '{{units}}': '866', '{{ROAS}}': '$6.43', '{{CPC}}': '$1.16', '{{snapshot date}}': '2025-04-01 - 2025-04-30', '{{keyword}}': None, '{{BRAND NAME}}': \"Pilgrim's\", '{{category_1}}': '3|chicken', '{{impressions_category_1}}': '167,209', '{{clicks_category_1}}': '1,400', '{{spend_category_1}}': '$1,619', '{{sales_category_1}}': '$10,412', '{{units_category_1}}': '866', '{{ROAS_category_1}}': '$6.43', '{{CPC_category_1}}': '$1.16', '{{category_2}}': '3|chicken & turkey', '{{impressions_category_2}}': '33,065,082', '{{clicks_category_2}}': '20,120', '{{spend_category_2}}': '$23,725', '{{sales_category_2}}': '$122,280', '{{units_category_2}}': '12,997', '{{ROAS_category_2}}': '$5.15', '{{CPC_category_2}}': '$1.18', '{{category_3}}': '3|frozen meals', '{{impressions_category_3}}': '10,983,112', '{{clicks_category_3}}': '8,393', '{{spend_category_3}}': '$7,968', '{{sales_category_3}}': '$16,559', '{{units_category_3}}': '3,091', '{{ROAS_category_3}}': '$2.08', '{{CPC_category_3}}': '$0.95'}\n",
      "Presentation updated successfully.\n"
     ]
    }
   ],
   "source": [
    "!python3 main3.py"
   ]
  },
  {
   "cell_type": "code",
   "execution_count": 90,
   "id": "325c58be-ff98-418b-9e39-1cdf87f5d421",
   "metadata": {},
   "outputs": [
    {
     "name": "stdout",
     "output_type": "stream",
     "text": [
      "Replacements: {'{{name}}': 'Albertsons', '{{impressions}}': '114,010,707', '{{clicks}}': '97,168', '{{spend}}': '$108,495', '{{sales}}': '$500,857', '{{units}}': '53,448', '{{ROAS}}': '$4.62', '{{CPC}}': '$1.12', '{{snapshot date}}': '2025-01-01 - 2025-05-1', '{{keyword}}': None, '{{BRAND NAME}}': \"Pilgrim's\"}\n",
      "Replacements: {'{{name}}': 'Albertsons', '{{impressions}}': '44,215,403', '{{clicks}}': '29,913', '{{spend}}': '$33,313', '{{sales}}': '$149,738', '{{units}}': '17,018', '{{ROAS}}': '$4.49', '{{CPC}}': '$1.11', '{{snapshot date}}': '2025-04-01 - 2025-04-30', '{{keyword}}': None, '{{BRAND NAME}}': \"Pilgrim's\"}\n",
      "Replacements: {'{{name}}': 'Albertsons', '{{impressions}}': '7,579,456', '{{clicks}}': '10,932', '{{spend}}': '$12,718', '{{sales}}': '$108,766', '{{units}}': '8,557', '{{ROAS}}': '$8.55', '{{CPC}}': '$1.16', '{{snapshot date}}': '2025-04-01 - 2025-04-30', '{{keyword}}': None, '{{BRAND NAME}}': \"Pilgrim's\", '{{impressions_lineitem_1}}': '36,635,947', '{{clicks_lineitem_1}}': '18,981', '{{spend_lineitem_1}}': '$20,595', '{{sales_lineitem_1}}': '$40,972', '{{units_lineitem_1}}': '8,461', '{{ROAS_lineitem_1}}': '$1.99', '{{CPC_lineitem_1}}': '$1.09', '{{name_lineitem_1}}': \"Pilgrim's_Pilgrims SPA 2024__June-December Pilgrims_XQ73169400521685\", '{{impressions_lineitem_2}}': '7,579,456', '{{clicks_lineitem_2}}': '10,932', '{{spend_lineitem_2}}': '$12,718', '{{sales_lineitem_2}}': '$108,766', '{{units_lineitem_2}}': '8,557', '{{ROAS_lineitem_2}}': '$8.55', '{{CPC_lineitem_2}}': '$1.16', '{{name_lineitem_2}}': \"Pilgrim's_Pilgrims SPA 2024__June-December Just Bare_XQ73169400521685\"}\n",
      "Replacements: {'{{name}}': 'Albertsons', '{{impressions}}': '167,209', '{{clicks}}': '1,400', '{{spend}}': '$1,619', '{{sales}}': '$10,448', '{{units}}': '870', '{{ROAS}}': '$6.45', '{{CPC}}': '$1.16', '{{snapshot date}}': '2025-04-01 - 2025-04-30', '{{keyword}}': None, '{{BRAND NAME}}': \"Pilgrim's\", '{{category_1}}': '3|chicken & turkey', '{{impressions_category_1}}': '33,065,082', '{{clicks_category_1}}': '20,120', '{{spend_category_1}}': '$23,725', '{{sales_category_1}}': '$122,682', '{{units_category_1}}': '13,047', '{{ROAS_category_1}}': '$5.17', '{{CPC_category_1}}': '$1.18', '{{category_2}}': '3|frozen meals', '{{impressions_category_2}}': '10,983,112', '{{clicks_category_2}}': '8,393', '{{spend_category_2}}': '$7,968', '{{sales_category_2}}': '$16,608', '{{units_category_2}}': '3,101', '{{ROAS_category_2}}': '$2.08', '{{CPC_category_2}}': '$0.95', '{{category_3}}': '3|chicken', '{{impressions_category_3}}': '167,209', '{{clicks_category_3}}': '1,400', '{{spend_category_3}}': '$1,619', '{{sales_category_3}}': '$10,448', '{{units_category_3}}': '870', '{{ROAS_category_3}}': '$6.45', '{{CPC_category_3}}': '$1.16'}\n",
      "Presentation updated successfully.\n"
     ]
    }
   ],
   "source": [
    "!python3 main3.py"
   ]
  },
  {
   "cell_type": "code",
   "execution_count": 91,
   "id": "10590e5a-2dc2-4cd9-ae46-68e0ed88d850",
   "metadata": {},
   "outputs": [
    {
     "name": "stdout",
     "output_type": "stream",
     "text": [
      "Replacements: {'{{name}}': 'Albertsons', '{{impressions}}': '114,010,707', '{{clicks}}': '97,168', '{{spend}}': '$108,495', '{{sales}}': '$500,857', '{{units}}': '53,448', '{{ROAS}}': '$4.62', '{{CPC}}': '$1.12', '{{snapshot date}}': '2025-01-01 - 2025-05-1', '{{keyword}}': None, '{{BRAND NAME}}': \"Pilgrim's\"}\n",
      "Replacements: {'{{name}}': 'Albertsons', '{{impressions}}': '44,215,403', '{{clicks}}': '29,913', '{{spend}}': '$33,313', '{{sales}}': '$149,738', '{{units}}': '17,018', '{{ROAS}}': '$4.49', '{{CPC}}': '$1.11', '{{snapshot date}}': '2025-04-01 - 2025-04-30', '{{keyword}}': None, '{{BRAND NAME}}': \"Pilgrim's\"}\n",
      "Replacements: {'{{name}}': 'Albertsons', '{{impressions}}': '7,579,456', '{{clicks}}': '10,932', '{{spend}}': '$12,718', '{{sales}}': '$108,766', '{{units}}': '8,557', '{{ROAS}}': '$8.55', '{{CPC}}': '$1.16', '{{snapshot date}}': '2025-04-01 - 2025-04-30', '{{keyword}}': None, '{{BRAND NAME}}': \"Pilgrim's\", '{{impressions_lineitem_1}}': '36,635,947', '{{clicks_lineitem_1}}': '18,981', '{{spend_lineitem_1}}': '$20,595', '{{sales_lineitem_1}}': '$40,972', '{{units_lineitem_1}}': '8,461', '{{ROAS_lineitem_1}}': '$1.99', '{{CPC_lineitem_1}}': '$1.09', '{{name_lineitem_1}}': \"Pilgrim's_Pilgrims SPA 2024__June-December Pilgrims_XQ73169400521685\", '{{impressions_lineitem_2}}': '7,579,456', '{{clicks_lineitem_2}}': '10,932', '{{spend_lineitem_2}}': '$12,718', '{{sales_lineitem_2}}': '$108,766', '{{units_lineitem_2}}': '8,557', '{{ROAS_lineitem_2}}': '$8.55', '{{CPC_lineitem_2}}': '$1.16', '{{name_lineitem_2}}': \"Pilgrim's_Pilgrims SPA 2024__June-December Just Bare_XQ73169400521685\"}\n",
      "Replacements: {'{{name}}': 'Albertsons', '{{impressions}}': '138,580', '{{clicks}}': '3,424', '{{spend}}': '$3,529', '{{sales}}': '$11,835', '{{units}}': '1,896', '{{ROAS}}': '$3.35', '{{CPC}}': '$1.03', '{{snapshot date}}': '2025-04-01 - 2025-04-30', '{{keyword}}': 'chicken nugget', '{{BRAND NAME}}': \"Pilgrim's\", '{{keyword_1}}': 'chicken nugget', '{{impressions_keyword_1}}': '138,580', '{{clicks_keyword_1}}': '3,424', '{{spend_keyword_1}}': '$3,529', '{{sales_keyword_1}}': '$11,835', '{{units_keyword_1}}': '1,896', '{{ROAS_keyword_1}}': '$3.35', '{{CPC_keyword_1}}': '$1.03', '{{keyword_2}}': 'breast chicken', '{{impressions_keyword_2}}': '319,100', '{{clicks_keyword_2}}': '2,782', '{{spend_keyword_2}}': '$3,096', '{{sales_keyword_2}}': '$8,695', '{{units_keyword_2}}': '764', '{{ROAS_keyword_2}}': '$2.81', '{{CPC_keyword_2}}': '$1.11', '{{keyword_3}}': 'chicken', '{{impressions_keyword_3}}': '354,433', '{{clicks_keyword_3}}': '2,123', '{{spend_keyword_3}}': '$2,137', '{{sales_keyword_3}}': '$6,839', '{{units_keyword_3}}': '854', '{{ROAS_keyword_3}}': '$3.20', '{{CPC_keyword_3}}': '$1.01', '{{keyword_4}}': 'chicken tender', '{{impressions_keyword_4}}': '64,177', '{{clicks_keyword_4}}': '1,417', '{{spend_keyword_4}}': '$1,629', '{{sales_keyword_4}}': '$10,408', '{{units_keyword_4}}': '806', '{{ROAS_keyword_4}}': '$6.39', '{{CPC_keyword_4}}': '$1.15', '{{keyword_5}}': 'bare chicken', '{{impressions_keyword_5}}': '14,397', '{{clicks_keyword_5}}': '1,110', '{{spend_keyword_5}}': '$1,329', '{{sales_keyword_5}}': '$10,083', '{{units_keyword_5}}': '783', '{{ROAS_keyword_5}}': '$7.58', '{{CPC_keyword_5}}': '$1.20', '{{keyword_6}}': 'bare chicken just', '{{impressions_keyword_6}}': '11,723', '{{clicks_keyword_6}}': '926', '{{spend_keyword_6}}': '$1,068', '{{sales_keyword_6}}': '$6,417', '{{units_keyword_6}}': '510', '{{ROAS_keyword_6}}': '$6.01', '{{CPC_keyword_6}}': '$1.15', '{{keyword_7}}': 'chicken strip', '{{impressions_keyword_7}}': '18,666', '{{clicks_keyword_7}}': '694', '{{spend_keyword_7}}': '$838', '{{sales_keyword_7}}': '$5,018', '{{units_keyword_7}}': '393', '{{ROAS_keyword_7}}': '$5.99', '{{CPC_keyword_7}}': '$1.21', '{{keyword_8}}': 'nugget', '{{impressions_keyword_8}}': '25,024', '{{clicks_keyword_8}}': '757', '{{spend_keyword_8}}': '$809', '{{sales_keyword_8}}': '$2,102', '{{units_keyword_8}}': '423', '{{ROAS_keyword_8}}': '$2.60', '{{CPC_keyword_8}}': '$1.07', '{{keyword_9}}': 'bare just', '{{impressions_keyword_9}}': '5,829', '{{clicks_keyword_9}}': '544', '{{spend_keyword_9}}': '$627', '{{sales_keyword_9}}': '$4,124', '{{units_keyword_9}}': '326', '{{ROAS_keyword_9}}': '$6.58', '{{CPC_keyword_9}}': '$1.15', '{{keyword_10}}': 'chicken frozen nugget', '{{impressions_keyword_10}}': '12,074', '{{clicks_keyword_10}}': '370', '{{spend_keyword_10}}': '$413', '{{sales_keyword_10}}': '$1,445', '{{units_keyword_10}}': '183', '{{ROAS_keyword_10}}': '$3.50', '{{CPC_keyword_10}}': '$1.12', '{{keyword_11}}': 'chicken pilgrim', '{{impressions_keyword_11}}': '4,346', '{{clicks_keyword_11}}': '410', '{{spend_keyword_11}}': '$403', '{{sales_keyword_11}}': '$744', '{{units_keyword_11}}': '177', '{{ROAS_keyword_11}}': '$1.84', '{{CPC_keyword_11}}': '$0.98', '{{keyword_12}}': 'chicken nugget pilgrim', '{{impressions_keyword_12}}': '3,173', '{{clicks_keyword_12}}': '327', '{{spend_keyword_12}}': '$322', '{{sales_keyword_12}}': '$782', '{{units_keyword_12}}': '172', '{{ROAS_keyword_12}}': '$2.42', '{{CPC_keyword_12}}': '$0.99', '{{keyword_13}}': 'chicken thigh', '{{impressions_keyword_13}}': '2,936', '{{clicks_keyword_13}}': '249', '{{spend_keyword_13}}': '$291', '{{sales_keyword_13}}': '$1,705', '{{units_keyword_13}}': '143', '{{ROAS_keyword_13}}': '$5.85', '{{CPC_keyword_13}}': '$1.17', '{{keyword_14}}': 'chicken free gluten nugget', '{{impressions_keyword_14}}': '3,776', '{{clicks_keyword_14}}': '292', '{{spend_keyword_14}}': '$289', '{{sales_keyword_14}}': '$110', '{{units_keyword_14}}': '19', '{{ROAS_keyword_14}}': '$0.38', '{{CPC_keyword_14}}': '$0.99', '{{keyword_15}}': 'chicken patty', '{{impressions_keyword_15}}': '28,494', '{{clicks_keyword_15}}': '234', '{{spend_keyword_15}}': '$240', '{{sales_keyword_15}}': '$457', '{{units_keyword_15}}': '76', '{{ROAS_keyword_15}}': '$1.90', '{{CPC_keyword_15}}': '$1.03'}\n",
      "Replacements: {'{{name}}': 'Albertsons', '{{impressions}}': '167,209', '{{clicks}}': '1,400', '{{spend}}': '$1,619', '{{sales}}': '$10,448', '{{units}}': '870', '{{ROAS}}': '$6.45', '{{CPC}}': '$1.16', '{{snapshot date}}': '2025-04-01 - 2025-04-30', '{{keyword}}': None, '{{BRAND NAME}}': \"Pilgrim's\", '{{category_1}}': '3|chicken & turkey', '{{impressions_category_1}}': '33,065,082', '{{clicks_category_1}}': '20,120', '{{spend_category_1}}': '$23,725', '{{sales_category_1}}': '$122,682', '{{units_category_1}}': '13,047', '{{ROAS_category_1}}': '$5.17', '{{CPC_category_1}}': '$1.18', '{{category_2}}': '3|frozen meals', '{{impressions_category_2}}': '10,983,112', '{{clicks_category_2}}': '8,393', '{{spend_category_2}}': '$7,968', '{{sales_category_2}}': '$16,608', '{{units_category_2}}': '3,101', '{{ROAS_category_2}}': '$2.08', '{{CPC_category_2}}': '$0.95', '{{category_3}}': '3|chicken', '{{impressions_category_3}}': '167,209', '{{clicks_category_3}}': '1,400', '{{spend_category_3}}': '$1,619', '{{sales_category_3}}': '$10,448', '{{units_category_3}}': '870', '{{ROAS_category_3}}': '$6.45', '{{CPC_category_3}}': '$1.16'}\n",
      "Presentation updated successfully.\n"
     ]
    }
   ],
   "source": [
    "!python3 main3.py"
   ]
  },
  {
   "cell_type": "code",
   "execution_count": 92,
   "id": "7afc0b35-6fe9-4271-92c6-a3bed95d2bae",
   "metadata": {},
   "outputs": [
    {
     "name": "stdout",
     "output_type": "stream",
     "text": [
      "Replacements: {'{{name}}': 'Albertsons', '{{impressions}}': '114,010,707', '{{clicks}}': '97,168', '{{spend}}': '$108,495', '{{sales}}': '$500,857', '{{units}}': '53,448', '{{ROAS}}': '$4.62', '{{CPC}}': '$1.12', '{{snapshot date}}': '2025-01-01 - 2025-05-1', '{{keyword}}': None, '{{BRAND NAME}}': \"Pilgrim's\"}\n",
      "Replacements: {'{{name}}': 'Albertsons', '{{impressions}}': '44,215,403', '{{clicks}}': '29,913', '{{spend}}': '$33,313', '{{sales}}': '$149,738', '{{units}}': '17,018', '{{ROAS}}': '$4.49', '{{CPC}}': '$1.11', '{{snapshot date}}': '2025-04-01 - 2025-04-30', '{{keyword}}': None, '{{BRAND NAME}}': \"Pilgrim's\"}\n",
      "Replacements: {'{{name}}': 'Albertsons', '{{impressions}}': '7,579,456', '{{clicks}}': '10,932', '{{spend}}': '$12,718', '{{sales}}': '$108,766', '{{units}}': '8,557', '{{ROAS}}': '$8.55', '{{CPC}}': '$1.16', '{{snapshot date}}': '2025-04-01 - 2025-04-30', '{{keyword}}': None, '{{BRAND NAME}}': \"Pilgrim's\", '{{impressions_lineitem_1}}': '36,635,947', '{{clicks_lineitem_1}}': '18,981', '{{spend_lineitem_1}}': '$20,595', '{{sales_lineitem_1}}': '$40,972', '{{units_lineitem_1}}': '8,461', '{{ROAS_lineitem_1}}': '$1.99', '{{CPC_lineitem_1}}': '$1.09', '{{name_lineitem_1}}': \"Pilgrim's_Pilgrims SPA 2024__June-December Pilgrims_XQ73169400521685\", '{{impressions_lineitem_2}}': '7,579,456', '{{clicks_lineitem_2}}': '10,932', '{{spend_lineitem_2}}': '$12,718', '{{sales_lineitem_2}}': '$108,766', '{{units_lineitem_2}}': '8,557', '{{ROAS_lineitem_2}}': '$8.55', '{{CPC_lineitem_2}}': '$1.16', '{{name_lineitem_2}}': \"Pilgrim's_Pilgrims SPA 2024__June-December Just Bare_XQ73169400521685\"}\n",
      "Replacements: {'{{name}}': 'Albertsons', '{{impressions}}': '138,580', '{{clicks}}': '3,424', '{{spend}}': '$3,529', '{{sales}}': '$11,835', '{{units}}': '1,896', '{{ROAS}}': '$3.35', '{{CPC}}': '$1.03', '{{snapshot date}}': '2025-04-01 - 2025-04-30', '{{keyword}}': 'chicken nugget', '{{BRAND NAME}}': \"Pilgrim's\", '{{keyword_1}}': 'chicken nugget', '{{impressions_keyword_1}}': '138,580', '{{clicks_keyword_1}}': '3,424', '{{spend_keyword_1}}': '$3,529', '{{sales_keyword_1}}': '$11,835', '{{units_keyword_1}}': '1,896', '{{ROAS_keyword_1}}': '$3.35', '{{CPC_keyword_1}}': '$1.03', '{{keyword_2}}': 'breast chicken', '{{impressions_keyword_2}}': '319,100', '{{clicks_keyword_2}}': '2,782', '{{spend_keyword_2}}': '$3,096', '{{sales_keyword_2}}': '$8,695', '{{units_keyword_2}}': '764', '{{ROAS_keyword_2}}': '$2.81', '{{CPC_keyword_2}}': '$1.11', '{{keyword_3}}': 'chicken', '{{impressions_keyword_3}}': '354,433', '{{clicks_keyword_3}}': '2,123', '{{spend_keyword_3}}': '$2,137', '{{sales_keyword_3}}': '$6,839', '{{units_keyword_3}}': '854', '{{ROAS_keyword_3}}': '$3.20', '{{CPC_keyword_3}}': '$1.01', '{{keyword_4}}': 'chicken tender', '{{impressions_keyword_4}}': '64,177', '{{clicks_keyword_4}}': '1,417', '{{spend_keyword_4}}': '$1,629', '{{sales_keyword_4}}': '$10,408', '{{units_keyword_4}}': '806', '{{ROAS_keyword_4}}': '$6.39', '{{CPC_keyword_4}}': '$1.15', '{{keyword_5}}': 'bare chicken', '{{impressions_keyword_5}}': '14,397', '{{clicks_keyword_5}}': '1,110', '{{spend_keyword_5}}': '$1,329', '{{sales_keyword_5}}': '$10,083', '{{units_keyword_5}}': '783', '{{ROAS_keyword_5}}': '$7.58', '{{CPC_keyword_5}}': '$1.20', '{{keyword_6}}': 'bare chicken just', '{{impressions_keyword_6}}': '11,723', '{{clicks_keyword_6}}': '926', '{{spend_keyword_6}}': '$1,068', '{{sales_keyword_6}}': '$6,417', '{{units_keyword_6}}': '510', '{{ROAS_keyword_6}}': '$6.01', '{{CPC_keyword_6}}': '$1.15', '{{keyword_7}}': 'chicken strip', '{{impressions_keyword_7}}': '18,666', '{{clicks_keyword_7}}': '694', '{{spend_keyword_7}}': '$838', '{{sales_keyword_7}}': '$5,018', '{{units_keyword_7}}': '393', '{{ROAS_keyword_7}}': '$5.99', '{{CPC_keyword_7}}': '$1.21', '{{keyword_8}}': 'nugget', '{{impressions_keyword_8}}': '25,024', '{{clicks_keyword_8}}': '757', '{{spend_keyword_8}}': '$809', '{{sales_keyword_8}}': '$2,102', '{{units_keyword_8}}': '423', '{{ROAS_keyword_8}}': '$2.60', '{{CPC_keyword_8}}': '$1.07', '{{keyword_9}}': 'bare just', '{{impressions_keyword_9}}': '5,829', '{{clicks_keyword_9}}': '544', '{{spend_keyword_9}}': '$627', '{{sales_keyword_9}}': '$4,124', '{{units_keyword_9}}': '326', '{{ROAS_keyword_9}}': '$6.58', '{{CPC_keyword_9}}': '$1.15', '{{keyword_10}}': 'chicken frozen nugget', '{{impressions_keyword_10}}': '12,074', '{{clicks_keyword_10}}': '370', '{{spend_keyword_10}}': '$413', '{{sales_keyword_10}}': '$1,445', '{{units_keyword_10}}': '183', '{{ROAS_keyword_10}}': '$3.50', '{{CPC_keyword_10}}': '$1.12', '{{keyword_11}}': 'chicken pilgrim', '{{impressions_keyword_11}}': '4,346', '{{clicks_keyword_11}}': '410', '{{spend_keyword_11}}': '$403', '{{sales_keyword_11}}': '$744', '{{units_keyword_11}}': '177', '{{ROAS_keyword_11}}': '$1.84', '{{CPC_keyword_11}}': '$0.98', '{{keyword_12}}': 'chicken nugget pilgrim', '{{impressions_keyword_12}}': '3,173', '{{clicks_keyword_12}}': '327', '{{spend_keyword_12}}': '$322', '{{sales_keyword_12}}': '$782', '{{units_keyword_12}}': '172', '{{ROAS_keyword_12}}': '$2.42', '{{CPC_keyword_12}}': '$0.99', '{{keyword_13}}': 'chicken thigh', '{{impressions_keyword_13}}': '2,936', '{{clicks_keyword_13}}': '249', '{{spend_keyword_13}}': '$291', '{{sales_keyword_13}}': '$1,705', '{{units_keyword_13}}': '143', '{{ROAS_keyword_13}}': '$5.85', '{{CPC_keyword_13}}': '$1.17', '{{keyword_14}}': 'chicken free gluten nugget', '{{impressions_keyword_14}}': '3,776', '{{clicks_keyword_14}}': '292', '{{spend_keyword_14}}': '$289', '{{sales_keyword_14}}': '$110', '{{units_keyword_14}}': '19', '{{ROAS_keyword_14}}': '$0.38', '{{CPC_keyword_14}}': '$0.99', '{{keyword_15}}': 'chicken patty', '{{impressions_keyword_15}}': '28,494', '{{clicks_keyword_15}}': '234', '{{spend_keyword_15}}': '$240', '{{sales_keyword_15}}': '$457', '{{units_keyword_15}}': '76', '{{ROAS_keyword_15}}': '$1.90', '{{CPC_keyword_15}}': '$1.03'}\n",
      "Replacements: {'{{name}}': 'Albertsons', '{{impressions}}': '10,983,112', '{{clicks}}': '8,393', '{{spend}}': '$7,968', '{{sales}}': '$16,608', '{{units}}': '3,101', '{{ROAS}}': '$2.08', '{{CPC}}': '$0.95', '{{snapshot date}}': '2025-04-01 - 2025-04-30', '{{keyword}}': None, '{{BRAND NAME}}': \"Pilgrim's\", '{{category_1}}': 'Category 1', '{{impressions_category_1}}': '33,065,082', '{{clicks_category_1}}': '20,120', '{{spend_category_1}}': '$23,725', '{{sales_category_1}}': '$122,682', '{{units_category_1}}': '13,047', '{{ROAS_category_1}}': '$5.17', '{{CPC_category_1}}': '$1.18', '{{category_2}}': 'Category 2', '{{impressions_category_2}}': '10,983,112', '{{clicks_category_2}}': '8,393', '{{spend_category_2}}': '$7,968', '{{sales_category_2}}': '$16,608', '{{units_category_2}}': '3,101', '{{ROAS_category_2}}': '$2.08', '{{CPC_category_2}}': '$0.95', '{{category_3}}': 'Category 3', '{{impressions_category_3}}': '167,209', '{{clicks_category_3}}': '1,400', '{{spend_category_3}}': '$1,619', '{{sales_category_3}}': '$10,448', '{{units_category_3}}': '870', '{{ROAS_category_3}}': '$6.45', '{{CPC_category_3}}': '$1.16'}\n",
      "Presentation updated successfully.\n"
     ]
    }
   ],
   "source": [
    "!python3 main3.py"
   ]
  },
  {
   "cell_type": "code",
   "execution_count": null,
   "id": "b2bab260-39cb-44c9-86c1-cbe81e6353c6",
   "metadata": {},
   "outputs": [],
   "source": []
  }
 ],
 "metadata": {
  "kernelspec": {
   "display_name": "Python 3 (ipykernel)",
   "language": "python",
   "name": "python3"
  },
  "language_info": {
   "codemirror_mode": {
    "name": "ipython",
    "version": 3
   },
   "file_extension": ".py",
   "mimetype": "text/x-python",
   "name": "python",
   "nbconvert_exporter": "python",
   "pygments_lexer": "ipython3",
   "version": "3.13.3"
  }
 },
 "nbformat": 4,
 "nbformat_minor": 5
}
